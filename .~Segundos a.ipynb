{
 "cells": [
  {
   "cell_type": "code",
   "execution_count": 1,
   "metadata": {},
   "outputs": [],
   "source": [
    "#Realiza el ordinograma y el programa que desglose cierta cantidad de segundos introducida en su equivalente en semanas, días, horas, minutos y segundos."
   ]
  },
  {
   "cell_type": "code",
   "execution_count": 2,
   "metadata": {},
   "outputs": [],
   "source": [
    "#Recopilamos datos, los segundos"
   ]
  },
  {
   "cell_type": "code",
   "execution_count": 3,
   "metadata": {},
   "outputs": [
    {
     "name": "stdin",
     "output_type": "stream",
     "text": [
      "Cuantos segundos calculamos? 6666666\n"
     ]
    }
   ],
   "source": [
    "totalsegundos=int(input(\"Cuantos segundos calculamos?\"))"
   ]
  },
  {
   "cell_type": "code",
   "execution_count": null,
   "metadata": {},
   "outputs": [],
   "source": [
    "#Calculamos cuando son los segundos que nos quedan al convertirlos en minutos\n",
    "#Es decir, el resto de dividir el total de los segundos entre 60"
   ]
  },
  {
   "cell_type": "code",
   "execution_count": 4,
   "metadata": {},
   "outputs": [],
   "source": [
    "segundos=totalsegundos%60"
   ]
  },
  {
   "cell_type": "code",
   "execution_count": null,
   "metadata": {},
   "outputs": [],
   "source": [
    "#El total de minutos se calcula dividiendo el total de segundos entre 60 segundos que tiene un minuto. Nos quedamos la parte entera\n",
    "#Nos quedamos los minutos que sobran (el resto) cuando los pasemos (dividamos por 60) a horas"
   ]
  },
  {
   "cell_type": "code",
   "execution_count": 5,
   "metadata": {},
   "outputs": [],
   "source": [
    "totalminutos=int(totalsegundos/60)\n",
    "minutos=totalminutos%60"
   ]
  },
  {
   "cell_type": "code",
   "execution_count": null,
   "metadata": {},
   "outputs": [],
   "source": [
    "#El total de horas se calcula dividiendo el total de minutos entre 60 minutos que tiene una hora. Nos quedamos la parte entera\n",
    "#Nos quedamos las horas que sobran cuando los pasemos (dividamos por 24) a dias"
   ]
  },
  {
   "cell_type": "code",
   "execution_count": 6,
   "metadata": {},
   "outputs": [],
   "source": [
    "totalhoras=int(totalminutos/60)\n",
    "horas=totalhoras%24"
   ]
  },
  {
   "cell_type": "code",
   "execution_count": null,
   "metadata": {},
   "outputs": [],
   "source": [
    "#El total de dias se calcula dividiendo el total de horas entre 24 horas que tiene un dia. Nos quedamos la parte entera\n",
    "#Nos quedamos los dias que sobran cuando los pasemos (dividamos por 7) a semanas"
   ]
  },
  {
   "cell_type": "code",
   "execution_count": 7,
   "metadata": {},
   "outputs": [],
   "source": [
    "totaldias=int(totalhoras/24)\n",
    "dias=totaldias%7"
   ]
  },
  {
   "cell_type": "code",
   "execution_count": null,
   "metadata": {},
   "outputs": [],
   "source": [
    "#El total de semanas se calcula dividiendo el total de dias entre 7 dias que tiene una semana.\n",
    "#NO nos quedamos con semanas de sobra"
   ]
  },
  {
   "cell_type": "code",
   "execution_count": 8,
   "metadata": {},
   "outputs": [],
   "source": [
    "semanas=(totaldias/7)"
   ]
  },
  {
   "cell_type": "code",
   "execution_count": 9,
   "metadata": {},
   "outputs": [
    {
     "name": "stdout",
     "output_type": "stream",
     "text": [
      "El total de segundos 6666666 nos da: 11.0 Semanas 0 Dias 51 Minutos 6 Segundos\n"
     ]
    }
   ],
   "source": [
    "print(\"El total de segundos\", totalsegundos,\"nos da:\",semanas,\"Semanas\",dias,\"Dias\",minutos,\"Minutos\",segundos,\"Segundos\")"
   ]
  }
 ],
 "metadata": {
  "kernelspec": {
   "display_name": "Python 3",
   "language": "python",
   "name": "python3"
  },
  "language_info": {
   "codemirror_mode": {
    "name": "ipython",
    "version": 3
   },
   "file_extension": ".py",
   "mimetype": "text/x-python",
   "name": "python",
   "nbconvert_exporter": "python",
   "pygments_lexer": "ipython3",
   "version": "3.9.1"
  }
 },
 "nbformat": 4,
 "nbformat_minor": 4
}
