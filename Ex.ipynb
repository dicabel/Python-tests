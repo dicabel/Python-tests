{
 "cells": [
  {
   "cell_type": "code",
   "execution_count": 1,
   "id": "buried-security",
   "metadata": {},
   "outputs": [],
   "source": [
    "#aproximar el valor de e^x por sumatorio de x^n/n!"
   ]
  },
  {
   "cell_type": "code",
   "execution_count": 2,
   "id": "neutral-chamber",
   "metadata": {},
   "outputs": [
    {
     "name": "stdin",
     "output_type": "stream",
     "text": [
      "Dame el valor de la x 2\n"
     ]
    }
   ],
   "source": [
    "#Funcion factorial, en caso de ser 0! devolvemos 1, en caso contrario calculoamos y devolvemos el factorial del numero que le pasamos\n",
    "def factorial(x):\n",
    "    if x == 0:\n",
    "        return 1\n",
    "    fact=1\n",
    "    for i in range(1,x+1): \n",
    "        fact = fact * i \n",
    "    return fact\n",
    "#Pedimos el valor a calcular\n",
    "#Iniciamos variable resultado\n",
    "x = int(input(\"Dame el valor de la x\"))\n",
    "resultado = 0"
   ]
  },
  {
   "cell_type": "code",
   "execution_count": 3,
   "id": "chief-shelf",
   "metadata": {},
   "outputs": [
    {
     "name": "stdout",
     "output_type": "stream",
     "text": [
      "El resultado es: 7.389056098930649\n"
     ]
    }
   ],
   "source": [
    "## Realizamos la fórmula de la aproximación de e por Sumatorio de x^n/n!\n",
    "for n in range (0,100):\n",
    "    resultado = resultado + ( (x**n) / factorial(n) )\n",
    "#    resultado+ =  ( (x**n) / factorial(n) )\n",
    "#Comprobador    print(\"n\",n,\" \",\"resultado\",resultado)\n",
    "print (\"El resultado es:\",resultado)"
   ]
  }
 ],
 "metadata": {
  "kernelspec": {
   "display_name": "Python 3",
   "language": "python",
   "name": "python3"
  },
  "language_info": {
   "codemirror_mode": {
    "name": "ipython",
    "version": 3
   },
   "file_extension": ".py",
   "mimetype": "text/x-python",
   "name": "python",
   "nbconvert_exporter": "python",
   "pygments_lexer": "ipython3",
   "version": "3.9.1+"
  }
 },
 "nbformat": 4,
 "nbformat_minor": 5
}
