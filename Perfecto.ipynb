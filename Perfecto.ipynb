{
 "cells": [
  {
   "cell_type": "code",
   "execution_count": 1,
   "metadata": {},
   "outputs": [],
   "source": [
    "#Dado nun número decir si es perfecto.\n",
    "#Dado un rango de nuemro decir cuales son perfectos"
   ]
  },
  {
   "cell_type": "code",
   "execution_count": 2,
   "metadata": {},
   "outputs": [],
   "source": [
    "#Pedimos el número"
   ]
  },
  {
   "cell_type": "code",
   "execution_count": 3,
   "metadata": {},
   "outputs": [
    {
     "name": "stdin",
     "output_type": "stream",
     "text": [
      "Introduce el número a calcular como perfecto 6\n"
     ]
    }
   ],
   "source": [
    "N=int(input(\"Introduce el número a calcular como perfecto\"))"
   ]
  },
  {
   "cell_type": "code",
   "execution_count": 4,
   "metadata": {},
   "outputs": [],
   "source": [
    "#Inicianmos Divisor que son los numeros menores que N y con los que realizaremos N%Divisor\n",
    "#Iniciamos Suma, si el resultado de N%Divisor es cero añadiremos Divisor a Suma"
   ]
  },
  {
   "cell_type": "code",
   "execution_count": 5,
   "metadata": {},
   "outputs": [],
   "source": [
    "Divisor=N\n",
    "Suma=int(0)"
   ]
  },
  {
   "cell_type": "code",
   "execution_count": 6,
   "metadata": {},
   "outputs": [
    {
     "name": "stdout",
     "output_type": "stream",
     "text": [
      "5 0 6\n",
      "_ 5 0 6\n",
      "4 0 6\n",
      "_ 4 0 6\n",
      "3 0 6\n",
      "_ 3 3 6\n",
      "2 3 6\n",
      "_ 2 5 6\n",
      "1 5 6\n",
      "_ 1 6 6\n",
      "1 6 6\n",
      "Tu número 6 es un número perfecto\n"
     ]
    }
   ],
   "source": [
    "#Cuando Divisor sea 1 acabamos\n",
    "while Divisor > 1:\n",
    "    Divisor=Divisor-1\n",
    "#Divisor va dismunuyeno 1 a 1 hasta que llega a 1\n",
    "    if (N%Divisor) == 0:\n",
    "#Si el resto de dividir N entre Divisor es 0 tenemos una división exacta, ese es un número que queremos, así que lo sumamos para ver si al final estas suman dan el número que elegimos\n",
    "        Suma=Suma+Divisor\n",
    "#Suma va añadiendo divisores exactos, en el último paso sumará 1\n",
    "    if (N == Suma):\n",
    "    print(\"Tu número\",N,\"es un número perfecto\")\n",
    "else: print(\"Tu número\",N,\" NO es un número perfecto. Puedes probar de nuevo\")"
   ]
  }
 ],
 "metadata": {
  "kernelspec": {
   "display_name": "Python 3",
   "language": "python",
   "name": "python3"
  },
  "language_info": {
   "codemirror_mode": {
    "name": "ipython",
    "version": 3
   },
   "file_extension": ".py",
   "mimetype": "text/x-python",
   "name": "python",
   "nbconvert_exporter": "python",
   "pygments_lexer": "ipython3",
   "version": "3.9.1+"
  }
 },
 "nbformat": 4,
 "nbformat_minor": 4
}
