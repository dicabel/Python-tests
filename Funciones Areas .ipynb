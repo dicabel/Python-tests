{
 "cells": [
  {
   "cell_type": "code",
   "execution_count": 1,
   "id": "peaceful-accused",
   "metadata": {},
   "outputs": [],
   "source": [
    "#Menú con opciones para llamar a funciones que devuelven el cálculo\n",
    "#Una vez devuelto se muestra por pantalla"
   ]
  },
  {
   "cell_type": "code",
   "execution_count": 2,
   "id": "demanding-petroleum",
   "metadata": {},
   "outputs": [],
   "source": [
    "import math "
   ]
  },
  {
   "cell_type": "code",
   "execution_count": 3,
   "id": "driven-removal",
   "metadata": {},
   "outputs": [],
   "source": [
    "def areatriangulo(base,altura):\n",
    "    return base*altura/2"
   ]
  },
  {
   "cell_type": "code",
   "execution_count": 4,
   "id": "eastern-agent",
   "metadata": {},
   "outputs": [],
   "source": [
    "def arearectangulo(lado1,lado2):\n",
    "    return lado1*lado2"
   ]
  },
  {
   "cell_type": "code",
   "execution_count": 5,
   "id": "enormous-charleston",
   "metadata": {},
   "outputs": [],
   "source": [
    "def areapolregular(NumeroLados,Lado,Apotema):\n",
    "    return NumeroLados*Lado*Apotema/2"
   ]
  },
  {
   "cell_type": "code",
   "execution_count": 6,
   "id": "annual-porter",
   "metadata": {},
   "outputs": [],
   "source": [
    "def areacirculo(radio):\n",
    "    return 2*math.pi*radio"
   ]
  },
  {
   "cell_type": "code",
   "execution_count": 7,
   "id": "capital-leadership",
   "metadata": {},
   "outputs": [],
   "source": [
    "def volumenisocadro(arista):\n",
    "    return 5/12*(3+math.sqrt(5))*arista**3"
   ]
  },
  {
   "cell_type": "code",
   "execution_count": 8,
   "id": "occasional-danish",
   "metadata": {},
   "outputs": [
    {
     "name": "stdin",
     "output_type": "stream",
     "text": [
      "0 Salir, 1 Área del triangulo, 2 Área rectángulo, 3 Área polígono regular. 4 Área del círculo, 5 Volumen Isocaedro  0\n"
     ]
    },
    {
     "name": "stdout",
     "output_type": "stream",
     "text": [
      "....A10\n"
     ]
    }
   ],
   "source": [
    "opcion=99\n",
    "while opcion !=0:\n",
    "    opcion=int(input(\"0 Salir, 1 Área del triangulo, 2 Área rectángulo, 3 Área polígono regular. 4 Área del círculo, 5 Volumen Isocaedro \"))\n",
    "    if opcion == 1: \n",
    "        base=float(input(\"Dame la base del triángulo\"))\n",
    "        altura=float(input(\"Dame la altura del triángulo\")) \n",
    "        print(\"El área del triángulo es\",areatriangulo(base,altura))\n",
    "    elif opcion == 2: \n",
    "        lado1=float(input(\"Dame un lado del rectángulo\"))\n",
    "        lado2=float(input(\"Dame el otro lado del rectángulo\"))        \n",
    "        print(\"El área del rectángulo es\",arearectangulo(lado1,lado2))\n",
    "    elif opcion == 3:\n",
    "        numerolados=float(input(\"Dame el número de lados del polígono regular de más de 4 lados\"))\n",
    "        lado=float(input(\"Dame el valor del lado\"))\n",
    "        apotema=float(input(\"Dame el valor del apotema\"))\n",
    "        print(\"El área del polígono regular de\",numerolados,\"lados es\",areapolregular(numerolados,lado,apotema))        \n",
    "    elif opcion == 4:\n",
    "        radio=float(input(\"Dame el radio del círculo\"))\n",
    "        print(\"El área del círculo de radio\",radio,\"es\",areacirculo(radio))\n",
    "    elif opcion == 5:\n",
    "        arista=float(input(\"Dame la arista del isocaedro\"))\n",
    "        print(\"El volumen del isocaedro con arista\",arista,\"es\",volumenisocadro(arista))               \n",
    "\n",
    "        \n",
    "print(\"....A10\")"
   ]
  }
 ],
 "metadata": {
  "kernelspec": {
   "display_name": "Python 3",
   "language": "python",
   "name": "python3"
  },
  "language_info": {
   "codemirror_mode": {
    "name": "ipython",
    "version": 3
   },
   "file_extension": ".py",
   "mimetype": "text/x-python",
   "name": "python",
   "nbconvert_exporter": "python",
   "pygments_lexer": "ipython3",
   "version": "3.9.1+"
  }
 },
 "nbformat": 4,
 "nbformat_minor": 5
}
