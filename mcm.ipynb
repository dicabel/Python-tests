{
 "cells": [
  {
   "cell_type": "code",
   "execution_count": 1,
   "id": "administrative-somalia",
   "metadata": {},
   "outputs": [],
   "source": [
    "#Dados dos números naturales calcula el mcm\n",
    "#A partir del MCD de dos números naturales N1 y N2 podemos calcular el mcm como mcm(N1,N2) = (N1*N2) / MCD(N1,N2)"
   ]
  },
  {
   "cell_type": "code",
   "execution_count": 2,
   "id": "atmospheric-collaboration",
   "metadata": {},
   "outputs": [],
   "source": [
    "#Pedimos los dos números naturales"
   ]
  },
  {
   "cell_type": "code",
   "execution_count": 3,
   "id": "joined-business",
   "metadata": {},
   "outputs": [
    {
     "name": "stdin",
     "output_type": "stream",
     "text": [
      "Dame el primer número natural 5\n",
      "Dame el segundo número natural 33\n"
     ]
    }
   ],
   "source": [
    "N1=-1\n",
    "while N1<0:\n",
    "    N1=int(input(\"Dame el primer número natural\"))\n",
    "N2=-1\n",
    "while N2<0:\n",
    "    N2=int(input(\"Dame el segundo número natural\"))                 "
   ]
  },
  {
   "cell_type": "code",
   "execution_count": 4,
   "id": "tutorial-premises",
   "metadata": {},
   "outputs": [],
   "source": [
    "#Escogemos el menor de los dos para el bucle\n",
    "#MCD nunca será mayor que el menor de los dos números a los que se refiere\n",
    "menor=N1\n",
    "if N2<menor:\n",
    "    menor=N2"
   ]
  },
  {
   "cell_type": "code",
   "execution_count": 5,
   "id": "rolled-companion",
   "metadata": {},
   "outputs": [],
   "source": [
    "#El MCD es el mayor de los números que es divisible exacto de los otros dos números\n",
    "#Si N1%MCD es cero es divisible exacto y si también N2%MCD es cero tambíén lo es\n",
    "for i in range(1,menor):\n",
    "    if (N1%i==0 and N2%i==0):\n",
    "        MCD=i\n",
    "        mcm=int((N1*N2)/MCD)"
   ]
  },
  {
   "cell_type": "code",
   "execution_count": 6,
   "id": "greater-danger",
   "metadata": {},
   "outputs": [
    {
     "name": "stdout",
     "output_type": "stream",
     "text": [
      "El mcm de 5 y 33 es 165\n"
     ]
    }
   ],
   "source": [
    "print(\"El mcm de\",N1,\"y\",N2,\"es\",mcm)"
   ]
  }
 ],
 "metadata": {
  "kernelspec": {
   "display_name": "Python 3",
   "language": "python",
   "name": "python3"
  },
  "language_info": {
   "codemirror_mode": {
    "name": "ipython",
    "version": 3
   },
   "file_extension": ".py",
   "mimetype": "text/x-python",
   "name": "python",
   "nbconvert_exporter": "python",
   "pygments_lexer": "ipython3",
   "version": "3.9.1+"
  }
 },
 "nbformat": 4,
 "nbformat_minor": 5
}
