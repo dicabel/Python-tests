{
 "cells": [
  {
   "cell_type": "code",
   "execution_count": 1,
   "id": "preliminary-intention",
   "metadata": {},
   "outputs": [],
   "source": [
    "#Funciones de mcm, mcd, simplificacion, \n",
    "#Leer fracción que cumpla: sin denominador 0 y algo de numeros primos\n",
    "#Escribe fracción\n",
    "#Suma, resta, multiplicación y división de fracciones"
   ]
  },
  {
   "cell_type": "code",
   "execution_count": 2,
   "id": "under-activity",
   "metadata": {},
   "outputs": [],
   "source": [
    "def menu():\n",
    "    print (\"1. Cálculo mcd\")\n",
    "    print (\"2. Cálculo mcm\")\n",
    "    print (\"3. Simplificación fracción\")\n",
    "    print (\"4. Lee una fracción\")\n",
    "    print (\"5. Escribe una fracción\")\n",
    "    print (\"6. Suma dos fracciones\")\n",
    "    print (\"7. Resta dos fracciones\")\n",
    "    print (\"8. Multiplica dos fracciones\")\n",
    "    print (\"9. Divide dos fracciones\")\n",
    "    print (\"0. Salir del menu\")\n",
    "    opcion=int(input(\"Elige opción\"))\n",
    "    return opcion"
   ]
  },
  {
   "cell_type": "code",
   "execution_count": 3,
   "id": "clinical-christianity",
   "metadata": {},
   "outputs": [],
   "source": [
    "def mcd(fr1d,fr2d):\n",
    "    menor=fr1d\n",
    "    if fr2d<menor:\n",
    "        menor=fr2d\n",
    "    for i in range(1,menor+1):\n",
    "        if (fr1d%i==0 and fr2d%i==0):\n",
    "            mcd=i\n",
    "    return mcd"
   ]
  },
  {
   "cell_type": "code",
   "execution_count": 4,
   "id": "crucial-biography",
   "metadata": {},
   "outputs": [],
   "source": [
    "def mcm(fr1d,fr2d):\n",
    "    mcdiv=mcd(fr1d,fr2d)\n",
    "    mcmul=int((fr1d*fr2d)/ mcdiv)\n",
    "    return mcmul"
   ]
  },
  {
   "cell_type": "code",
   "execution_count": 5,
   "id": "individual-reflection",
   "metadata": {},
   "outputs": [],
   "source": [
    "def simply(fr1n,fr1d):          #Simplificamos la fracción utilizando mcd, devolvemos numerador (fr1n) y denominador (fr1d) con valores mínimos\n",
    "    mcdiv=mcd(fr1n,fr1d)\n",
    "    fr1n/=mcdiv\n",
    "    fr1d/=mcdiv\n",
    "    return int(fr1n),int(fr1d)"
   ]
  },
  {
   "cell_type": "code",
   "execution_count": 6,
   "id": "convinced-edward",
   "metadata": {},
   "outputs": [],
   "source": [
    "def leefr():                     #Pedimos los valores del numerador (fr_n) y denominador (fr_d) de la fracción y los devolvemos\n",
    "    fr_n=int(input(\"Numerador de la fracción\"))\n",
    "    fr_d=int(0)\n",
    "    while fr_d == 0:             #Pedimos que el denominador no sea 0, comprobando su valor\n",
    "        fr_d=int(input(\"Denominador de la fracción, no puede ser cero\"))\n",
    "    return fr_n,fr_d"
   ]
  },
  {
   "cell_type": "code",
   "execution_count": 7,
   "id": "coral-welcome",
   "metadata": {},
   "outputs": [],
   "source": [
    "def escribefr(fr_n,fr_d):                 #Mostramos por pantalla los valores de la fracción\n",
    "    print(fr_n,\"/\",fr_d)"
   ]
  },
  {
   "cell_type": "code",
   "execution_count": 8,
   "id": "verified-hamilton",
   "metadata": {},
   "outputs": [],
   "source": [
    "def sumafr(fr1n,fr1d,fr2n,fr2d):\n",
    "    mcmul=mcm(fr1d,fr2d)\n",
    "    fr_n=int(mcmul*fr1n/fr1d + mcmul*fr2n/fr2d)\n",
    "    fr_d=int(mcmul)\n",
    "    return fr_n,fr_d"
   ]
  },
  {
   "cell_type": "code",
   "execution_count": 9,
   "id": "explicit-charleston",
   "metadata": {},
   "outputs": [],
   "source": [
    "def restafr(fr1n,fr1d,fr2n,fr2d):\n",
    "    mcmul=mcm(fr1d,fr2d)\n",
    "    fr_n=int(mcmul*fr1n/fr1d - mcmul*fr2n/fr2d)\n",
    "    fr_d=int(mcmul)\n",
    "    return fr_n,fr_d"
   ]
  },
  {
   "cell_type": "code",
   "execution_count": 10,
   "id": "occasional-sister",
   "metadata": {},
   "outputs": [],
   "source": [
    "def multifr(fr1n,fr1d,fr2n,fr2d):\n",
    "    fr_n=int(fr1n*fr2n)\n",
    "    fr_d=int(fr1d*fr2d)\n",
    "    return fr_n,fr_d"
   ]
  },
  {
   "cell_type": "code",
   "execution_count": 11,
   "id": "postal-programmer",
   "metadata": {},
   "outputs": [],
   "source": [
    "#Vamos a multiplicar con el segundo inverso\n",
    "def divfr(fr1n,fr1d,fr2n,fr2d):\n",
    "    fr_n=int(fr1n*fr2d)\n",
    "    fr_d=int(fr2n*fr1d)\n",
    "    return fr_n,fr_d"
   ]
  },
  {
   "cell_type": "code",
   "execution_count": 12,
   "id": "eligible-universe",
   "metadata": {},
   "outputs": [],
   "source": [
    "#Llamando a las funciones"
   ]
  },
  {
   "cell_type": "code",
   "execution_count": null,
   "id": "likely-manner",
   "metadata": {},
   "outputs": [
    {
     "name": "stdout",
     "output_type": "stream",
     "text": [
      "1. Cálculo mcd\n",
      "2. Cálculo mcm\n",
      "3. Simplificación fracción\n",
      "4. Lee una fracción\n",
      "5. Escribe una fracción\n",
      "6. Suma dos fracciones\n",
      "7. Resta dos fracciones\n",
      "8. Multiplica dos fracciones\n",
      "9. Divide dos fracciones\n",
      "0. Salir del menu\n"
     ]
    },
    {
     "name": "stdin",
     "output_type": "stream",
     "text": [
      "Elige opción 6\n"
     ]
    },
    {
     "name": "stdout",
     "output_type": "stream",
     "text": [
      "1. Primera fracción\n"
     ]
    },
    {
     "name": "stdin",
     "output_type": "stream",
     "text": [
      "Numerador de la fracción 1\n",
      "Denominador de la fracción, no puede ser cero 2\n"
     ]
    },
    {
     "name": "stdout",
     "output_type": "stream",
     "text": [
      "2. Segunda fracción\n"
     ]
    },
    {
     "name": "stdin",
     "output_type": "stream",
     "text": [
      "Numerador de la fracción 2\n",
      "Denominador de la fracción, no puede ser cero 2\n"
     ]
    },
    {
     "name": "stdout",
     "output_type": "stream",
     "text": [
      "La suma de 1 / 2  y  2 / 2  es: 3 / 2\n",
      "1 / 2\n",
      "2 / 2\n",
      "3 / 2\n",
      "La suma de None  y  None  es: None\n",
      "1. Cálculo mcd\n",
      "2. Cálculo mcm\n",
      "3. Simplificación fracción\n",
      "4. Lee una fracción\n",
      "5. Escribe una fracción\n",
      "6. Suma dos fracciones\n",
      "7. Resta dos fracciones\n",
      "8. Multiplica dos fracciones\n",
      "9. Divide dos fracciones\n",
      "0. Salir del menu\n"
     ]
    }
   ],
   "source": [
    "### Las fraciones las vamos a escribir con 'n' (la parte del numerador) y con 'd'(la parte del denominador). Así fr1n se referirá al numerador de la fracción 1\n",
    "opcion=int(99)\n",
    "while opcion != 0:\n",
    "    opcion=menu()\n",
    "    if opcion == 1:\n",
    "        print(\"1. Primera fracción\")\n",
    "        fr1n,fr1d=leefr()\n",
    "        print(\"2. Segunda fracción\")\n",
    "        fr2n,fr2d=leefr()\n",
    "        mcd=mcd(fr1d,fr2d)\n",
    "        print(\"mcd es\",mcd)\n",
    "    elif opcion == 2:\n",
    "        print(\"1. Primera fracción\")\n",
    "        fr1n,fr1d=leefr()\n",
    "        print(\"2. Segunda fracción\")\n",
    "        fr2n,fr2d=leefr()\n",
    "        mcm=mcm(fr1d,fr2d)\n",
    "        print(\"mcm es\",mcm)   \n",
    "    elif opcion == 3:          #Simplifica una fracción\n",
    "        print(\"1. Primera fracción\")\n",
    "        fr1n,fr1d=leefr()\n",
    "        fr1n,fr1d=simply(fr1n,fr1d)\n",
    "        print(\"La fracción simplificada es\",escribefr(fr1n,fr1d))  \n",
    "    elif opcion == 4:          #Lee una fracción\n",
    "        escribefr(leerfr()) \n",
    "    elif opcion == 5:          #Escribe una fracción\n",
    "        escribefr(leerfr())   \n",
    "    elif opcion == 6:          #Suma dos fracciones\n",
    "        print(\"1. Primera fracción\")\n",
    "        fr1n,fr1d=leefr()\n",
    "        print(\"2. Segunda fracción\")\n",
    "        fr2n,fr2d=leefr()\n",
    "#Sumamos y simplificamos\n",
    "        fr_n,fr_d=sumafr(fr1n,fr1d,fr2n,fr2d)\n",
    "        fr_n,fr_d=simply(fr_n,fr_d)\n",
    "        print(\"La suma de\",fr1n,\"/\",fr1d,\" y \",fr2n,\"/\",fr2d,\" es:\",fr_n,\"/\",fr_d)\n",
    "        print(\"La suma de\",escribefr(fr1n,fr1d),\" y \",escribefr(fr2n,fr2d),\" es:\",escribefr(fr_n,fr_d))\n",
    "    elif opcion == 7:          #Resta dos fracciones\n",
    "        print(\"1. Primera fracción\")\n",
    "        fr1n,fr1d=leefr()\n",
    "        print(\"2. Segunda fracción\")\n",
    "        fr2n,fr2d=leefr()\n",
    "#Restamos y simplificamos\n",
    "        fr_n,fr_d=restafr(fr1n,fr1d,fr2n,fr2d)\n",
    "        fr_n,fr_d=simply(fr_n,fr_d)\n",
    "        print(\"La resta de\",fr1n,\"/\",fr1d,\" y \",fr2n,\"/\",fr2d,\" es:\",fr_n,\"/\",fr_d)\n",
    "    elif opcion == 8:          #Multiplica dos fracciones\n",
    "        print(\"1. Primera fracción\")\n",
    "        fr1n,fr1d=leefr()\n",
    "        print(\"2. Segunda fracción\")\n",
    "        fr2n,fr2d=leefr()\n",
    "#Multiplicamos y simplificamos\n",
    "        fr_n,fr_d=multifr(fr1n,fr1d,fr2n,fr2d)\n",
    "        fr_n,fr_d=simply(fr_n,fr_d)\n",
    "        print(\"La multiplicación de\",fr1n,\"/\",fr1d,\" y \",fr2n,\"/\",fr2d,\" es:\",fr_n,\"/\",fr_d)\n",
    "    elif opcion == 9:          #Divide dos fracciones\n",
    "        print(\"1. Primera fracción\")\n",
    "        fr1n,fr1d=leefr()\n",
    "        print(\"2. Segunda fracción\")\n",
    "        fr2n,fr2d=leefr()\n",
    "#Dividimos (multiplicamos en cruz las dos fracciones) y simplificamos\n",
    "        fr_n,fr_d=divfr(fr1n,fr1d,fr2n,fr2d)\n",
    "        fr_n,fr_d=simply(fr_n,fr_d)\n",
    "        print(\"La división de\",fr1n,\"/\",fr1d,\" y \",fr2n,\"/\",fr2d,\" es:\",fr_n,\"/\",fr_d)"
   ]
  },
  {
   "cell_type": "code",
   "execution_count": null,
   "id": "subsequent-quebec",
   "metadata": {},
   "outputs": [],
   "source": [
    " #      print(\"La suma de\")\n",
    " #       print(escribefr(fr1n,fr1d))\n",
    " #       print(\"y de\")\n",
    " #       print(escribefr(fr2n,fr2d))\n",
    " #       print(\"es\")\n",
    " #       print(escribefr(fr_n,fr_d)) "
   ]
  },
  {
   "cell_type": "code",
   "execution_count": null,
   "id": "regional-alexandria",
   "metadata": {},
   "outputs": [],
   "source": []
  }
 ],
 "metadata": {
  "kernelspec": {
   "display_name": "Python 3",
   "language": "python",
   "name": "python3"
  },
  "language_info": {
   "codemirror_mode": {
    "name": "ipython",
    "version": 3
   },
   "file_extension": ".py",
   "mimetype": "text/x-python",
   "name": "python",
   "nbconvert_exporter": "python",
   "pygments_lexer": "ipython3",
   "version": "3.9.1+"
  }
 },
 "nbformat": 4,
 "nbformat_minor": 5
}
