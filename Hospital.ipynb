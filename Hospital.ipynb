{
 "cells": [
  {
   "cell_type": "code",
   "execution_count": 1,
   "id": "three-saturday",
   "metadata": {},
   "outputs": [],
   "source": [
    "#Realiza que gestione un hospital. Menu con añadir, modificar y eliminar paciente"
   ]
  },
  {
   "cell_type": "code",
   "execution_count": 2,
   "id": "selective-candle",
   "metadata": {},
   "outputs": [],
   "source": [
    "import time"
   ]
  },
  {
   "cell_type": "code",
   "execution_count": 3,
   "id": "hispanic-concert",
   "metadata": {},
   "outputs": [],
   "source": [
    "def menu():\n",
    "    print (\"1. Añadir paciente\")\n",
    "    print (\"2. Modificar paciente\")\n",
    "    print (\"3. Eliminar paciente\")\n",
    "    print (\"4. Estado paciente\")\n",
    "    print (\"7. Listar pacientes\")\n",
    "    print (\"8. Buscar paciente\")\n",
    "    print (\"0. Salir del menu\")\n",
    "    opcion=int(input(\"Elige opción\"))\n",
    "    return opcion"
   ]
  },
  {
   "cell_type": "code",
   "execution_count": 4,
   "id": "female-framework",
   "metadata": {},
   "outputs": [],
   "source": [
    "#Campos del paciente: Nombre, fecha nacimiento, ID único (pej DNI), telefono (para avisar al paciente),  contacto (Tlf o email para contactar con un familiar), estado (alta,baja,opreacion), fecha ingreso, fecha alta"
   ]
  },
  {
   "cell_type": "code",
   "execution_count": 5,
   "id": "satisfactory-layer",
   "metadata": {},
   "outputs": [],
   "source": [
    "def alta(pacientes):\n",
    "    ID = input (\"Introduce ID (DNI, etc)\")\n",
    "    nombre = input (\"Introduce apellidos y nombre (separados por coma)\")\n",
    "    tlf = input (\"Introduce teléfono del paciente\")\n",
    "    contacto  = input (\"Introduce datos del contacto del paciente, nombre, tlf, etc\")\n",
    "    estado = input (\"Introduce el estado del paciente o afección o motivo\")\n",
    "    fecha_ingreso = time.strftime(\"%c\")\n",
    "    fecha_salida = 0          #Mientras la fecha de salida es 0 es que está ingresado\n",
    "    return ID,nombre,tlf,contacto,estado,fecha_ingreso,fecha_salida"
   ]
  },
  {
   "cell_type": "code",
   "execution_count": 6,
   "id": "worst-weekend",
   "metadata": {},
   "outputs": [],
   "source": [
    "def alta2(pacientes):\n",
    "    pacientes.append(input (\"Introduce ID (DNI, etc)\"))\n",
    "    pacientes.append(input (\"Introduce apellidos y nombre (separados por coma)\"))\n",
    "    pacientes.append(input (\"Introduce teléfono del paciente\"))\n",
    "    pacientes.append(input (\"Introduce datos del contacto del paciente, nombre, tlf, etc\"))\n",
    "    pacientes.append(input (\"Introduce el estado del paciente o afección o motivo\"))\n",
    "    pacientes.append(time.strftime(\"%c\"))\n",
    "    pacientes.append(int(0))          #Mientras la fecha de salida es 0 es que está ingresado\n",
    "    return pacientes"
   ]
  },
  {
   "cell_type": "code",
   "execution_count": 7,
   "id": "peripheral-faculty",
   "metadata": {},
   "outputs": [],
   "source": [
    "def listar_pacientes(pacientes):\n",
    "    pos=0\n",
    "    cuantospacients=len(pacientes)/7\n",
    "    for i in range (cuantospacientes):           #Recorremos la lista de tres en tres\n",
    "        print(\"ID: \",pacientes[pos]/n,\"Nombre: \",pacientes[pos+1])\n",
    "        pos+=7    # Tenemos 7 campos"
   ]
  },
  {
   "cell_type": "code",
   "execution_count": 8,
   "id": "lyric-singer",
   "metadata": {},
   "outputs": [
    {
     "name": "stdout",
     "output_type": "stream",
     "text": [
      "1. Añadir paciente\n",
      "2. Modificar paciente\n",
      "3. Eliminar paciente\n",
      "4. Estado paciente\n",
      "7. Listar pacientes\n",
      "8. Buscar paciente\n",
      "0. Salir del menu\n"
     ]
    },
    {
     "name": "stdin",
     "output_type": "stream",
     "text": [
      "Elige opción 7\n"
     ]
    },
    {
     "ename": "NameError",
     "evalue": "name 'cuantospacientes' is not defined",
     "output_type": "error",
     "traceback": [
      "\u001b[0;31m---------------------------------------------------------------------------\u001b[0m",
      "\u001b[0;31mNameError\u001b[0m                                 Traceback (most recent call last)",
      "\u001b[0;32m<ipython-input-8-67393b53c7a9>\u001b[0m in \u001b[0;36m<module>\u001b[0;34m\u001b[0m\n\u001b[1;32m     12\u001b[0m         \u001b[0mestado_paciente\u001b[0m\u001b[0;34m(\u001b[0m\u001b[0mpacientes\u001b[0m\u001b[0;34m)\u001b[0m\u001b[0;34m\u001b[0m\u001b[0;34m\u001b[0m\u001b[0m\n\u001b[1;32m     13\u001b[0m     \u001b[0;32melif\u001b[0m \u001b[0mopcion\u001b[0m \u001b[0;34m==\u001b[0m \u001b[0;36m7\u001b[0m\u001b[0;34m:\u001b[0m\u001b[0;34m\u001b[0m\u001b[0;34m\u001b[0m\u001b[0m\n\u001b[0;32m---> 14\u001b[0;31m         \u001b[0mlistar_pacientes\u001b[0m\u001b[0;34m(\u001b[0m\u001b[0mpacientes\u001b[0m\u001b[0;34m)\u001b[0m\u001b[0;34m\u001b[0m\u001b[0;34m\u001b[0m\u001b[0m\n\u001b[0m\u001b[1;32m     15\u001b[0m     \u001b[0;32melif\u001b[0m \u001b[0mopcion\u001b[0m \u001b[0;34m==\u001b[0m \u001b[0;36m8\u001b[0m\u001b[0;34m:\u001b[0m\u001b[0;34m\u001b[0m\u001b[0;34m\u001b[0m\u001b[0m\n\u001b[1;32m     16\u001b[0m         \u001b[0mbuscar_paciente\u001b[0m\u001b[0;34m(\u001b[0m\u001b[0mpacientes\u001b[0m\u001b[0;34m)\u001b[0m\u001b[0;34m\u001b[0m\u001b[0;34m\u001b[0m\u001b[0m\n",
      "\u001b[0;32m<ipython-input-7-837c5a28b25b>\u001b[0m in \u001b[0;36mlistar_pacientes\u001b[0;34m(pacientes)\u001b[0m\n\u001b[1;32m      2\u001b[0m     \u001b[0mpos\u001b[0m\u001b[0;34m=\u001b[0m\u001b[0;36m0\u001b[0m\u001b[0;34m\u001b[0m\u001b[0;34m\u001b[0m\u001b[0m\n\u001b[1;32m      3\u001b[0m     \u001b[0mcuantospacients\u001b[0m\u001b[0;34m=\u001b[0m\u001b[0mlen\u001b[0m\u001b[0;34m(\u001b[0m\u001b[0mpacientes\u001b[0m\u001b[0;34m)\u001b[0m\u001b[0;34m/\u001b[0m\u001b[0;36m7\u001b[0m\u001b[0;34m\u001b[0m\u001b[0;34m\u001b[0m\u001b[0m\n\u001b[0;32m----> 4\u001b[0;31m     \u001b[0;32mfor\u001b[0m \u001b[0mi\u001b[0m \u001b[0;32min\u001b[0m \u001b[0mrange\u001b[0m \u001b[0;34m(\u001b[0m\u001b[0mcuantospacientes\u001b[0m\u001b[0;34m)\u001b[0m\u001b[0;34m:\u001b[0m           \u001b[0;31m#Recorremos la lista de tres en tres\u001b[0m\u001b[0;34m\u001b[0m\u001b[0;34m\u001b[0m\u001b[0m\n\u001b[0m\u001b[1;32m      5\u001b[0m         \u001b[0mprint\u001b[0m\u001b[0;34m(\u001b[0m\u001b[0;34m\"ID: \"\u001b[0m\u001b[0;34m,\u001b[0m\u001b[0mpacientes\u001b[0m\u001b[0;34m[\u001b[0m\u001b[0mpos\u001b[0m\u001b[0;34m]\u001b[0m\u001b[0;34m/\u001b[0m\u001b[0mn\u001b[0m\u001b[0;34m,\u001b[0m\u001b[0;34m\"Nombre: \"\u001b[0m\u001b[0;34m,\u001b[0m\u001b[0mpacientes\u001b[0m\u001b[0;34m[\u001b[0m\u001b[0mpos\u001b[0m\u001b[0;34m+\u001b[0m\u001b[0;36m1\u001b[0m\u001b[0;34m]\u001b[0m\u001b[0;34m)\u001b[0m\u001b[0;34m\u001b[0m\u001b[0;34m\u001b[0m\u001b[0m\n\u001b[1;32m      6\u001b[0m         \u001b[0mpos\u001b[0m\u001b[0;34m+=\u001b[0m\u001b[0;36m7\u001b[0m    \u001b[0;31m# Tenemos 7 campos\u001b[0m\u001b[0;34m\u001b[0m\u001b[0;34m\u001b[0m\u001b[0m\n",
      "\u001b[0;31mNameError\u001b[0m: name 'cuantospacientes' is not defined"
     ]
    }
   ],
   "source": [
    "opcion=int(99)\n",
    "pacientes=[1, \"Diego\", 666666666, \"Contacto\", \"Burundanga\", \"06-05-2021\", \"0\"]\n",
    "while opcion != 0:\n",
    "    opcion=menu()\n",
    "    if opcion == 1: #Añadir paciente\n",
    "        pacientes.extend(alta(pacientes))           #Añadimos al final de la lista los valores devueltos por la función añadir paciente\n",
    "    elif opcion == 2:\n",
    "        modificar_paciente(pacientes)\n",
    "    elif opcion == 3:\n",
    "        eliminar_paciente(pacientes)\n",
    "    elif opcion == 4:\n",
    "        estado_paciente(pacientes)\n",
    "    elif opcion == 7:\n",
    "        listar_pacientes(pacientes)\n",
    "    elif opcion == 8:\n",
    "        buscar_paciente(pacientes)    "
   ]
  }
 ],
 "metadata": {
  "kernelspec": {
   "display_name": "Python 3",
   "language": "python",
   "name": "python3"
  },
  "language_info": {
   "codemirror_mode": {
    "name": "ipython",
    "version": 3
   },
   "file_extension": ".py",
   "mimetype": "text/x-python",
   "name": "python",
   "nbconvert_exporter": "python",
   "pygments_lexer": "ipython3",
   "version": "3.9.1+"
  }
 },
 "nbformat": 4,
 "nbformat_minor": 5
}
