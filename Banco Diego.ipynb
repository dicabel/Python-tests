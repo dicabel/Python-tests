{
 "cells": [
  {
   "cell_type": "code",
   "execution_count": 1,
   "id": "soviet-vacuum",
   "metadata": {},
   "outputs": [],
   "source": [
    "#Programa estilo bancario con gestión ingresos y pagos"
   ]
  },
  {
   "cell_type": "code",
   "execution_count": 2,
   "id": "comparable-stockholm",
   "metadata": {},
   "outputs": [],
   "source": [
    "import time"
   ]
  },
  {
   "cell_type": "code",
   "execution_count": 2,
   "id": "double-broadcasting",
   "metadata": {},
   "outputs": [],
   "source": [
    "def menu():\n",
    "    print (\"1. Ingreso\")\n",
    "    print (\"2. Transferencia\")\n",
    "    print (\"3. Pago recibos\")\n",
    "    print (\"4. Saldo\")\n",
    "    print (\"5. Saldo y fecha operación\")\n",
    "    print (\"6. Ver movimientos\")    \n",
    "    print (\"0. Salir del menu\")\n",
    "    opcion=int(input(\"Elige opción\"))\n",
    "    return opcion"
   ]
  },
  {
   "cell_type": "code",
   "execution_count": 3,
   "id": "forced-hollywood",
   "metadata": {},
   "outputs": [],
   "source": [
    "def ingreso():\n",
    "    ingresado=float(input(\"Cuanto vas a ingresar?\"))\n",
    "    ahora = time.strftime(\"%c\")                           #Guardamos el momento exacto del movimiento\n",
    "    return \"ingreso\",ahora,ingresado                      #Devolvemos los tres valores del movimiento, Tipo_de_Movimiento, Fecha_del_Movimiento e Importe_del_Movimiento."
   ]
  },
  {
   "cell_type": "code",
   "execution_count": 4,
   "id": "wicked-terrorist",
   "metadata": {},
   "outputs": [],
   "source": [
    "def transferencia():\n",
    "    transferencia=float(input(\"Cuanto vas a transferir?\"))\n",
    "    ahora = time.strftime(\"%c\")\n",
    "    return \"transferencia\",ahora,transferencia"
   ]
  },
  {
   "cell_type": "code",
   "execution_count": 5,
   "id": "polished-forge",
   "metadata": {},
   "outputs": [],
   "source": [
    "def pagorecibo():\n",
    "    cod_recibo = str(input(\"Código recibo a pagar\"))\n",
    "    cod_recibo = \"recibo_\"+cod_recibo                      #Como variante añadimos recibo_ junto con el código del recibo como Tipo_de_Movimiento\n",
    "    importe = float(input(\"Importe recibo a pagar\"))\n",
    "    ahora = time.strftime(\"%c\")\n",
    "    return cod_recibo,ahora,importe"
   ]
  },
  {
   "cell_type": "code",
   "execution_count": 6,
   "id": "healthy-fountain",
   "metadata": {},
   "outputs": [],
   "source": [
    "def saldototal():\n",
    "    if saldo > 0:\n",
    "        print(\"El saldo actual es:\",saldo)\n",
    "    else:\n",
    "        print(\"\\x1b[0;31m\"+\"El saldo actual es:\",saldo,\"\\033[0m\")      #En rojo cuando el saldo sea cero o negativo "
   ]
  },
  {
   "cell_type": "code",
   "execution_count": 7,
   "id": "spoken-frame",
   "metadata": {},
   "outputs": [],
   "source": [
    "def ver_movimientos():\n",
    "    movs=int(input(\"Cuantos movimientos quieres ver?, introduce 0 para todos\"))\n",
    "    if movs == 0:\n",
    "        movs=int(len(movimientos)/3)   #Todos los movimientos son 1/3 de la longitud de la lista de movimientos\n",
    "    posicion=0\n",
    "    for i in range (0,movs):           #Recorremos la lista de tres en tres\n",
    "        print(\"Tipo movimiento:\",movimientos[posicion],\"con un importe de:\",movimientos[posicion+2],\"€ y es de fecha:\",movimientos[posicion+1])\n",
    "        posicion+=3"
   ]
  },
  {
   "cell_type": "code",
   "execution_count": null,
   "id": "appreciated-colony",
   "metadata": {},
   "outputs": [
    {
     "name": "stdout",
     "output_type": "stream",
     "text": [
      "1. Ingreso\n",
      "2. Transferencia\n",
      "3. Pago recibos\n",
      "4. Saldo\n",
      "5. Saldo y fecha operación\n",
      "6. Ver movimientos\n",
      "0. Salir del menu\n"
     ]
    },
    {
     "name": "stdin",
     "output_type": "stream",
     "text": [
      "Elige opción 1\n",
      "Cuanto vas a ingresar? 11\n"
     ]
    },
    {
     "name": "stdout",
     "output_type": "stream",
     "text": [
      "El saldo actual es: 11.0\n",
      "1. Ingreso\n",
      "2. Transferencia\n",
      "3. Pago recibos\n",
      "4. Saldo\n",
      "5. Saldo y fecha operación\n",
      "6. Ver movimientos\n",
      "0. Salir del menu\n"
     ]
    },
    {
     "name": "stdin",
     "output_type": "stream",
     "text": [
      "Elige opción 2\n",
      "Cuanto vas a transferir? 22\n"
     ]
    },
    {
     "name": "stdout",
     "output_type": "stream",
     "text": [
      "\u001b[0;31mEl saldo actual es: -11.0 \u001b[0m\n",
      "1. Ingreso\n",
      "2. Transferencia\n",
      "3. Pago recibos\n",
      "4. Saldo\n",
      "5. Saldo y fecha operación\n",
      "6. Ver movimientos\n",
      "0. Salir del menu\n"
     ]
    },
    {
     "name": "stdin",
     "output_type": "stream",
     "text": [
      "Elige opción 3\n",
      "Código recibo a pagar 33\n",
      "Importe recibo a pagar 33\n"
     ]
    },
    {
     "name": "stdout",
     "output_type": "stream",
     "text": [
      "\u001b[0;31mEl saldo actual es: -44.0 \u001b[0m\n",
      "1. Ingreso\n",
      "2. Transferencia\n",
      "3. Pago recibos\n",
      "4. Saldo\n",
      "5. Saldo y fecha operación\n",
      "6. Ver movimientos\n",
      "0. Salir del menu\n"
     ]
    },
    {
     "name": "stdin",
     "output_type": "stream",
     "text": [
      "Elige opción 6\n",
      "Cuantos movimientos quieres ver?, introduce 0 para todos 0\n"
     ]
    },
    {
     "name": "stdout",
     "output_type": "stream",
     "text": [
      "Tipo movimiento: ingreso con un importe de: 11.0 € y es de fecha: Thu Apr 22 18:19:20 2021\n",
      "Tipo movimiento: transferencia con un importe de: 22.0 € y es de fecha: Thu Apr 22 18:19:21 2021\n",
      "Tipo movimiento: recibo_33 con un importe de: 33.0 € y es de fecha: Thu Apr 22 18:19:24 2021\n",
      "1. Ingreso\n",
      "2. Transferencia\n",
      "3. Pago recibos\n",
      "4. Saldo\n",
      "5. Saldo y fecha operación\n",
      "6. Ver movimientos\n",
      "0. Salir del menu\n"
     ]
    },
    {
     "name": "stdin",
     "output_type": "stream",
     "text": [
      "Elige opción 1\n",
      "Cuanto vas a ingresar? 11\n"
     ]
    },
    {
     "name": "stdout",
     "output_type": "stream",
     "text": [
      "\u001b[0;31mEl saldo actual es: -33.0 \u001b[0m\n",
      "1. Ingreso\n",
      "2. Transferencia\n",
      "3. Pago recibos\n",
      "4. Saldo\n",
      "5. Saldo y fecha operación\n",
      "6. Ver movimientos\n",
      "0. Salir del menu\n"
     ]
    },
    {
     "name": "stdin",
     "output_type": "stream",
     "text": [
      "Elige opción 6\n",
      "Cuantos movimientos quieres ver?, introduce 0 para todos 0\n"
     ]
    },
    {
     "name": "stdout",
     "output_type": "stream",
     "text": [
      "Tipo movimiento: ingreso con un importe de: 11.0 € y es de fecha: Thu Apr 22 18:19:20 2021\n",
      "Tipo movimiento: transferencia con un importe de: 22.0 € y es de fecha: Thu Apr 22 18:19:21 2021\n",
      "Tipo movimiento: recibo_33 con un importe de: 33.0 € y es de fecha: Thu Apr 22 18:19:24 2021\n",
      "Tipo movimiento: ingreso con un importe de: 11.0 € y es de fecha: Thu Apr 22 18:19:34 2021\n",
      "1. Ingreso\n",
      "2. Transferencia\n",
      "3. Pago recibos\n",
      "4. Saldo\n",
      "5. Saldo y fecha operación\n",
      "6. Ver movimientos\n",
      "0. Salir del menu\n"
     ]
    }
   ],
   "source": [
    "### En la lista movimientos almacenamos Tipo_de_Movimiento, luego Fecha_del_Movimiento y por último Importe_del_Movimiento.\n",
    "# En la opción 5 mostramos los tres valores del último movimiento\n",
    "opcion=int(99)\n",
    "saldo=0\n",
    "movimientos=[]\n",
    "while opcion != 0:\n",
    "    opcion=menu()\n",
    "    if opcion == 1: #ingreso\n",
    "        movimientos.extend(ingreso())           #Añadimos al final de la lista los valores devueltos por la función ingreso\n",
    "        saldo+=movimientos[len(movimientos)-1]\n",
    "        saldototal()\n",
    "    elif opcion == 2: #transferencia\n",
    "        movimientos.extend(transferencia())     #Añadimos al final de la lista los valores devueltos por la función transferencia\n",
    "        saldo-=movimientos[len(movimientos)-1]\n",
    "        saldototal()\n",
    "    elif opcion == 3: #recibos\n",
    "        movimientos.extend(pagorecibo())        #Añadimos al final de la lista los valores devueltos por la función pagorecibo\n",
    "        saldo-=movimientos[len(movimientos)-1]\n",
    "        saldototal()\n",
    "    elif opcion == 4: #Saldo\n",
    "        saldototal()\n",
    "    elif opcion == 5: #Saldo y fecha operación\n",
    "        saldototal()\n",
    "        print(\"El último movimiento fue:\",movimientos[len(movimientos)-3],\"con un importe de:\",movimientos[len(movimientos)-1],\"€ y es de fecha:\",movimientos[len(movimientos)-2])\n",
    "    elif opcion == 6: #Visualización moviminetos\n",
    "        ver_movimientos()"
   ]
  }
 ],
 "metadata": {
  "kernelspec": {
   "display_name": "Python 3",
   "language": "python",
   "name": "python3"
  },
  "language_info": {
   "codemirror_mode": {
    "name": "ipython",
    "version": 3
   },
   "file_extension": ".py",
   "mimetype": "text/x-python",
   "name": "python",
   "nbconvert_exporter": "python",
   "pygments_lexer": "ipython3",
   "version": "3.9.1+"
  }
 },
 "nbformat": 4,
 "nbformat_minor": 5
}
