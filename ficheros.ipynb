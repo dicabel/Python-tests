{
 "cells": [
  {
   "cell_type": "code",
   "execution_count": 1,
   "id": "labeled-liability",
   "metadata": {},
   "outputs": [],
   "source": [
    "#Realiza un programa que cifre los elementos de su carpeta\n",
    "#f=open()\n",
    "#import OS\n",
    "#for \n",
    "#fernet()\n",
    "#recorrer direcotrios python"
   ]
  },
  {
   "cell_type": "code",
   "execution_count": 2,
   "id": "latin-attendance",
   "metadata": {},
   "outputs": [],
   "source": [
    "import os\n",
    "#from cryptography.fernet import Fernet"
   ]
  },
  {
   "cell_type": "code",
   "execution_count": 3,
   "id": "coral-client",
   "metadata": {},
   "outputs": [],
   "source": [
    "def ruta_fichero(ruta,fichero):\n",
    "    pathfile=[]\n",
    "    print(fichero[0])\n",
    "    for i in range(0,len(fichero)):\n",
    "        pathfile.extend(ruta+fichero[i])\n",
    "        print (pathfile[i])\n",
    "    return pathfile"
   ]
  },
  {
   "cell_type": "code",
   "execution_count": 4,
   "id": "color-coverage",
   "metadata": {},
   "outputs": [
    {
     "name": "stdout",
     "output_type": "stream",
     "text": [
      "['daemon.json', 'clients.conf', 'ca.crt', 'linkedin.txt.html', '1.txt.save', 'linkedin.xml', '1.pcap', 'radiusd.conf']\n"
     ]
    }
   ],
   "source": [
    "#clave = Fernet.generate_key()\n",
    "#f = Fernet(clave)\n",
    "dir=\"/home/usuari2/Python_test\"\n",
    "for base, dirs, files in os.walk(dir):\n",
    "    print (files)"
   ]
  },
  {
   "cell_type": "code",
   "execution_count": 5,
   "id": "innovative-province",
   "metadata": {},
   "outputs": [
    {
     "name": "stdout",
     "output_type": "stream",
     "text": [
      "clients.conf\n"
     ]
    }
   ],
   "source": [
    "print(files[1])"
   ]
  },
  {
   "cell_type": "code",
   "execution_count": 6,
   "id": "tender-portsmouth",
   "metadata": {},
   "outputs": [],
   "source": [
    "file=open(\"/home/usuari2/Python_test/clients.conf\")"
   ]
  },
  {
   "cell_type": "code",
   "execution_count": 7,
   "id": "still-trinidad",
   "metadata": {},
   "outputs": [
    {
     "name": "stdout",
     "output_type": "stream",
     "text": [
      "daemon.json\n",
      "/\n",
      "h\n",
      "o\n",
      "m\n",
      "e\n",
      "/\n",
      "u\n",
      "s\n"
     ]
    }
   ],
   "source": [
    "abreme=ruta_fichero(dir,files)"
   ]
  },
  {
   "cell_type": "code",
   "execution_count": 8,
   "id": "arbitrary-period",
   "metadata": {},
   "outputs": [
    {
     "data": {
      "text/plain": [
       "'# -*- text -*-\\n##\\n## clients.conf -- client configuration directives\\n##\\n##\\t$Id: 76b300d3c55f1c5c052289b76bf28ac3a370bbb2 $\\n\\n#######################################################################\\n#\\n#  Define RADIUS clients (usually a NAS, Access Point, etc.).\\n\\n#\\n#  Defines a RADIUS client.\\n#\\n#  \\'127.0.0.1\\' is another name for \\'localhost\\'.  It is enabled by default,\\n#  to allow testing of the server after an initial installation.  If you\\n#  are not going to be permitting RADIUS queries from localhost, we suggest\\n#  that you delete, or comment out, this entry.\\n#\\n#\\n\\n#\\n#  Each client has a \"short name\" that is used to distinguish it from\\n#  other clients.\\n#\\n#  In version 1.x, the string after the word \"client\" was the IP\\n#  address of the client.  In 2.0, the IP address is configured via\\n#  the \"ipaddr\" or \"ipv6addr\" fields.  For compatibility, the 1.x\\n#  format is still accepted.\\n#\\nclient localhost {\\n\\t#  Only *one* of ipaddr, ipv4addr, ipv6addr may be specified for\\n\\t#  a client.\\n\\t#\\n\\t#  ipaddr will accept IPv4 or IPv6 addresses with optional CIDR\\n\\t#  notation \\'/<mask>\\' to specify ranges.\\n\\t#\\n\\t#  ipaddr will accept domain names e.g. example.org resolving\\n\\t#  them via DNS.\\n\\t#\\n\\t#  If both A and AAAA records are found, A records will be\\n\\t#  used in preference to AAAA.\\n\\tipaddr = 127.0.0.1\\n\\n\\t#  Same as ipaddr but allows v4 addresses only. Requires A\\n\\t#  record for domain names.\\n#\\tipv4addr = *\\t# any.  127.0.0.1 == localhost\\n\\n\\t#  Same as ipaddr but allows v6 addresses only. Requires AAAA\\n\\t#  record for domain names.\\n#\\tipv6addr = ::\\t# any.  ::1 == localhost\\n\\n\\t#\\n\\t#  A note on DNS:  We STRONGLY recommend using IP addresses\\n\\t#  rather than host names.  Using host names means that the\\n\\t#  server will do DNS lookups when it starts, making it\\n\\t#  dependent on DNS.  i.e. If anything goes wrong with DNS,\\n\\t#  the server won\\'t start!\\n\\t#\\n\\t#  The server also looks up the IP address from DNS once, and\\n\\t#  only once, when it starts.  If the DNS record is later\\n\\t#  updated, the server WILL NOT see that update.\\n\\t#\\n\\n\\t#\\n\\t#  The transport protocol.\\n\\t#\\n\\t#  If unspecified, defaults to \"udp\", which is the traditional\\n\\t#  RADIUS transport.  It may also be \"tcp\", in which case the\\n\\t#  server will accept connections from this client ONLY over TCP.\\n\\t#\\n\\tproto = *\\n\\n\\t#\\n\\t#  The shared secret use to \"encrypt\" and \"sign\" packets between\\n\\t#  the NAS and FreeRADIUS.  You MUST change this secret from the\\n\\t#  default, otherwise it\\'s not a secret any more!\\n\\t#\\n\\t#  The secret can be any string, up to 8k characters in length.\\n\\t#\\n\\t#  Control codes can be entered vi octal encoding,\\n\\t#\\te.g. \"\\\\101\\\\102\" == \"AB\"\\n\\t#  Quotation marks can be entered by escaping them,\\n\\t#\\te.g. \"foo\\\\\"bar\"\\n\\t#\\n\\t#  A note on security:  The security of the RADIUS protocol\\n\\t#  depends COMPLETELY on this secret!  We recommend using a\\n\\t#  shared secret that is composed of:\\n\\t#\\n\\t#\\tupper case letters\\n\\t#\\tlower case letters\\n\\t#\\tnumbers\\n\\t#\\n\\t#  And is at LEAST 8 characters long, preferably 16 characters in\\n\\t#  length.  The secret MUST be random, and should not be words,\\n\\t#  phrase, or anything else that is recognisable.\\n\\t#\\n\\t#  The default secret below is only for testing, and should\\n\\t#  not be used in any real environment.\\n\\t#\\n\\tsecret = testing123\\n\\n\\t#\\n\\t#  Old-style clients do not send a Message-Authenticator\\n\\t#  in an Access-Request.  RFC 5080 suggests that all clients\\n\\t#  SHOULD include it in an Access-Request.  The configuration\\n\\t#  item below allows the server to require it.  If a client\\n\\t#  is required to include a Message-Authenticator and it does\\n\\t#  not, then the packet will be silently discarded.\\n\\t#\\n\\t#  allowed values: yes, no\\n\\trequire_message_authenticator = no\\n\\n\\t#\\n\\t#  The short name is used as an alias for the fully qualified\\n\\t#  domain name, or the IP address.\\n\\t#\\n\\t#  It is accepted for compatibility with 1.x, but it is no\\n\\t#  longer necessary in >= 2.0\\n\\t#\\n#\\tshortname = localhost\\n\\n\\t#\\n\\t# the following three fields are optional, but may be used by\\n\\t# checkrad.pl for simultaneous use checks\\n\\t#\\n\\n\\t#\\n\\t# The nas_type tells \\'checkrad.pl\\' which NAS-specific method to\\n\\t#  use to query the NAS for simultaneous use.\\n\\t#\\n\\t#  Permitted NAS types are:\\n\\t#\\n\\t#\\tcisco\\n\\t#\\tcomputone\\n\\t#\\tlivingston\\n\\t#\\tjuniper\\n\\t#\\tmax40xx\\n\\t#\\tmultitech\\n\\t#\\tnetserver\\n\\t#\\tpathras\\n\\t#\\tpatton\\n\\t#\\tportslave\\n\\t#\\ttc\\n\\t#\\tusrhiper\\n\\t#\\tother\\t\\t# for all other types\\n\\n\\t#\\n\\tnas_type\\t = other\\t# localhost isn\\'t usually a NAS...\\n\\n\\t#\\n\\t#  The following two configurations are for future use.\\n\\t#  The \\'naspasswd\\' file is currently used to store the NAS\\n\\t#  login name and password, which is used by checkrad.pl\\n\\t#  when querying the NAS for simultaneous use.\\n\\t#\\n#\\tlogin\\t   = !root\\n#\\tpassword\\t= someadminpas\\n\\n\\t#\\n\\t#  As of 2.0, clients can also be tied to a virtual server.\\n\\t#  This is done by setting the \"virtual_server\" configuration\\n\\t#  item, as in the example below.\\n\\t#\\n#\\tvirtual_server = home1\\n\\n\\t#\\n\\t#  A pointer to the \"home_server_pool\" OR a \"home_server\"\\n\\t#  section that contains the CoA configuration for this\\n\\t#  client.  For an example of a coa home server or pool,\\n\\t#  see raddb/sites-available/originate-coa\\n#\\tcoa_server = coa\\n\\n\\t#\\n\\t#  Response window for proxied packets.  If non-zero,\\n\\t#  then the lower of (home, client) response_window\\n\\t#  will be used.\\n\\t#\\n\\t#  i.e. it can be used to lower the response_window\\n\\t#  packets from one client to a home server.  It cannot\\n\\t#  be used to raise the response_window.\\n\\t#\\n#\\tresponse_window = 10.0\\n\\n\\t#\\n\\t#  Connection limiting for clients using \"proto = tcp\".\\n\\t#\\n\\t#  This section is ignored for clients sending UDP traffic\\n\\t#\\n\\tlimit {\\n\\t\\t#\\n\\t\\t#  Limit the number of simultaneous TCP connections from a client\\n\\t\\t#\\n\\t\\t#  The default is 16.\\n\\t\\t#  Setting this to 0 means \"no limit\"\\n\\t\\tmax_connections = 16\\n\\n\\t\\t#  The per-socket \"max_requests\" option does not exist.\\n\\n\\t\\t#\\n\\t\\t#  The lifetime, in seconds, of a TCP connection.  After\\n\\t\\t#  this lifetime, the connection will be closed.\\n\\t\\t#\\n\\t\\t#  Setting this to 0 means \"forever\".\\n\\t\\tlifetime = 0\\n\\n\\t\\t#\\n\\t\\t#  The idle timeout, in seconds, of a TCP connection.\\n\\t\\t#  If no packets have been received over the connection for\\n\\t\\t#  this time, the connection will be closed.\\n\\t\\t#\\n\\t\\t#  Setting this to 0 means \"no timeout\".\\n\\t\\t#\\n\\t\\t#  We STRONGLY RECOMMEND that you set an idle timeout.\\n\\t\\t#\\n\\t\\tidle_timeout = 30\\n\\t}\\n}\\n\\n# IPv6 Client\\nclient localhost_ipv6 {\\n\\tipv6addr\\t= ::1\\n\\tsecret\\t\\t= testing123\\n}\\n\\n# All IPv6 Site-local clients\\n#client sitelocal_ipv6 {\\n#\\tipv6addr\\t= fe80::/16\\n#\\tsecret\\t\\t= testing123\\n#}\\n\\nclient tplink {\\n\\tipaddr\\t\\t= 192.168.0.1\\n\\tsecret\\t\\t= secret01\\n}\\n\\n#\\n#  You can now specify one secret for a network of clients.\\n#  When a client request comes in, the BEST match is chosen.\\n#  i.e. The entry from the smallest possible network.\\n#\\n#client private-network-1 {\\n#\\tipaddr\\t\\t= 192.0.2.0/24\\n#\\tsecret\\t\\t= testing123-1\\n#}\\n\\n#client private-network-2 {\\n#\\tipaddr\\t\\t= 198.51.100.0/24\\n#\\tsecret\\t\\t= testing123-2\\n#}\\n\\n#######################################################################\\n#\\n#  Per-socket client lists.  The configuration entries are exactly\\n#  the same as above, but they are nested inside of a section.\\n#\\n#  You can have as many per-socket client lists as you have \"listen\"\\n#  sections, or you can re-use a list among multiple \"listen\" sections.\\n#\\n#  Un-comment this section, and edit a \"listen\" section to add:\\n#  \"clients = per_socket_clients\".  That IP address/port combination\\n#  will then accept ONLY the clients listed in this section.\\n#\\n#clients per_socket_clients {\\n#\\tclient socket_client {\\n#\\t\\tipaddr = 192.0.2.4\\n#\\t\\tsecret = testing123\\n#\\t}\\n#}\\n'"
      ]
     },
     "execution_count": 8,
     "metadata": {},
     "output_type": "execute_result"
    }
   ],
   "source": [
    "file.read()"
   ]
  },
  {
   "cell_type": "code",
   "execution_count": null,
   "id": "novel-thriller",
   "metadata": {},
   "outputs": [],
   "source": []
  },
  {
   "cell_type": "code",
   "execution_count": null,
   "id": "beginning-gasoline",
   "metadata": {},
   "outputs": [],
   "source": []
  },
  {
   "cell_type": "code",
   "execution_count": null,
   "id": "complex-green",
   "metadata": {},
   "outputs": [],
   "source": []
  },
  {
   "cell_type": "code",
   "execution_count": null,
   "id": "tracked-generator",
   "metadata": {},
   "outputs": [],
   "source": []
  },
  {
   "cell_type": "code",
   "execution_count": null,
   "id": "involved-season",
   "metadata": {},
   "outputs": [],
   "source": []
  }
 ],
 "metadata": {
  "kernelspec": {
   "display_name": "Python 3",
   "language": "python",
   "name": "python3"
  },
  "language_info": {
   "codemirror_mode": {
    "name": "ipython",
    "version": 3
   },
   "file_extension": ".py",
   "mimetype": "text/x-python",
   "name": "python",
   "nbconvert_exporter": "python",
   "pygments_lexer": "ipython3",
   "version": "3.9.1+"
  }
 },
 "nbformat": 4,
 "nbformat_minor": 5
}
