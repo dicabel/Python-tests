{
 "cells": [
  {
   "cell_type": "code",
   "execution_count": 1,
   "id": "improving-victor",
   "metadata": {},
   "outputs": [],
   "source": [
    "#Realiza un programa que cifre los elementos de su carpeta\n",
    "#f=open()\n",
    "#import OS\n",
    "#for \n",
    "#fernet()\n",
    "#recorrer direcotrios python"
   ]
  },
  {
   "cell_type": "code",
   "execution_count": 2,
   "id": "greater-shower",
   "metadata": {},
   "outputs": [],
   "source": [
    "import os\n",
    "from cryptography.fernet import Fernet"
   ]
  },
  {
   "cell_type": "code",
   "execution_count": 3,
   "id": "biological-disclaimer",
   "metadata": {},
   "outputs": [],
   "source": [
    "#!pip3 install pycrypto\n",
    "#https://programacionpython80889555.wordpress.com/2020/03/03/encriptar-y-desencriptar-datos-en-pyhon-con-cryptography/\n",
    "#python selenium"
   ]
  },
  {
   "cell_type": "code",
   "execution_count": 4,
   "id": "broken-instrumentation",
   "metadata": {},
   "outputs": [],
   "source": [
    "def genera_clave():\n",
    "    clave = Fernet.generate_key()\n",
    "    with open(\"clave.key\",\"wb\") as archivo_clave:\n",
    "        archivo_clave.write(clave)"
   ]
  },
  {
   "cell_type": "code",
   "execution_count": 5,
   "id": "honey-fellow",
   "metadata": {},
   "outputs": [],
   "source": [
    "def cargar_clave():\n",
    "    return open(\"clave.key\",\"rb\").read()"
   ]
  },
  {
   "cell_type": "code",
   "execution_count": null,
   "id": "agricultural-scratch",
   "metadata": {},
   "outputs": [],
   "source": []
  },
  {
   "cell_type": "code",
   "execution_count": 6,
   "id": "engaging-frost",
   "metadata": {},
   "outputs": [],
   "source": [
    "def ruta_fichero(ruta,fichero):\n",
    "    pathfile=[]\n",
    "    print(fichero[0])\n",
    "    for i in range(0,len(fichero)):\n",
    "        pathfile.extend(ruta+\"/\"+fichero[i])\n",
    "        print (pathfile[i])\n",
    "    return pathfile"
   ]
  },
  {
   "cell_type": "code",
   "execution_count": 7,
   "id": "instant-hygiene",
   "metadata": {},
   "outputs": [
    {
     "name": "stdout",
     "output_type": "stream",
     "text": [
      "['daemon.json', 'clients.conf', 'ca.crt', 'linkedin.txt.html', '1.txt.save', 'linkedin.xml', '1.pcap', 'radiusd.conf']\n"
     ]
    }
   ],
   "source": [
    "dir=\"/home/usuari2/Python_test\"\n",
    "for base, dirs, files in os.walk(dir):\n",
    "    print (files)"
   ]
  },
  {
   "cell_type": "code",
   "execution_count": 8,
   "id": "interim-breeding",
   "metadata": {},
   "outputs": [
    {
     "name": "stdout",
     "output_type": "stream",
     "text": [
      "clients.conf\n"
     ]
    }
   ],
   "source": [
    "print(files[1])"
   ]
  },
  {
   "cell_type": "code",
   "execution_count": 9,
   "id": "apparent-enzyme",
   "metadata": {},
   "outputs": [],
   "source": [
    "file=open(\"/home/usuari2/Python_test/clients.conf\")"
   ]
  },
  {
   "cell_type": "code",
   "execution_count": 10,
   "id": "proper-nature",
   "metadata": {},
   "outputs": [
    {
     "name": "stdout",
     "output_type": "stream",
     "text": [
      "/home/usuari2/Python_test/daemon.json\n",
      "/home/usuari2/Python_test/clients.conf\n",
      "/home/usuari2/Python_test/ca.crt\n",
      "/home/usuari2/Python_test/linkedin.txt.html\n",
      "/home/usuari2/Python_test/1.txt.save\n",
      "/home/usuari2/Python_test/linkedin.xml\n",
      "/home/usuari2/Python_test/1.pcap\n",
      "/home/usuari2/Python_test/radiusd.conf\n"
     ]
    }
   ],
   "source": [
    "for i in range (0,len(files)):\n",
    "    fichero=dir+\"/\"+files[i]\n",
    "    print (fichero)\n",
    "    #Encriptar fichero\n",
    "    file=open(fichero)\n"
   ]
  },
  {
   "cell_type": "code",
   "execution_count": 11,
   "id": "recorded-translation",
   "metadata": {},
   "outputs": [],
   "source": [
    "#genera_clave()\n",
    "clave = cargar_clave()\n",
    "#mensaje="
   ]
  },
  {
   "cell_type": "code",
   "execution_count": 12,
   "id": "handed-costume",
   "metadata": {},
   "outputs": [],
   "source": [
    "#abreme=ruta_fichero(dir,files)"
   ]
  },
  {
   "cell_type": "code",
   "execution_count": 13,
   "id": "structural-output",
   "metadata": {},
   "outputs": [],
   "source": [
    "#file.read()"
   ]
  },
  {
   "cell_type": "code",
   "execution_count": null,
   "id": "continued-squad",
   "metadata": {},
   "outputs": [],
   "source": []
  },
  {
   "cell_type": "code",
   "execution_count": null,
   "id": "transsexual-president",
   "metadata": {},
   "outputs": [],
   "source": []
  },
  {
   "cell_type": "code",
   "execution_count": null,
   "id": "radical-eugene",
   "metadata": {},
   "outputs": [],
   "source": []
  },
  {
   "cell_type": "code",
   "execution_count": null,
   "id": "hired-webmaster",
   "metadata": {},
   "outputs": [],
   "source": []
  },
  {
   "cell_type": "code",
   "execution_count": null,
   "id": "legitimate-block",
   "metadata": {},
   "outputs": [],
   "source": []
  }
 ],
 "metadata": {
  "kernelspec": {
   "display_name": "Python 3",
   "language": "python",
   "name": "python3"
  },
  "language_info": {
   "codemirror_mode": {
    "name": "ipython",
    "version": 3
   },
   "file_extension": ".py",
   "mimetype": "text/x-python",
   "name": "python",
   "nbconvert_exporter": "python",
   "pygments_lexer": "ipython3",
   "version": "3.9.1+"
  }
 },
 "nbformat": 4,
 "nbformat_minor": 5
}
