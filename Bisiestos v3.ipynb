{
 "cells": [
  {
   "cell_type": "code",
   "execution_count": 1,
   "metadata": {},
   "outputs": [],
   "source": [
    "#Averiguar si un año es bisiesto\n",
    "#Lo será en caso de ser divisible exacto por 4 y en caso de ser divisible exacto por 100 también lo sea por 400\n",
    "#No son bisiestos los que se dividen por 100 excepto los que también se dividen por 400, que sí son bisitestos."
   ]
  },
  {
   "cell_type": "code",
   "execution_count": 2,
   "metadata": {},
   "outputs": [],
   "source": [
    "#Adquisicón de datos"
   ]
  },
  {
   "cell_type": "code",
   "execution_count": 3,
   "metadata": {},
   "outputs": [
    {
     "name": "stdin",
     "output_type": "stream",
     "text": [
      "Que año quieres averiguar si es bisiesto? 2000\n"
     ]
    }
   ],
   "source": [
    "year=int(input(\"Que año quieres averiguar si es bisiesto?\"))"
   ]
  },
  {
   "cell_type": "code",
   "execution_count": 4,
   "metadata": {},
   "outputs": [],
   "source": [
    "#Si es divisible por 4 y no es divisible por 100, o es divisible por 400  entonces es bisiesto\n",
    "#En caso contrario, no será bisiesto"
   ]
  },
  {
   "cell_type": "code",
   "execution_count": 5,
   "metadata": {},
   "outputs": [
    {
     "name": "stdout",
     "output_type": "stream",
     "text": [
      "El año 2000 es bisiesto\n"
     ]
    }
   ],
   "source": [
    "if (year%4 == 0) and (year%100 != 0) or (year%400 ==0): print (\"El año\",year,\"es bisiesto\")\n",
    "else:  print (\"El año\",year,\"no es bisiesto\")"
   ]
  }
 ],
 "metadata": {
  "kernelspec": {
   "display_name": "Python 3",
   "language": "python",
   "name": "python3"
  },
  "language_info": {
   "codemirror_mode": {
    "name": "ipython",
    "version": 3
   },
   "file_extension": ".py",
   "mimetype": "text/x-python",
   "name": "python",
   "nbconvert_exporter": "python",
   "pygments_lexer": "ipython3",
   "version": "3.8.6"
  }
 },
 "nbformat": 4,
 "nbformat_minor": 4
}
