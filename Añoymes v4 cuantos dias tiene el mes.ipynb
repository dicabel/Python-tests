{
 "cells": [
  {
   "cell_type": "code",
   "execution_count": 1,
   "metadata": {},
   "outputs": [],
   "source": [
    "#A partir de un año y un mes (1 al 12) averiguar cuantos dias tiene ese mes\n",
    "#Més 2 puede ser 28 o 29 (bisiesto)\n",
    "#Més 4,6,9,11 es 30\n",
    "#Meses restantes 31"
   ]
  },
  {
   "cell_type": "code",
   "execution_count": 2,
   "metadata": {},
   "outputs": [],
   "source": [
    "#Recogemos año y més"
   ]
  },
  {
   "cell_type": "code",
   "execution_count": 3,
   "metadata": {},
   "outputs": [
    {
     "name": "stdin",
     "output_type": "stream",
     "text": [
      "Introduce el año, por favor 1800\n",
      "Introduce el més en fomato numérico, del 1 al 12 2\n"
     ]
    }
   ],
   "source": [
    "year=int(input(\"Introduce el año, por favor\"))\n",
    "mes=int(input(\"Introduce el més en fomato numérico, del 1 al 12\"))"
   ]
  },
  {
   "cell_type": "code",
   "execution_count": 4,
   "metadata": {},
   "outputs": [],
   "source": [
    "#Si es Febrero averiguamos que si es bisiesto, 29 días, o no, 28 días \n",
    "#(Si es divisible por 4 y no es divisible por 100, o es divisible por 400  entonces es bisiesto. En caso contrario, no será bisiesto)\n",
    "#Si es uno de los meses de 30 días, como el 4, 6, 9, 11 \n",
    "#Si no es uno de los antreriores tiene 31 días"
   ]
  },
  {
   "cell_type": "code",
   "execution_count": 5,
   "metadata": {},
   "outputs": [
    {
     "name": "stdout",
     "output_type": "stream",
     "text": [
      "El més 2 del año 1800 tiene 28 días\n"
     ]
    }
   ],
   "source": [
    "if mes == 2:\n",
    "    if (year%4 == 0) and (year%100 != 0) or (year%400 ==0): print (\"El més\",mes,\"del año\",year,\"tiene 29 días\")\n",
    "    else:  print (\"El més\",mes,\"del año\",year,\"tiene 28 días\")\n",
    "else: \n",
    "    if (mes == 4 or mes == 6 or mes == 9 or mes == 11): print(\"El més\",mes,\"del año\",year,\"tiene 30 días\")\n",
    "    else: print(\"El més\",mes,\"del año\",year,\"tiene 31 dias\")\n",
    "   "
   ]
  }
 ],
 "metadata": {
  "kernelspec": {
   "display_name": "Python 3",
   "language": "python",
   "name": "python3"
  },
  "language_info": {
   "codemirror_mode": {
    "name": "ipython",
    "version": 3
   },
   "file_extension": ".py",
   "mimetype": "text/x-python",
   "name": "python",
   "nbconvert_exporter": "python",
   "pygments_lexer": "ipython3",
   "version": "3.8.6"
  }
 },
 "nbformat": 4,
 "nbformat_minor": 4
}
