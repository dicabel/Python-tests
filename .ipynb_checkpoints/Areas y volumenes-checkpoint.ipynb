{
 "cells": [
  {
   "cell_type": "code",
   "execution_count": 1,
   "metadata": {},
   "outputs": [
    {
     "name": "stdin",
     "output_type": "stream",
     "text": [
      "Dame el radio del círculo 1\n"
     ]
    },
    {
     "name": "stdout",
     "output_type": "stream",
     "text": [
      "El area del círculo es  6.283185307179586\n"
     ]
    }
   ],
   "source": [
    "#Area Circulo\n",
    "import math\n",
    "radio=float(input(\"Dame el radio del círculo\"))\n",
    "print(\"El area del círculo es \",2*math.pi*radio)"
   ]
  },
  {
   "cell_type": "code",
   "execution_count": 2,
   "metadata": {},
   "outputs": [
    {
     "name": "stdin",
     "output_type": "stream",
     "text": [
      "Introduce el primer lado del rectángulo 1\n",
      "Introduce el segundo lado del rectángulo 2\n"
     ]
    },
    {
     "name": "stdout",
     "output_type": "stream",
     "text": [
      "El area del ectángulo es  2.0\n"
     ]
    }
   ],
   "source": [
    "#Area Rectángulo\n",
    "L1=float(input(\"Introduce el primer lado del rectángulo\"))\n",
    "L2=float(input(\"Introduce el segundo lado del rectángulo\"))\n",
    "print(\"El area del rectángulo es \", L1*L2)"
   ]
  },
  {
   "cell_type": "code",
   "execution_count": 3,
   "metadata": {},
   "outputs": [
    {
     "name": "stdin",
     "output_type": "stream",
     "text": [
      "Introduce valor de la base del triángulo, por favor 2\n",
      "Introduce valor de la altura del triángulo, por favor 6\n"
     ]
    },
    {
     "name": "stdout",
     "output_type": "stream",
     "text": [
      "El area del triángulo es  6.0\n"
     ]
    }
   ],
   "source": [
    "#Area Triángulo\n",
    "Base=float(input(\"Introduce valor de la base del triángulo, por favor\"))\n",
    "Altura=float(input(\"Introduce valor de la altura del triángulo, por favor\"))\n",
    "print(\"El area del triángulo es \", Base*Altura/2)"
   ]
  },
  {
   "cell_type": "code",
   "execution_count": 5,
   "metadata": {},
   "outputs": [
    {
     "name": "stdin",
     "output_type": "stream",
     "text": [
      "Introduce el número de lados del polígono regular, por favor 12\n",
      "Introduce el valor del lado del polígono regular, por favor 12.1\n",
      "Introduce el valor del apotema del polígono regular, por favor 55.6\n"
     ]
    },
    {
     "name": "stdout",
     "output_type": "stream",
     "text": [
      "El area del polígono regular de  12  lados es  4036.56\n"
     ]
    }
   ],
   "source": [
    "#Area Polígono Regular\n",
    "NumeroLados=int(input(\"Introduce el número de lados del polígono regular, por favor\"))\n",
    "Lado=float(input(\"Introduce el valor del lado del polígono regular, por favor\"))\n",
    "Apotema=float(input(\"Introduce el valor del apotema del polígono regular, por favor\"))\n",
    "print(\"El area del polígono regular de \",NumeroLados,\" lados es \", NumeroLados*Lado*Apotema/2)"
   ]
  },
  {
   "cell_type": "code",
   "execution_count": 6,
   "metadata": {},
   "outputs": [
    {
     "name": "stdin",
     "output_type": "stream",
     "text": [
      "Dame el radio de la esfera 1\n"
     ]
    },
    {
     "name": "stdout",
     "output_type": "stream",
     "text": [
      "El volumne de la esfera es  4.1887902047863905\n"
     ]
    }
   ],
   "source": [
    "#Volumen Esfera\n",
    "import math\n",
    "radio=float(input(\"Dame el radio de la esfera\"))\n",
    "print(\"El volumen de la esfera es \",4/3*math.pi*radio**3)"
   ]
  },
  {
   "cell_type": "code",
   "execution_count": 7,
   "metadata": {},
   "outputs": [
    {
     "name": "stdin",
     "output_type": "stream",
     "text": [
      "Dame el radio del cilindro 10\n",
      "Dame la altura del cilindro 10\n"
     ]
    },
    {
     "name": "stdout",
     "output_type": "stream",
     "text": [
      "El volumen del cilindro es  3141.592653589793\n"
     ]
    }
   ],
   "source": [
    "#Volumen Cilindro\n",
    "import math\n",
    "radio=float(input(\"Dame el radio del cilindro\"))\n",
    "altura=float(input(\"Dame la altura del cilindro\"))\n",
    "print(\"El volumen del cilindro es \",altura*math.pi*radio**2)"
   ]
  },
  {
   "cell_type": "code",
   "execution_count": 12,
   "metadata": {},
   "outputs": [
    {
     "name": "stdin",
     "output_type": "stream",
     "text": [
      "Dame el radio del cono 1\n",
      "Dame la altura del cono 6\n"
     ]
    },
    {
     "name": "stdout",
     "output_type": "stream",
     "text": [
      "El volumen del cono es  6.283185307179586\n"
     ]
    }
   ],
   "source": [
    "#Volumen Cono\n",
    "import math\n",
    "radio=float(input(\"Dame el radio del cono\"))\n",
    "altura=float(input(\"Dame la altura del cono\"))\n",
    "print(\"El volumen del cono es \",altura*math.pi*radio**2/3)"
   ]
  },
  {
   "cell_type": "code",
   "execution_count": 15,
   "metadata": {},
   "outputs": [
    {
     "name": "stdin",
     "output_type": "stream",
     "text": [
      "Dame la arista del isocaedro 2\n"
     ]
    },
    {
     "name": "stdout",
     "output_type": "stream",
     "text": [
      "El volumen del isocaedro es  17.4535599249993\n",
      "El volumen del isocaedro com math es  17.4535599249993\n"
     ]
    }
   ],
   "source": [
    "#Volumen Isocaedro\n",
    "import math\n",
    "arista=float(input(\"Dame la arista del isocaedro\"))\n",
    "print(\"El volumen del isocaedro es \",5/12*(3+5**(1/2))*arista**3)\n",
    "print(\"El volumen del isocaedro com math es \",5/12*(3+math.sqrt(5))*arista**3)"
   ]
  },
  {
   "cell_type": "code",
   "execution_count": 16,
   "metadata": {},
   "outputs": [
    {
     "name": "stdin",
     "output_type": "stream",
     "text": [
      "Dame el lado de la base de la pirámide 2\n",
      "Dame la altura de la pirámide 3\n"
     ]
    },
    {
     "name": "stdout",
     "output_type": "stream",
     "text": [
      "El volumen de la pirámide es  4.0\n"
     ]
    }
   ],
   "source": [
    "#Volumen Pirámide\n",
    "import math\n",
    "lado=float(input(\"Dame el lado de la base de la pirámide\"))\n",
    "altura=float(input(\"Dame la altura de la pirámide\"))\n",
    "print(\"El volumen de la pirámide es \",lado**2*altura/3)"
   ]
  },
  {
   "cell_type": "code",
   "execution_count": null,
   "metadata": {},
   "outputs": [],
   "source": []
  }
 ],
 "metadata": {
  "kernelspec": {
   "display_name": "Python 3",
   "language": "python",
   "name": "python3"
  },
  "language_info": {
   "codemirror_mode": {
    "name": "ipython",
    "version": 3
   },
   "file_extension": ".py",
   "mimetype": "text/x-python",
   "name": "python",
   "nbconvert_exporter": "python",
   "pygments_lexer": "ipython3",
   "version": "3.8.6"
  }
 },
 "nbformat": 4,
 "nbformat_minor": 4
}
