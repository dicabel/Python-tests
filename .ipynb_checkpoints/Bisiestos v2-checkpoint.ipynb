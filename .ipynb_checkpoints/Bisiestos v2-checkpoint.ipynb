{
 "cells": [
  {
   "cell_type": "code",
   "execution_count": 1,
   "metadata": {},
   "outputs": [],
   "source": [
    "#Averiguar si un año es bisiesto\n",
    "#Lo ser'en caso de ser divisible exacto por 4 y en caso de ser divisible exacto por 100 también lo sea por 400"
   ]
  },
  {
   "cell_type": "code",
   "execution_count": 2,
   "metadata": {},
   "outputs": [],
   "source": [
    "#Adquisicón de datos"
   ]
  },
  {
   "cell_type": "code",
   "execution_count": 3,
   "metadata": {},
   "outputs": [
    {
     "name": "stdin",
     "output_type": "stream",
     "text": [
      "Que año quieres averiguar si es bisiesto? 2000\n"
     ]
    }
   ],
   "source": [
    "year=int(input(\"Que año quieres averiguar si es bisiesto?\"))"
   ]
  },
  {
   "cell_type": "code",
   "execution_count": 4,
   "metadata": {},
   "outputs": [],
   "source": [
    "#Cáculo de bisiesto, primero que sea divisible por 4. Si el resto es mayor que cero no es bisiesto\n",
    "#Si no es divisible por 100 (y lo es por 4) entonces es bisiesto\n",
    "#Si admeás de ser divisble por 4 lo es por 100 y por 400 también será bisiesto\n",
    "#En caso contrario, divisible por 4 y 100 pero no 400 no será bisiesto"
   ]
  },
  {
   "cell_type": "code",
   "execution_count": 6,
   "metadata": {},
   "outputs": [
    {
     "name": "stdout",
     "output_type": "stream",
     "text": [
      "El año 2000  es bisiesto\n"
     ]
    }
   ],
   "source": [
    "if year%4 > 0: print (\"El año\",year,\"no es bisiesto\")\n",
    "elif (year%100) == 0 and (year%400 ==0):  print (\"El año\",year,\" es bisiesto\")\n",
    "else:  print (\"El año\",year,\"no es bisiesto\")"
   ]
  }
 ],
 "metadata": {
  "kernelspec": {
   "display_name": "Python 3",
   "language": "python",
   "name": "python3"
  },
  "language_info": {
   "codemirror_mode": {
    "name": "ipython",
    "version": 3
   },
   "file_extension": ".py",
   "mimetype": "text/x-python",
   "name": "python",
   "nbconvert_exporter": "python",
   "pygments_lexer": "ipython3",
   "version": "3.8.6"
  }
 },
 "nbformat": 4,
 "nbformat_minor": 4
}
