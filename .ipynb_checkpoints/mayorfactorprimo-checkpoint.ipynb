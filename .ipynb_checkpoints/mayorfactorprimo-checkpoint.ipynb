{
 "cells": [
  {
   "cell_type": "code",
   "execution_count": 1,
   "id": "boxed-praise",
   "metadata": {
    "scrolled": true
   },
   "outputs": [],
   "source": [
    "def primo(num):                #función para calcular si el numero es primo con While\n",
    "    while (num > 2):\n",
    "        if (num%(num-1)==0):\n",
    "            return False\n",
    "        else:\n",
    "            num1=num1-1           \n",
    "            return True"
   ]
  },
  {
   "cell_type": "code",
   "execution_count": 2,
   "id": "interested-basketball",
   "metadata": {},
   "outputs": [],
   "source": [
    "def primof(num):                #función para calcular si el numero es primo con For\n",
    "    for i in range (2,num):\n",
    "        if (num%i==0):\n",
    "            return False\n",
    "    return True"
   ]
  },
  {
   "cell_type": "code",
   "execution_count": null,
   "id": "wired-speed",
   "metadata": {},
   "outputs": [],
   "source": []
  },
  {
   "cell_type": "code",
   "execution_count": 3,
   "id": "intelligent-demand",
   "metadata": {},
   "outputs": [
    {
     "name": "stdout",
     "output_type": "stream",
     "text": [
      "El factor primo mas grande del numero  1 es  6857\n"
     ]
    }
   ],
   "source": [
    "#factorizamos el numero para conocer su mayor factor\n",
    "\n",
    "factorprimo=int(0)\n",
    "dividendo=600851475143\n",
    "\n",
    "i=2     \n",
    "while (dividendo > 1):    \n",
    "    if (dividendo%i==0):    \n",
    "        dividendo=int(dividendo/i)  #Si es divisible lo dividimos y lo descartamos\n",
    "        if (primof (i)):            #Vamos averiguando si es primo para apuntarlo, ya que cada vez será un primo mayor\n",
    "            factorprimo = i\n",
    "    else:\n",
    "        i+=1                        #Pasamos al siguiente\n",
    "        \n",
    "print (\"El factor primo mas grande del numero \",dividendo,\"es \", factorprimo)"
   ]
  }
 ],
 "metadata": {
  "kernelspec": {
   "display_name": "Python 3",
   "language": "python",
   "name": "python3"
  },
  "language_info": {
   "codemirror_mode": {
    "name": "ipython",
    "version": 3
   },
   "file_extension": ".py",
   "mimetype": "text/x-python",
   "name": "python",
   "nbconvert_exporter": "python",
   "pygments_lexer": "ipython3",
   "version": "3.9.1+"
  }
 },
 "nbformat": 4,
 "nbformat_minor": 5
}
