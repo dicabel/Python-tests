{
 "cells": [
  {
   "cell_type": "code",
   "execution_count": 1,
   "metadata": {},
   "outputs": [],
   "source": [
    "#A partir de un año y un mes (1 al 12) averiguar cuantos dias tiene ese mes\n",
    "#Més 2 puede ser 28 o 29 (bisiesto)\n",
    "#Més 4,6,9,11 es 30\n",
    "#Meses restantes 31"
   ]
  },
  {
   "cell_type": "code",
   "execution_count": 2,
   "metadata": {},
   "outputs": [],
   "source": [
    "#Recogemos año y més"
   ]
  },
  {
   "cell_type": "code",
   "execution_count": 3,
   "metadata": {},
   "outputs": [
    {
     "name": "stdin",
     "output_type": "stream",
     "text": [
      "Introduce el año, por favor 2000\n",
      "Introduce el més en fomato numérico, del 1 al 12 2\n"
     ]
    }
   ],
   "source": [
    "year=int(input(\"Introduce el año, por favor\"))\n",
    "mes=int(input(\"Introduce el més en fomato numérico, del 1 al 12\"))"
   ]
  },
  {
   "cell_type": "code",
   "execution_count": 4,
   "metadata": {},
   "outputs": [],
   "source": [
    "#Si es Febrero averiguamos que es "
   ]
  },
  {
   "cell_type": "code",
   "execution_count": 5,
   "metadata": {},
   "outputs": [
    {
     "name": "stdout",
     "output_type": "stream",
     "text": [
      "El més 2 del año 2000 tiene 29 días\n"
     ]
    }
   ],
   "source": [
    "if mes == 2:\n",
    "    if year%4 > 0: print (\"El més\",mes,\"del año\",year,\"tiene 28 días\")\n",
    "    elif (year%100) == 0 and (year%400 ==0): print (\"El més\",mes,\"del año\",year,\"tiene 29 días\")\n",
    "    else: print (\"El més\",mes,\"del año\",year,\"tiene 28 días\")\n",
    "else: \n",
    "    if (mes == 4 or mes == 6 or mes == 9 or mes == 11): print(\"El més\",mes,\"del año\",year,\"tiene 30 días\")\n",
    "    if ((mes == 1) or (mes == 3) or (mes == 5) or (mes == 7) or (mes ==8) or (mes == 10) or (mes == 12)): print(\"El més\",mes,\"del año\",year,\"tiene 31 dias\")\n",
    "   "
   ]
  }
 ],
 "metadata": {
  "kernelspec": {
   "display_name": "Python 3",
   "language": "python",
   "name": "python3"
  },
  "language_info": {
   "codemirror_mode": {
    "name": "ipython",
    "version": 3
   },
   "file_extension": ".py",
   "mimetype": "text/x-python",
   "name": "python",
   "nbconvert_exporter": "python",
   "pygments_lexer": "ipython3",
   "version": "3.8.6"
  }
 },
 "nbformat": 4,
 "nbformat_minor": 4
}
