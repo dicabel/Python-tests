{
 "cells": [
  {
   "cell_type": "code",
   "execution_count": 2,
   "metadata": {},
   "outputs": [
    {
     "name": "stdout",
     "output_type": "stream",
     "text": [
      "Introduce primer numero\n"
     ]
    },
    {
     "name": "stdin",
     "output_type": "stream",
     "text": [
      " 20\n"
     ]
    }
   ],
   "source": [
    "print(\"Introduce primer numero\")\n",
    "N1 = int(input())"
   ]
  },
  {
   "cell_type": "code",
   "execution_count": 3,
   "metadata": {},
   "outputs": [
    {
     "name": "stdout",
     "output_type": "stream",
     "text": [
      "Introduce segundo numero\n"
     ]
    },
    {
     "name": "stdin",
     "output_type": "stream",
     "text": [
      " 5\n"
     ]
    }
   ],
   "source": [
    "print(\"Introduce segundo numero\")\n",
    "N2 = int(input())"
   ]
  },
  {
   "cell_type": "code",
   "execution_count": 7,
   "metadata": {},
   "outputs": [
    {
     "name": "stdout",
     "output_type": "stream",
     "text": [
      "N1+N2 25\n",
      "N1-N2 15\n",
      "N1*N2 100\n",
      "N1/N2 4.0\n",
      "N1//N2 4\n",
      "N1%N2 0\n",
      "N1**N2 3200000\n"
     ]
    }
   ],
   "source": [
    "print(\"N1+N2\", N1+N2)\n",
    "print(\"N1-N2\", N1-N2)\n",
    "print(\"N1*N2\", N1*N2)\n",
    "print(\"N1/N2\", N1/N2)\n",
    "print(\"N1//N2\", N1//N2)\n",
    "print(\"N1%N2\", N1%N2)\n",
    "print(\"N1**N2\", N1**N2)"
   ]
  },
  {
   "cell_type": "code",
   "execution_count": null,
   "metadata": {},
   "outputs": [],
   "source": [
    "if N1==N2 :print(\"Son iguales\")\n",
    "elif N1>N2 :print(\"El numero mayor es: \", N1) \n",
    "else :print(\"El numero mayor es: \", N2)"
   ]
  },
  {
   "cell_type": "code",
   "execution_count": null,
   "metadata": {},
   "outputs": [],
   "source": []
  },
  {
   "cell_type": "code",
   "execution_count": null,
   "metadata": {},
   "outputs": [],
   "source": [
    "N1=int(input(\"Introduce primer numero\"))"
   ]
  },
  {
   "cell_type": "code",
   "execution_count": null,
   "metadata": {},
   "outputs": [],
   "source": []
  }
 ],
 "metadata": {
  "kernelspec": {
   "display_name": "Python 3",
   "language": "python",
   "name": "python3"
  },
  "language_info": {
   "codemirror_mode": {
    "name": "ipython",
    "version": 3
   },
   "file_extension": ".py",
   "mimetype": "text/x-python",
   "name": "python",
   "nbconvert_exporter": "python",
   "pygments_lexer": "ipython3",
   "version": "3.8.6"
  }
 },
 "nbformat": 4,
 "nbformat_minor": 4
}
