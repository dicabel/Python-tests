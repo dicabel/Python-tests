{
 "cells": [
  {
   "cell_type": "code",
   "execution_count": 1,
   "metadata": {},
   "outputs": [],
   "source": [
    "#Calculadora con menú"
   ]
  },
  {
   "cell_type": "code",
   "execution_count": 2,
   "metadata": {},
   "outputs": [],
   "source": [
    "def suma(resultado):\n",
    "    valor=float(input(\"Introduce primer valor (0 para salir)\"))\n",
    "#Mientras no querramos salir (0) iremos sumando y mostrando el valor resultante de la suma\n",
    "    while valor!=0:  \n",
    "        valor=float(input(\"Introduce valor (0 para salir)\"))\n",
    "        resultado+=valor\n",
    "        print(resultado-valor,\"+\",valor,\"=\",resultado)\n",
    "    return resultado"
   ]
  },
  {
   "cell_type": "code",
   "execution_count": 3,
   "metadata": {},
   "outputs": [],
   "source": [
    "def resta(resultado):\n",
    "    valor=float(input(\"Introduce primer valor (0 para salir)\"))\n",
    "    while valor!=0:  \n",
    "        valor=float(input(\"Introduce valor (0 para salir)\"))\n",
    "        resultado-=valor\n",
    "        print(resultado+valor,\"-\",valor,\"=\",resultado)\n",
    "    return resultado"
   ]
  },
  {
   "cell_type": "code",
   "execution_count": null,
   "metadata": {},
   "outputs": [],
   "source": [
    "def multiplicacion(multi1,multi2):\n",
    "    return multi1*multi2  "
   ]
  },
  {
   "cell_type": "code",
   "execution_count": null,
   "metadata": {},
   "outputs": [],
   "source": [
    "def division(dividendo,divisor):\n",
    "    return dividendo/divisor  "
   ]
  },
  {
   "cell_type": "code",
   "execution_count": null,
   "metadata": {},
   "outputs": [],
   "source": [
    "def divenera(dividendo,divisor):\n",
    "    return dividendo//divisor  "
   ]
  },
  {
   "cell_type": "code",
   "execution_count": null,
   "metadata": {},
   "outputs": [],
   "source": []
  },
  {
   "cell_type": "code",
   "execution_count": null,
   "metadata": {},
   "outputs": [
    {
     "name": "stdin",
     "output_type": "stream",
     "text": [
      "0 Salir, 1 Suma, 2 Resta, 3 Multiplicación, 4 División, 5 División Entera, 6 Resto División, 7 Elevar número, 11 Borrar 1\n",
      "Introduce primer valor (0 para salir) 1\n",
      "Introduce valor (0 para salir) 2\n"
     ]
    },
    {
     "name": "stdout",
     "output_type": "stream",
     "text": [
      "0.0 + 2.0 = 2.0\n"
     ]
    },
    {
     "name": "stdin",
     "output_type": "stream",
     "text": [
      "Introduce valor (0 para salir) 3\n"
     ]
    },
    {
     "name": "stdout",
     "output_type": "stream",
     "text": [
      "2.0 + 3.0 = 5.0\n"
     ]
    },
    {
     "name": "stdin",
     "output_type": "stream",
     "text": [
      "Introduce valor (0 para salir) 4\n"
     ]
    },
    {
     "name": "stdout",
     "output_type": "stream",
     "text": [
      "5.0 + 4.0 = 9.0\n"
     ]
    },
    {
     "name": "stdin",
     "output_type": "stream",
     "text": [
      "Introduce valor (0 para salir) 5\n"
     ]
    },
    {
     "name": "stdout",
     "output_type": "stream",
     "text": [
      "9.0 + 5.0 = 14.0\n"
     ]
    },
    {
     "name": "stdin",
     "output_type": "stream",
     "text": [
      "Introduce valor (0 para salir) 0\n"
     ]
    },
    {
     "name": "stdout",
     "output_type": "stream",
     "text": [
      "14.0 + 0.0 = 14.0\n",
      "Resultado: 14.0\n"
     ]
    },
    {
     "name": "stdin",
     "output_type": "stream",
     "text": [
      "0 Salir, 1 Suma, 2 Resta, 3 Multiplicación, 4 División, 5 División Entera, 6 Resto División, 7 Elevar número, 11 Borrar 1\n",
      "Introduce primer valor (0 para salir) 2\n",
      "Introduce valor (0 para salir) 1\n"
     ]
    },
    {
     "name": "stdout",
     "output_type": "stream",
     "text": [
      "14.0 + 1.0 = 15.0\n"
     ]
    }
   ],
   "source": [
    "opcion=99\n",
    "calculo=0\n",
    "resultado=0\n",
    "while opcion !=0:\n",
    "    opcion=int(input(\"0 Salir, 1 Suma(contínua), 2 Resta(contínua), 3 Multiplicación, 4 División, 5 División Entera, 6 Resto División, 7 Elevar número, 11 Borrar\"))\n",
    "    if opcion == 1:\n",
    "        calculo=suma(calculo)\n",
    "        print(\"Resultado:\",calculo)\n",
    "    elif opcion == 2:\n",
    "        print(\"La resta es:\",resta())\n",
    "    elif opcion == 3: \n",
    "        multi1=float(input(\"Primer valor a multiplicar\")\n",
    "        multi2=float(input(\"Segundo valor a multiplicar\")\n",
    "        print(\"La multiplicación es:\",multiplicacion(multi1,multi2))\n",
    "    elif opcion == 4:\n",
    "        dividendo=float(input(\"Dividendo\")\n",
    "        divisor=float(input(\"Divisor\")\n",
    "        print(\"La división es:\",division(dividendo,divisor))  \n",
    "    elif opcion == 5:\n",
    "        dividendo=float(input(\"Dividendo\")\n",
    "        divisor=float(input(\"Divisor\")\n",
    "        print(\"La división entera es:\",diventera())\n",
    "    elif opcion == 6:\n",
    "        print(\"El resto es:\",resto())\n",
    "    elif opcion == 7:\n",
    "        print(\"Elevar da:\",elevar())       \n",
    "    elif opcion == 11:\n",
    "        calculo=0\n",
    "        print (\"Comenzamos de cero\")\n",
    "print(\"....A10\")"
   ]
  },
  {
   "cell_type": "markdown",
   "metadata": {},
   "source": [
    "print(\"N1+N2\", N1+N2)\n",
    "print(\"N1-N2\", N1-N2)\n",
    "print(\"N1*N2\", N1*N2)\n",
    "print(\"N1/N2\", N1/N2)\n",
    "print(\"N1//N2\", N1//N2)\n",
    "print(\"N1%N2\", N1%N2)\n",
    "print(\"N1**N2\", N1**N2)"
   ]
  }
 ],
 "metadata": {
  "kernelspec": {
   "display_name": "Python 3",
   "language": "python",
   "name": "python3"
  },
  "language_info": {
   "codemirror_mode": {
    "name": "ipython",
    "version": 3
   },
   "file_extension": ".py",
   "mimetype": "text/x-python",
   "name": "python",
   "nbconvert_exporter": "python",
   "pygments_lexer": "ipython3",
   "version": "3.9.1+"
  }
 },
 "nbformat": 4,
 "nbformat_minor": 4
}
