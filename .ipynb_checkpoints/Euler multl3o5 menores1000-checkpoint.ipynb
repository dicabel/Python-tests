{
 "cells": [
  {
   "cell_type": "code",
   "execution_count": 1,
   "id": "checked-wrong",
   "metadata": {},
   "outputs": [],
   "source": [
    "#Calcular suma de todos los múltiplos de 3 ó 5 menores de 100"
   ]
  },
  {
   "cell_type": "code",
   "execution_count": 2,
   "id": "satisfactory-praise",
   "metadata": {},
   "outputs": [
    {
     "name": "stdout",
     "output_type": "stream",
     "text": [
      "La suma de todos los múltiplos de 3 ó 5 menores de 100 es 233168\n"
     ]
    }
   ],
   "source": [
    "#Comenzamos la suma\n",
    "suma=int(0)\n",
    "#Vamos a visitar todos los números menores de 100\n",
    "for i in range (1,100):\n",
    "#En caso de que sea múltiplo de 3 o de 5 lo añadimos a la suma\n",
    "    if i%3==0 or i%5==0:\n",
    "        suma+=i\n",
    "print (\"La suma de todos los múltiplos de 3 ó 5 menores de 100 es\",suma)"
   ]
  }
 ],
 "metadata": {
  "kernelspec": {
   "display_name": "Python 3",
   "language": "python",
   "name": "python3"
  },
  "language_info": {
   "codemirror_mode": {
    "name": "ipython",
    "version": 3
   },
   "file_extension": ".py",
   "mimetype": "text/x-python",
   "name": "python",
   "nbconvert_exporter": "python",
   "pygments_lexer": "ipython3",
   "version": "3.9.1+"
  }
 },
 "nbformat": 4,
 "nbformat_minor": 5
}
