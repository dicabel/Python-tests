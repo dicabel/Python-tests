{
 "cells": [
  {
   "cell_type": "code",
   "execution_count": 1,
   "metadata": {},
   "outputs": [],
   "source": [
    "#La fuerza de atracción entre dos masas m1 y m2 separados por una distancia d\n",
    "# F=G*m1*m2/d**2\n",
    "\n",
    "# donde G=6.67·10-11 Nm2/kg2 "
   ]
  },
  {
   "cell_type": "code",
   "execution_count": 2,
   "metadata": {},
   "outputs": [],
   "source": [
    "#Pedimos valores de las dos masas y su distancia de separación"
   ]
  },
  {
   "cell_type": "code",
   "execution_count": 3,
   "metadata": {},
   "outputs": [
    {
     "name": "stdin",
     "output_type": "stream",
     "text": [
      "Cual es el valor de la primera masa? 10\n",
      "Cual es el valor de la segunda masa? 10\n",
      "A que distancia se encuentran las masas? 10\n"
     ]
    }
   ],
   "source": [
    "G=6,67*10**(-11)\n",
    "masa1=float(input(\"Cual es el valor de la primera masa?\"))\n",
    "masa2=float(input(\"Cual es el valor de la segunda masa?\"))\n",
    "distancia=float(input(\"A que distancia se encuentran las masas?\"))"
   ]
  },
  {
   "cell_type": "code",
   "execution_count": 4,
   "metadata": {},
   "outputs": [],
   "source": [
    "#Realizamos el cálculo según fórmula"
   ]
  },
  {
   "cell_type": "code",
   "execution_count": 5,
   "metadata": {},
   "outputs": [],
   "source": [
    "Fuerza= 6,67*10**(-11) * masa1 * masa2 / distancia**2"
   ]
  },
  {
   "cell_type": "code",
   "execution_count": 6,
   "metadata": {},
   "outputs": [],
   "source": [
    "#Mostramos resultado"
   ]
  },
  {
   "cell_type": "code",
   "execution_count": 7,
   "metadata": {},
   "outputs": [
    {
     "name": "stdout",
     "output_type": "stream",
     "text": [
      "La fuerza de atracción entre la masa 10.0 y la masa 10.0 a una distandia de 10.0 es (6, 6.7e-10)\n"
     ]
    }
   ],
   "source": [
    "print(\"La fuerza de atracción entre la masa\",masa1, \"y la masa\", masa2,\"a una distandia de\", distancia,\"es\",Fuerza)"
   ]
  },
  {
   "cell_type": "code",
   "execution_count": null,
   "metadata": {},
   "outputs": [],
   "source": []
  },
  {
   "cell_type": "code",
   "execution_count": null,
   "metadata": {},
   "outputs": [],
   "source": []
  }
 ],
 "metadata": {
  "kernelspec": {
   "display_name": "Python 3",
   "language": "python",
   "name": "python3"
  },
  "language_info": {
   "codemirror_mode": {
    "name": "ipython",
    "version": 3
   },
   "file_extension": ".py",
   "mimetype": "text/x-python",
   "name": "python",
   "nbconvert_exporter": "python",
   "pygments_lexer": "ipython3",
   "version": "3.8.6"
  }
 },
 "nbformat": 4,
 "nbformat_minor": 4
}
