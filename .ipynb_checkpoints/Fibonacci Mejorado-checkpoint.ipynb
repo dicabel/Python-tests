{
 "cells": [
  {
   "cell_type": "code",
   "execution_count": 1,
   "id": "approved-implementation",
   "metadata": {},
   "outputs": [],
   "source": [
    "#Fibonacci y los conejos\n",
    "#1 par de conejos tienen 1 vez al més 1 par de crias que serán fértiles en 1 més\n",
    "#Comenzamos con 1 pareja y ninguno se muere\n",
    "#Cuantas meses para tener n parejas?"
   ]
  },
  {
   "cell_type": "code",
   "execution_count": 2,
   "id": "casual-freight",
   "metadata": {},
   "outputs": [
    {
     "name": "stdin",
     "output_type": "stream",
     "text": [
      "Introduce cuantas parejas quieres tener 232\n"
     ]
    }
   ],
   "source": [
    "#Toma datos e inicializacion de conejos\n",
    "parejas_totales = 1\n",
    "parejas_anteriores = 0\n",
    "parejas = int(input(\"Introduce cuantas parejas quieres tener\"))\n",
    "meses = 0"
   ]
  },
  {
   "cell_type": "code",
   "execution_count": 3,
   "id": "fallen-firewall",
   "metadata": {},
   "outputs": [
    {
     "name": "stdout",
     "output_type": "stream",
     "text": [
      "-----------------------------\n",
      "Tendrás 232 de parejas de conejos en  12 meses\n"
     ]
    }
   ],
   "source": [
    "#Mientras no lleguemos al numero de parjas que queremos añadimos a los conejos del mes anterior (parejas_totales) los del anterior al anterior (parejas_anteriores)\n",
    "#y sumamos un més\n",
    "while (parejas_totales < parejas):\n",
    "    parejas_totales = parejas_totales + parejas_anteriores\n",
    "    parejas_anteriores = parejas_totales - parejas_anteriores\n",
    "    meses = meses +1\n",
    "print (\"-----------------------------\")\n",
    "print (\"Tendrás\",parejas,\"de parejas de conejos en \",meses,\"meses\")\n"
   ]
  }
 ],
 "metadata": {
  "kernelspec": {
   "display_name": "Python 3",
   "language": "python",
   "name": "python3"
  },
  "language_info": {
   "codemirror_mode": {
    "name": "ipython",
    "version": 3
   },
   "file_extension": ".py",
   "mimetype": "text/x-python",
   "name": "python",
   "nbconvert_exporter": "python",
   "pygments_lexer": "ipython3",
   "version": "3.9.1+"
  }
 },
 "nbformat": 4,
 "nbformat_minor": 5
}
