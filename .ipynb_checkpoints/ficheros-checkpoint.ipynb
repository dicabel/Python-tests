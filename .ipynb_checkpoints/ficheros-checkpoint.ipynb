{
 "cells": [
  {
   "cell_type": "code",
   "execution_count": 1,
   "id": "horizontal-pakistan",
   "metadata": {},
   "outputs": [],
   "source": [
    "#Realiza un programa que cifre los elementos de su carpeta\n",
    "#f=open()\n",
    "#import OS\n",
    "#for \n",
    "#fernet()\n",
    "#recorrer direcotrios python"
   ]
  },
  {
   "cell_type": "code",
   "execution_count": 2,
   "id": "conventional-adjustment",
   "metadata": {},
   "outputs": [],
   "source": [
    "import os\n",
    "from cryptography.fernet import Fernet"
   ]
  },
  {
   "cell_type": "code",
   "execution_count": 3,
   "id": "complicated-possession",
   "metadata": {},
   "outputs": [],
   "source": [
    "#!pip3 install pycrypto\n",
    "#https://programacionpython80889555.wordpress.com/2020/03/03/encriptar-y-desencriptar-datos-en-pyhon-con-cryptography/\n",
    "#python selenium"
   ]
  },
  {
   "cell_type": "code",
   "execution_count": 4,
   "id": "protecting-harris",
   "metadata": {},
   "outputs": [],
   "source": [
    "def genera_clave():\n",
    "    clave = Fernet.generate_key()\n",
    "    with open(\"clave.key\",\"wb\") as archivo_clave:\n",
    "        archivo_clave.write(clave)"
   ]
  },
  {
   "cell_type": "code",
   "execution_count": 5,
   "id": "other-priest",
   "metadata": {},
   "outputs": [],
   "source": [
    "def cargar_clave():\n",
    "    return open(\"clave.key\",\"rb\").read()"
   ]
  },
  {
   "cell_type": "code",
   "execution_count": null,
   "id": "assigned-knitting",
   "metadata": {},
   "outputs": [],
   "source": []
  },
  {
   "cell_type": "code",
   "execution_count": 6,
   "id": "crucial-serbia",
   "metadata": {},
   "outputs": [],
   "source": [
    "def ruta_fichero(ruta,fichero):\n",
    "    pathfile=[]\n",
    "    print(fichero[0])\n",
    "    for i in range(0,len(fichero)):\n",
    "        pathfile.extend(ruta+fichero[i])\n",
    "        print (pathfile[i])\n",
    "    return pathfile"
   ]
  },
  {
   "cell_type": "code",
   "execution_count": 7,
   "id": "normal-pioneer",
   "metadata": {},
   "outputs": [
    {
     "name": "stdout",
     "output_type": "stream",
     "text": [
      "['daemon.json', 'clients.conf', 'ca.crt', 'linkedin.txt.html', '1.txt.save', 'linkedin.xml', '1.pcap', 'radiusd.conf']\n"
     ]
    }
   ],
   "source": [
    "dir=\"/home/usuari2/Python_test\"\n",
    "for base, dirs, files in os.walk(dir):\n",
    "    print (files)"
   ]
  },
  {
   "cell_type": "code",
   "execution_count": 8,
   "id": "early-convertible",
   "metadata": {},
   "outputs": [
    {
     "name": "stdout",
     "output_type": "stream",
     "text": [
      "clients.conf\n"
     ]
    }
   ],
   "source": [
    "print(files[1])"
   ]
  },
  {
   "cell_type": "code",
   "execution_count": 9,
   "id": "anticipated-officer",
   "metadata": {},
   "outputs": [],
   "source": [
    "file=open(\"/home/usuari2/Python_test/clients.conf\")"
   ]
  },
  {
   "cell_type": "code",
   "execution_count": 10,
   "id": "musical-conducting",
   "metadata": {},
   "outputs": [
    {
     "name": "stdout",
     "output_type": "stream",
     "text": [
      "/home/usuari2/Python_test/daemon.json\n",
      "/home/usuari2/Python_test/clients.conf\n",
      "/home/usuari2/Python_test/ca.crt\n",
      "/home/usuari2/Python_test/linkedin.txt.html\n",
      "/home/usuari2/Python_test/1.txt.save\n",
      "/home/usuari2/Python_test/linkedin.xml\n",
      "/home/usuari2/Python_test/1.pcap\n",
      "/home/usuari2/Python_test/radiusd.conf\n"
     ]
    }
   ],
   "source": [
    "for i in range (0,len(files)):\n",
    "    fichero=dir+\"/\"+files[i]\n",
    "    print (fichero)\n",
    "    file=open(fichero)\n"
   ]
  },
  {
   "cell_type": "code",
   "execution_count": 11,
   "id": "million-juice",
   "metadata": {},
   "outputs": [],
   "source": [
    "#genera_clave()\n",
    "clave = cargar_clave()\n",
    "mensaje="
   ]
  },
  {
   "cell_type": "code",
   "execution_count": 12,
   "id": "developmental-pencil",
   "metadata": {},
   "outputs": [
    {
     "name": "stdout",
     "output_type": "stream",
     "text": [
      "daemon.json\n",
      "/\n",
      "h\n",
      "o\n",
      "m\n",
      "e\n",
      "/\n",
      "u\n",
      "s\n"
     ]
    }
   ],
   "source": [
    "abreme=ruta_fichero(dir,files)"
   ]
  },
  {
   "cell_type": "code",
   "execution_count": 13,
   "id": "opened-industry",
   "metadata": {},
   "outputs": [],
   "source": [
    "#file.read()"
   ]
  },
  {
   "cell_type": "code",
   "execution_count": null,
   "id": "focal-boxing",
   "metadata": {},
   "outputs": [],
   "source": []
  },
  {
   "cell_type": "code",
   "execution_count": null,
   "id": "accompanied-language",
   "metadata": {},
   "outputs": [],
   "source": []
  },
  {
   "cell_type": "code",
   "execution_count": null,
   "id": "answering-nashville",
   "metadata": {},
   "outputs": [],
   "source": []
  },
  {
   "cell_type": "code",
   "execution_count": null,
   "id": "capital-employee",
   "metadata": {},
   "outputs": [],
   "source": []
  },
  {
   "cell_type": "code",
   "execution_count": null,
   "id": "finished-arnold",
   "metadata": {},
   "outputs": [],
   "source": []
  }
 ],
 "metadata": {
  "kernelspec": {
   "display_name": "Python 3",
   "language": "python",
   "name": "python3"
  },
  "language_info": {
   "codemirror_mode": {
    "name": "ipython",
    "version": 3
   },
   "file_extension": ".py",
   "mimetype": "text/x-python",
   "name": "python",
   "nbconvert_exporter": "python",
   "pygments_lexer": "ipython3",
   "version": "3.9.1+"
  }
 },
 "nbformat": 4,
 "nbformat_minor": 5
}
