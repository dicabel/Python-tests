{
 "cells": [
  {
   "cell_type": "code",
   "execution_count": 1,
   "id": "biblical-input",
   "metadata": {},
   "outputs": [],
   "source": [
    "#Suma de los números pares según la serie de Fibonacci"
   ]
  },
  {
   "cell_type": "code",
   "execution_count": 2,
   "id": "electoral-depth",
   "metadata": {},
   "outputs": [
    {
     "name": "stdout",
     "output_type": "stream",
     "text": [
      "La suma de los números pares es 4613732\n"
     ]
    }
   ],
   "source": [
    "numeroanterior=0\n",
    "numeroactual=1\n",
    "suma=0   \n",
    "#Comienza el bucle\n",
    "while numeroactual <= 4000000:\n",
    "    if numeroactual%2 == 0:\n",
    "        suma = suma + numeroactual\n",
    "#Pasamos a la siguiente iteración según Fibonacci con la variable temporal para mover los valores\n",
    "    temporal = numeroactual\n",
    "    numeroactual = numeroactual + numeroanterior\n",
    "    numeroanterior = temporal\n",
    "print (\"La suma de los números pares es\",suma)"
   ]
  }
 ],
 "metadata": {
  "kernelspec": {
   "display_name": "Python 3",
   "language": "python",
   "name": "python3"
  },
  "language_info": {
   "codemirror_mode": {
    "name": "ipython",
    "version": 3
   },
   "file_extension": ".py",
   "mimetype": "text/x-python",
   "name": "python",
   "nbconvert_exporter": "python",
   "pygments_lexer": "ipython3",
   "version": "3.9.1+"
  }
 },
 "nbformat": 4,
 "nbformat_minor": 5
}
