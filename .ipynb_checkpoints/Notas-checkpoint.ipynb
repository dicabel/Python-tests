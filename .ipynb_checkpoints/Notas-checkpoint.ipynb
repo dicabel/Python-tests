{
 "cells": [
  {
   "cell_type": "code",
   "execution_count": 1,
   "metadata": {},
   "outputs": [],
   "source": [
    "#Describir alificación de una nota\n",
    "#0.0 a < 5.0 suspenso\n",
    "#5.0 a < 6.5 aprobado\n",
    "#6.5 a < 8.5 notable\n",
    "#8.5 a < 10.0 sobresaliente\n",
    "# 10 matrícula"
   ]
  },
  {
   "cell_type": "code",
   "execution_count": null,
   "metadata": {},
   "outputs": [],
   "source": [
    "nota=float(input(\"Dime que nota quieres evaluar\"))"
   ]
  },
  {
   "cell_type": "code",
   "execution_count": null,
   "metadata": {},
   "outputs": [],
   "source": [
    "#Si no está entre 0 y 10 no es válido\n",
    "#Comenzamos en el rango de hasta 5.0 y seguimos con hasta 6.5, hasta 8.5 y hasta 10. Finalmente si no es ninguno de los anteriores es 10"
   ]
  },
  {
   "cell_type": "code",
   "execution_count": null,
   "metadata": {},
   "outputs": [],
   "source": [
    "if (nota < 0 or nota >10): print(\"Necesito un valor numérico válido entre 0 y 10 incluidos\")\n",
    "else:\n",
    "    if nota < 5.0: print(\"Tu evaluación es suspendido\")\n",
    "    elif nota < 6.5: print(\"Tu evaluación es aprobado\")\n",
    "    elif nota < 8.5: print(\"Tu evaluación es notable\")\n",
    "    elif nota < 10: print(\"Tu evaluación es sobresaliente\")\n",
    "    else: print(\"Tu evaluación es matrícula\")"
   ]
  }
 ],
 "metadata": {
  "kernelspec": {
   "display_name": "Python 3",
   "language": "python",
   "name": "python3"
  },
  "language_info": {
   "codemirror_mode": {
    "name": "ipython",
    "version": 3
   },
   "file_extension": ".py",
   "mimetype": "text/x-python",
   "name": "python",
   "nbconvert_exporter": "python",
   "pygments_lexer": "ipython3",
   "version": "3.8.6"
  }
 },
 "nbformat": 4,
 "nbformat_minor": 4
}
