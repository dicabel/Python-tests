{
 "cells": [
  {
   "cell_type": "code",
   "execution_count": 1,
   "id": "motivated-impact",
   "metadata": {},
   "outputs": [],
   "source": [
    "#Fibonacci y los conejos\n",
    "#1 par de conejos tienen 1 vez al més 1 par de crias que serán fértiles en 1 més\n",
    "#Comenzamos con 1 pareja y ninguno se muere\n",
    "#Cuantas parejas en n años?"
   ]
  },
  {
   "cell_type": "code",
   "execution_count": 2,
   "id": "computational-disabled",
   "metadata": {},
   "outputs": [
    {
     "name": "stdin",
     "output_type": "stream",
     "text": [
      "Introduce años a calcular 6\n"
     ]
    }
   ],
   "source": [
    "#Toma datos e inicializacion de conejos\n",
    "parejas_totales = 1\n",
    "parejas_anteriores = 0\n",
    "anyos = int(input(\"Introduce años a calcular\"))\n",
    "meses = anyos * 12"
   ]
  },
  {
   "cell_type": "code",
   "execution_count": 3,
   "id": "serious-chemistry",
   "metadata": {},
   "outputs": [
    {
     "name": "stdout",
     "output_type": "stream",
     "text": [
      "Parejas en  1 mes son 1\n",
      "Parejas en  2 mes son 2\n",
      "Parejas en  3 mes son 3\n",
      "Parejas en  4 mes son 5\n",
      "Parejas en  5 mes son 8\n",
      "Parejas en  6 mes son 13\n",
      "Parejas en  7 mes son 21\n",
      "Parejas en  8 mes son 34\n",
      "Parejas en  9 mes son 55\n",
      "Parejas en  10 mes son 89\n",
      "Parejas en  11 mes son 144\n",
      "Parejas en  12 mes son 233\n",
      "Parejas en  13 mes son 377\n",
      "Parejas en  14 mes son 610\n",
      "Parejas en  15 mes son 987\n",
      "Parejas en  16 mes son 1597\n",
      "Parejas en  17 mes son 2584\n",
      "Parejas en  18 mes son 4181\n",
      "Parejas en  19 mes son 6765\n",
      "Parejas en  20 mes son 10946\n",
      "Parejas en  21 mes son 17711\n",
      "Parejas en  22 mes son 28657\n",
      "Parejas en  23 mes son 46368\n",
      "Parejas en  24 mes son 75025\n",
      "Parejas en  25 mes son 121393\n",
      "Parejas en  26 mes son 196418\n",
      "Parejas en  27 mes son 317811\n",
      "Parejas en  28 mes son 514229\n",
      "Parejas en  29 mes son 832040\n",
      "Parejas en  30 mes son 1346269\n",
      "Parejas en  31 mes son 2178309\n",
      "Parejas en  32 mes son 3524578\n",
      "Parejas en  33 mes son 5702887\n",
      "Parejas en  34 mes son 9227465\n",
      "Parejas en  35 mes son 14930352\n",
      "Parejas en  36 mes son 24157817\n",
      "Parejas en  37 mes son 39088169\n",
      "Parejas en  38 mes son 63245986\n",
      "Parejas en  39 mes son 102334155\n",
      "Parejas en  40 mes son 165580141\n",
      "Parejas en  41 mes son 267914296\n",
      "Parejas en  42 mes son 433494437\n",
      "Parejas en  43 mes son 701408733\n",
      "Parejas en  44 mes son 1134903170\n",
      "Parejas en  45 mes son 1836311903\n",
      "Parejas en  46 mes son 2971215073\n",
      "Parejas en  47 mes son 4807526976\n",
      "Parejas en  48 mes son 7778742049\n",
      "Parejas en  49 mes son 12586269025\n",
      "Parejas en  50 mes son 20365011074\n",
      "Parejas en  51 mes son 32951280099\n",
      "Parejas en  52 mes son 53316291173\n",
      "Parejas en  53 mes son 86267571272\n",
      "Parejas en  54 mes son 139583862445\n",
      "Parejas en  55 mes son 225851433717\n",
      "Parejas en  56 mes son 365435296162\n",
      "Parejas en  57 mes son 591286729879\n",
      "Parejas en  58 mes son 956722026041\n",
      "Parejas en  59 mes son 1548008755920\n",
      "Parejas en  60 mes son 2504730781961\n",
      "Parejas en  61 mes son 4052739537881\n",
      "Parejas en  62 mes son 6557470319842\n",
      "Parejas en  63 mes son 10610209857723\n",
      "Parejas en  64 mes son 17167680177565\n",
      "Parejas en  65 mes son 27777890035288\n",
      "Parejas en  66 mes son 44945570212853\n",
      "Parejas en  67 mes son 72723460248141\n",
      "Parejas en  68 mes son 117669030460994\n",
      "Parejas en  69 mes son 190392490709135\n",
      "Parejas en  70 mes son 308061521170129\n",
      "Parejas en  71 mes son 498454011879264\n",
      "Parejas en  72 mes son 806515533049393\n",
      "-----------------------------\n",
      "Parejas en  6 años son 806515533049393\n"
     ]
    }
   ],
   "source": [
    "#En los meses que tienen los años a calcular añadimos a los conejos del mes anterior (parejas_totales) los del anterior al anterior (parejas_anteriores)\n",
    "for reproducen in range (1,meses+1):\n",
    "    parejas_totales = parejas_totales + parejas_anteriores\n",
    "    parejas_anteriores = parejas_totales - parejas_anteriores\n",
    "    print (\"Parejas en \",reproducen,\"mes son\",parejas_totales)\n",
    "print (\"-----------------------------\")\n",
    "print (\"Parejas en \",anyos,\"años son\",parejas_totales)\n"
   ]
  }
 ],
 "metadata": {
  "kernelspec": {
   "display_name": "Python 3",
   "language": "python",
   "name": "python3"
  },
  "language_info": {
   "codemirror_mode": {
    "name": "ipython",
    "version": 3
   },
   "file_extension": ".py",
   "mimetype": "text/x-python",
   "name": "python",
   "nbconvert_exporter": "python",
   "pygments_lexer": "ipython3",
   "version": "3.9.1+"
  }
 },
 "nbformat": 4,
 "nbformat_minor": 5
}
