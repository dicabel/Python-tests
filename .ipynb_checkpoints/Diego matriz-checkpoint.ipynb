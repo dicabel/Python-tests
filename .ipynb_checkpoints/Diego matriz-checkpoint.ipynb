{
 "cells": [
  {
   "cell_type": "code",
   "execution_count": 1,
   "id": "synthetic-analyst",
   "metadata": {},
   "outputs": [],
   "source": [
    "#Problemas con arrays\n",
    "#Lea matriz cuadrada, la muestre por pantalla y presente suma de todos los números que no estan en la diagonal principal"
   ]
  },
  {
   "cell_type": "code",
   "execution_count": 2,
   "id": "central-newark",
   "metadata": {},
   "outputs": [],
   "source": [
    "from random import randint"
   ]
  },
  {
   "cell_type": "code",
   "execution_count": 3,
   "id": "independent-appointment",
   "metadata": {},
   "outputs": [],
   "source": [
    "def menu():\n",
    "    print(\"Matrices cuadradas enteras\")\n",
    "    print(\"0 para salir\")\n",
    "    print(\"1 para crear matriz\")\n",
    "    print(\"2 para mostrar matriz por pantalla\")\n",
    "    print(\"3 para ver suma de todos los números que no están en la diagonal principal\")\n",
    "    opcion=int(input(\"Elige opción\"))\n",
    "    return opcion"
   ]
  },
  {
   "cell_type": "code",
   "execution_count": 4,
   "id": "secure-armenia",
   "metadata": {},
   "outputs": [],
   "source": [
    "def sumaNoDiag(matriz):\n",
    "    suma = 0\n",
    "    for i in range (len(matriz)):\n",
    "            for j in range (len(matriz)):\n",
    "                if i != j:                   #Sumaamos todos los valores excepto cuando sea el central, donde posición fila = posición columna\n",
    "                    suma+=matriz[i][j]\n",
    "    return suma"
   ]
  },
  {
   "cell_type": "code",
   "execution_count": 5,
   "id": "individual-anxiety",
   "metadata": {},
   "outputs": [],
   "source": [
    "def muestramatriz(matriz):\n",
    "    for i in range (len(matriz)):\n",
    "        for j in range (len(matriz)):\n",
    "            print(\"\\t\", matriz[i][j], end=\" \") #Mostramos valores de la primera fila separados por un espacio. salto de línea, siguiente fila hasta recorrerlas todas\n",
    "        print ()"
   ]
  },
  {
   "cell_type": "code",
   "execution_count": 6,
   "id": "systematic-probe",
   "metadata": {},
   "outputs": [],
   "source": [
    "def crearmatrizcuadrada(longitud,valor):\n",
    "    matriz=[]\n",
    "    if valor > 0:                                         #Al menos 1 fila y columna\n",
    "        for i in range (longitud):\n",
    "            matriz.append([])                             #Creamos fila\n",
    "            for j in range (longitud):                    \n",
    "                matriz[i].append(randint(1,valor))        #Rellenamos fila con valores aleatorios (para rellenar la matriz) en tre 1 y el que querramos\n",
    "        return matriz\n",
    "    else:\n",
    "        print (\"Valor debe ser mayor que cero\")\n",
    "    return -1        "
   ]
  },
  {
   "cell_type": "code",
   "execution_count": null,
   "id": "assumed-archive",
   "metadata": {},
   "outputs": [],
   "source": []
  },
  {
   "cell_type": "code",
   "execution_count": null,
   "id": "structured-sydney",
   "metadata": {},
   "outputs": [
    {
     "name": "stdout",
     "output_type": "stream",
     "text": [
      "Matrices cuadradas enteras\n",
      "0 para salir\n",
      "1 para crear matriz\n",
      "2 para mostrar matriz por pantalla\n",
      "3 para ver suma de todos los números que no están en la diagonal principal\n"
     ]
    },
    {
     "name": "stdin",
     "output_type": "stream",
     "text": [
      "Elige opción  1\n",
      "Dame el tamaño de la matriz cuadrada 66\n",
      "Introduce el valor (mayor que cero) con el que quieres rellenar la matriz (aleatóriamente entre 1 y el número que elijas) 2\n"
     ]
    },
    {
     "name": "stdout",
     "output_type": "stream",
     "text": [
      "Matrices cuadradas enteras\n",
      "0 para salir\n",
      "1 para crear matriz\n",
      "2 para mostrar matriz por pantalla\n",
      "3 para ver suma de todos los números que no están en la diagonal principal\n"
     ]
    },
    {
     "name": "stdin",
     "output_type": "stream",
     "text": [
      "Elige opción 1\n",
      "Dame el tamaño de la matriz cuadrada 66\n",
      "Introduce el valor (mayor que cero) con el que quieres rellenar la matriz (aleatóriamente entre 1 y el número que elijas) 7\n"
     ]
    },
    {
     "name": "stdout",
     "output_type": "stream",
     "text": [
      "Matrices cuadradas enteras\n",
      "0 para salir\n",
      "1 para crear matriz\n",
      "2 para mostrar matriz por pantalla\n",
      "3 para ver suma de todos los números que no están en la diagonal principal\n"
     ]
    },
    {
     "name": "stdin",
     "output_type": "stream",
     "text": [
      "Elige opción 2\n"
     ]
    },
    {
     "name": "stdout",
     "output_type": "stream",
     "text": [
      "\t 1 \t 1 \t 2 \t 5 \t 3 \t 6 \t 1 \t 5 \t 6 \t 7 \t 1 \t 5 \t 5 \t 6 \t 4 \t 5 \t 6 \t 4 \t 2 \t 4 \t 4 \t 4 \t 4 \t 6 \t 4 \t 6 \t 7 \t 1 \t 5 \t 7 \t 5 \t 4 \t 2 \t 2 \t 7 \t 7 \t 1 \t 6 \t 5 \t 6 \t 6 \t 7 \t 1 \t 4 \t 3 \t 3 \t 2 \t 3 \t 6 \t 2 \t 5 \t 6 \t 1 \t 6 \t 3 \t 7 \t 6 \t 1 \t 1 \t 7 \t 6 \t 3 \t 1 \t 3 \t 6 \t 5 \n",
      "\t 1 \t 6 \t 7 \t 5 \t 7 \t 2 \t 1 \t 6 \t 2 \t 2 \t 7 \t 6 \t 7 \t 5 \t 5 \t 2 \t 7 \t 5 \t 6 \t 2 \t 4 \t 6 \t 2 \t 2 \t 6 \t 2 \t 5 \t 2 \t 7 \t 1 \t 7 \t 3 \t 4 \t 1 \t 2 \t 1 \t 7 \t 7 \t 3 \t 3 \t 4 \t 4 \t 7 \t 4 \t 5 \t 1 \t 1 \t 6 \t 2 \t 3 \t 1 \t 2 \t 5 \t 1 \t 1 \t 3 \t 4 \t 7 \t 4 \t 6 \t 3 \t 7 \t 7 \t 3 \t 3 \t 4 \n",
      "\t 3 \t 5 \t 6 \t 3 \t 5 \t 2 \t 3 \t 5 \t 7 \t 7 \t 6 \t 4 \t 5 \t 2 \t 1 \t 4 \t 7 \t 3 \t 2 \t 1 \t 5 \t 5 \t 7 \t 3 \t 5 \t 4 \t 2 \t 7 \t 5 \t 2 \t 3 \t 7 \t 2 \t 6 \t 2 \t 5 \t 5 \t 6 \t 6 \t 1 \t 4 \t 2 \t 4 \t 5 \t 5 \t 2 \t 3 \t 6 \t 7 \t 7 \t 6 \t 1 \t 6 \t 6 \t 6 \t 1 \t 2 \t 3 \t 3 \t 1 \t 5 \t 7 \t 3 \t 7 \t 5 \t 6 \n",
      "\t 5 \t 5 \t 4 \t 2 \t 7 \t 5 \t 4 \t 4 \t 6 \t 4 \t 4 \t 1 \t 4 \t 5 \t 7 \t 6 \t 1 \t 5 \t 2 \t 6 \t 1 \t 7 \t 7 \t 1 \t 6 \t 2 \t 7 \t 6 \t 5 \t 2 \t 7 \t 7 \t 6 \t 7 \t 2 \t 3 \t 6 \t 5 \t 1 \t 3 \t 7 \t 1 \t 3 \t 6 \t 1 \t 2 \t 1 \t 4 \t 6 \t 5 \t 3 \t 1 \t 5 \t 1 \t 3 \t 4 \t 3 \t 4 \t 2 \t 6 \t 6 \t 2 \t 6 \t 7 \t 1 \t 6 \n",
      "\t 4 \t 5 \t 5 \t 7 \t 6 \t 3 \t 4 \t 7 \t 7 \t 4 \t 6 \t 7 \t 5 \t 1 \t 3 \t 5 \t 5 \t 5 \t 5 \t 2 \t 4 \t 6 \t 6 \t 5 \t 2 \t 5 \t 6 \t 3 \t 5 \t 2 \t 7 \t 7 \t 5 \t 6 \t 6 \t 3 \t 4 \t 5 \t 6 \t 2 \t 5 \t 7 \t 4 \t 7 \t 2 \t 2 \t 1 \t 3 \t 1 \t 7 \t 5 \t 3 \t 5 \t 3 \t 6 \t 7 \t 2 \t 2 \t 7 \t 4 \t 6 \t 4 \t 3 \t 7 \t 5 \t 5 \n",
      "\t 1 \t 4 \t 2 \t 3 \t 6 \t 1 \t 1 \t 2 \t 5 \t 2 \t 5 \t 6 \t 1 \t 2 \t 4 \t 4 \t 5 \t 1 \t 5 \t 5 \t 4 \t 1 \t 6 \t 5 \t 2 \t 7 \t 6 \t 1 \t 5 \t 3 \t 3 \t 5 \t 4 \t 3 \t 1 \t 7 \t 5 \t 7 \t 5 \t 4 \t 3 \t 6 \t 7 \t 3 \t 6 \t 2 \t 4 \t 5 \t 6 \t 1 \t 5 \t 2 \t 7 \t 6 \t 2 \t 1 \t 4 \t 6 \t 2 \t 3 \t 5 \t 4 \t 2 \t 3 \t 3 \t 2 \n",
      "\t 7 \t 3 \t 6 \t 7 \t 6 \t 5 \t 2 \t 5 \t 6 \t 5 \t 1 \t 4 \t 2 \t 3 \t 7 \t 3 \t 2 \t 2 \t 3 \t 6 \t 1 \t 4 \t 4 \t 3 \t 2 \t 4 \t 5 \t 3 \t 1 \t 2 \t 5 \t 2 \t 2 \t 6 \t 5 \t 5 \t 4 \t 6 \t 2 \t 7 \t 7 \t 1 \t 1 \t 2 \t 2 \t 3 \t 2 \t 1 \t 1 \t 5 \t 7 \t 7 \t 4 \t 7 \t 6 \t 1 \t 5 \t 2 \t 6 \t 2 \t 7 \t 1 \t 5 \t 3 \t 3 \t 1 \n",
      "\t 7 \t 6 \t 5 \t 7 \t 7 \t 5 \t 3 \t 2 \t 2 \t 1 \t 1 \t 2 \t 6 \t 3 \t 4 \t 7 \t 5 \t 4 \t 2 \t 4 \t 6 \t 6 \t 2 \t 3 \t 3 \t 6 \t 1 \t 4 \t 6 \t 1 \t 3 \t 1 \t 7 \t 7 \t 5 \t 1 \t 4 \t 3 \t 1 \t 5 \t 4 \t 2 \t 4 \t 7 \t 1 \t 5 \t 3 \t 2 \t 2 \t 3 \t 2 \t 2 \t 4 \t 2 \t 5 \t 3 \t 7 \t 3 \t 3 \t 1 \t 3 \t 7 \t 7 \t 5 \t 4 \t 4 \n",
      "\t 5 \t 7 \t 1 \t 7 \t 7 \t 2 \t 3 \t 1 \t 7 \t 7 \t 6 \t 1 \t 3 \t 3 \t 2 \t 1 \t 6 \t 7 \t 7 \t 5 \t 6 \t 4 \t 1 \t 2 \t 6 \t 1 \t 7 \t 5 \t 6 \t 1 \t 3 \t 2 \t 3 \t 4 \t 3 \t 4 \t 4 \t 3 \t 5 \t 4 \t 3 \t 2 \t 3 \t 1 \t 4 \t 1 \t 1 \t 2 \t 3 \t 1 \t 1 \t 6 \t 1 \t 3 \t 7 \t 2 \t 1 \t 4 \t 7 \t 4 \t 3 \t 6 \t 1 \t 3 \t 2 \t 5 \n",
      "\t 6 \t 1 \t 5 \t 1 \t 6 \t 6 \t 3 \t 5 \t 3 \t 3 \t 1 \t 6 \t 2 \t 3 \t 4 \t 5 \t 5 \t 5 \t 1 \t 2 \t 7 \t 7 \t 7 \t 1 \t 1 \t 1 \t 4 \t 1 \t 4 \t 5 \t 3 \t 1 \t 7 \t 5 \t 6 \t 6 \t 7 \t 7 \t 4 \t 2 \t 1 \t 2 \t 4 \t 2 \t 1 \t 7 \t 3 \t 2 \t 2 \t 5 \t 3 \t 5 \t 4 \t 5 \t 2 \t 3 \t 6 \t 2 \t 6 \t 7 \t 5 \t 1 \t 4 \t 3 \t 5 \t 5 \n",
      "\t 4 \t 3 \t 5 \t 3 \t 1 \t 4 \t 2 \t 1 \t 2 \t 3 \t 2 \t 1 \t 6 \t 5 \t 6 \t 5 \t 3 \t 3 \t 7 \t 1 \t 7 \t 3 \t 5 \t 5 \t 5 \t 1 \t 3 \t 7 \t 7 \t 2 \t 3 \t 1 \t 4 \t 1 \t 6 \t 6 \t 2 \t 1 \t 6 \t 1 \t 3 \t 6 \t 3 \t 1 \t 4 \t 3 \t 6 \t 5 \t 3 \t 1 \t 5 \t 2 \t 1 \t 1 \t 5 \t 1 \t 1 \t 7 \t 3 \t 6 \t 2 \t 4 \t 4 \t 5 \t 3 \t 2 \n",
      "\t 6 \t 2 \t 2 \t 6 \t 2 \t 2 \t 5 \t 5 \t 6 \t 3 \t 1 \t 6 \t 3 \t 4 \t 2 \t 3 \t 4 \t 4 \t 1 \t 7 \t 4 \t 2 \t 6 \t 6 \t 4 \t 2 \t 1 \t 4 \t 3 \t 3 \t 3 \t 5 \t 3 \t 1 \t 1 \t 1 \t 3 \t 1 \t 4 \t 3 \t 6 \t 6 \t 1 \t 1 \t 5 \t 7 \t 2 \t 4 \t 1 \t 4 \t 3 \t 4 \t 5 \t 7 \t 7 \t 5 \t 7 \t 3 \t 2 \t 4 \t 3 \t 1 \t 7 \t 7 \t 5 \t 2 \n",
      "\t 2 \t 1 \t 7 \t 2 \t 3 \t 5 \t 4 \t 6 \t 5 \t 1 \t 1 \t 6 \t 3 \t 5 \t 2 \t 7 \t 3 \t 1 \t 3 \t 1 \t 3 \t 7 \t 1 \t 6 \t 1 \t 7 \t 2 \t 1 \t 1 \t 2 \t 1 \t 4 \t 1 \t 1 \t 7 \t 2 \t 6 \t 1 \t 3 \t 4 \t 1 \t 7 \t 3 \t 7 \t 6 \t 2 \t 5 \t 4 \t 3 \t 4 \t 4 \t 3 \t 3 \t 1 \t 3 \t 1 \t 4 \t 7 \t 3 \t 5 \t 3 \t 7 \t 3 \t 4 \t 1 \t 5 \n",
      "\t 5 \t 3 \t 7 \t 1 \t 6 \t 7 \t 1 \t 2 \t 4 \t 6 \t 3 \t 5 \t 5 \t 6 \t 2 \t 3 \t 4 \t 4 \t 2 \t 6 \t 2 \t 4 \t 3 \t 1 \t 3 \t 7 \t 4 \t 6 \t 1 \t 6 \t 2 \t 2 \t 1 \t 3 \t 7 \t 2 \t 2 \t 4 \t 4 \t 4 \t 2 \t 1 \t 5 \t 6 \t 5 \t 7 \t 5 \t 7 \t 6 \t 3 \t 1 \t 4 \t 3 \t 5 \t 1 \t 4 \t 1 \t 4 \t 1 \t 2 \t 7 \t 5 \t 2 \t 1 \t 4 \t 6 \n",
      "\t 6 \t 6 \t 2 \t 1 \t 1 \t 2 \t 5 \t 2 \t 5 \t 7 \t 4 \t 1 \t 7 \t 3 \t 6 \t 3 \t 3 \t 7 \t 7 \t 7 \t 6 \t 6 \t 5 \t 4 \t 2 \t 3 \t 4 \t 7 \t 6 \t 4 \t 1 \t 7 \t 2 \t 5 \t 2 \t 5 \t 1 \t 7 \t 6 \t 7 \t 5 \t 7 \t 3 \t 4 \t 4 \t 7 \t 6 \t 6 \t 3 \t 6 \t 2 \t 1 \t 5 \t 7 \t 4 \t 3 \t 1 \t 1 \t 6 \t 4 \t 1 \t 7 \t 3 \t 4 \t 5 \t 4 \n",
      "\t 5 \t 6 \t 4 \t 2 \t 7 \t 2 \t 5 \t 3 \t 1 \t 4 \t 6 \t 2 \t 2 \t 2 \t 6 \t 1 \t 6 \t 4 \t 4 \t 5 \t 5 \t 5 \t 7 \t 4 \t 6 \t 3 \t 2 \t 1 \t 4 \t 5 \t 7 \t 5 \t 7 \t 3 \t 4 \t 1 \t 2 \t 4 \t 5 \t 4 \t 7 \t 4 \t 5 \t 1 \t 1 \t 4 \t 5 \t 6 \t 2 \t 3 \t 7 \t 2 \t 7 \t 4 \t 1 \t 7 \t 2 \t 6 \t 3 \t 7 \t 1 \t 5 \t 4 \t 4 \t 4 \t 5 \n",
      "\t 5 \t 1 \t 2 \t 1 \t 4 \t 1 \t 7 \t 3 \t 5 \t 6 \t 4 \t 5 \t 3 \t 6 \t 6 \t 2 \t 1 \t 7 \t 2 \t 2 \t 2 \t 4 \t 6 \t 7 \t 7 \t 2 \t 3 \t 4 \t 1 \t 5 \t 5 \t 3 \t 3 \t 7 \t 3 \t 1 \t 1 \t 4 \t 1 \t 2 \t 7 \t 6 \t 1 \t 7 \t 5 \t 3 \t 6 \t 4 \t 4 \t 5 \t 2 \t 7 \t 1 \t 5 \t 6 \t 3 \t 3 \t 1 \t 7 \t 4 \t 1 \t 1 \t 2 \t 4 \t 6 \t 1 \n",
      "\t 4 \t 6 \t 2 \t 6 \t 4 \t 5 \t 7 \t 4 \t 3 \t 3 \t 6 \t 6 \t 4 \t 1 \t 6 \t 6 \t 4 \t 2 \t 5 \t 3 \t 7 \t 6 \t 7 \t 7 \t 7 \t 6 \t 5 \t 3 \t 7 \t 6 \t 1 \t 6 \t 2 \t 7 \t 5 \t 4 \t 2 \t 2 \t 5 \t 7 \t 5 \t 7 \t 3 \t 5 \t 6 \t 5 \t 5 \t 3 \t 7 \t 3 \t 7 \t 2 \t 1 \t 5 \t 1 \t 5 \t 3 \t 2 \t 3 \t 5 \t 2 \t 6 \t 1 \t 3 \t 4 \t 5 \n",
      "\t 6 \t 5 \t 2 \t 6 \t 1 \t 1 \t 4 \t 4 \t 4 \t 6 \t 1 \t 6 \t 7 \t 7 \t 2 \t 5 \t 1 \t 4 \t 7 \t 7 \t 5 \t 3 \t 3 \t 5 \t 6 \t 6 \t 6 \t 5 \t 3 \t 5 \t 4 \t 6 \t 6 \t 6 \t 7 \t 7 \t 2 \t 1 \t 1 \t 2 \t 3 \t 1 \t 4 \t 1 \t 5 \t 1 \t 2 \t 2 \t 4 \t 7 \t 7 \t 2 \t 5 \t 5 \t 7 \t 1 \t 4 \t 6 \t 6 \t 2 \t 2 \t 2 \t 5 \t 5 \t 3 \t 4 \n",
      "\t 2 \t 5 \t 1 \t 2 \t 3 \t 1 \t 6 \t 1 \t 5 \t 4 \t 7 \t 5 \t 5 \t 6 \t 3 \t 6 \t 3 \t 3 \t 4 \t 6 \t 5 \t 5 \t 2 \t 2 \t 5 \t 1 \t 1 \t 3 \t 6 \t 1 \t 7 \t 3 \t 6 \t 3 \t 2 \t 1 \t 4 \t 3 \t 2 \t 7 \t 4 \t 4 \t 1 \t 2 \t 3 \t 6 \t 2 \t 1 \t 4 \t 1 \t 4 \t 5 \t 6 \t 6 \t 4 \t 1 \t 7 \t 5 \t 3 \t 3 \t 6 \t 6 \t 1 \t 1 \t 4 \t 4 \n",
      "\t 3 \t 4 \t 5 \t 6 \t 3 \t 6 \t 1 \t 1 \t 6 \t 5 \t 5 \t 2 \t 6 \t 6 \t 7 \t 1 \t 4 \t 3 \t 7 \t 4 \t 2 \t 3 \t 4 \t 6 \t 6 \t 7 \t 7 \t 3 \t 6 \t 2 \t 6 \t 1 \t 5 \t 5 \t 1 \t 4 \t 5 \t 1 \t 5 \t 1 \t 5 \t 1 \t 5 \t 4 \t 3 \t 7 \t 5 \t 2 \t 6 \t 1 \t 7 \t 3 \t 6 \t 6 \t 1 \t 2 \t 2 \t 7 \t 5 \t 1 \t 5 \t 1 \t 2 \t 5 \t 5 \t 7 \n",
      "\t 2 \t 1 \t 1 \t 5 \t 3 \t 3 \t 4 \t 3 \t 4 \t 4 \t 3 \t 7 \t 1 \t 2 \t 3 \t 2 \t 4 \t 7 \t 7 \t 2 \t 6 \t 2 \t 5 \t 5 \t 3 \t 2 \t 6 \t 3 \t 7 \t 4 \t 2 \t 5 \t 4 \t 4 \t 1 \t 3 \t 3 \t 6 \t 4 \t 3 \t 4 \t 3 \t 5 \t 2 \t 1 \t 4 \t 6 \t 3 \t 4 \t 5 \t 2 \t 6 \t 3 \t 6 \t 1 \t 5 \t 2 \t 2 \t 3 \t 3 \t 2 \t 7 \t 6 \t 7 \t 5 \t 5 \n",
      "\t 6 \t 6 \t 4 \t 4 \t 1 \t 1 \t 2 \t 3 \t 4 \t 6 \t 7 \t 6 \t 7 \t 7 \t 1 \t 7 \t 1 \t 1 \t 6 \t 5 \t 7 \t 4 \t 3 \t 7 \t 5 \t 5 \t 6 \t 2 \t 7 \t 1 \t 4 \t 4 \t 6 \t 3 \t 4 \t 2 \t 4 \t 5 \t 6 \t 7 \t 4 \t 3 \t 2 \t 5 \t 6 \t 3 \t 5 \t 5 \t 5 \t 6 \t 3 \t 5 \t 2 \t 4 \t 4 \t 5 \t 4 \t 4 \t 4 \t 4 \t 1 \t 6 \t 6 \t 1 \t 6 \t 5 \n",
      "\t 5 \t 4 \t 2 \t 1 \t 7 \t 4 \t 4 \t 2 \t 4 \t 5 \t 2 \t 5 \t 7 \t 7 \t 7 \t 2 \t 2 \t 6 \t 7 \t 7 \t 3 \t 7 \t 7 \t 6 \t 3 \t 6 \t 7 \t 1 \t 4 \t 5 \t 1 \t 4 \t 1 \t 6 \t 1 \t 5 \t 4 \t 5 \t 2 \t 1 \t 2 \t 7 \t 3 \t 7 \t 5 \t 6 \t 5 \t 2 \t 5 \t 1 \t 4 \t 2 \t 3 \t 5 \t 6 \t 7 \t 7 \t 2 \t 3 \t 7 \t 2 \t 3 \t 2 \t 5 \t 2 \t 1 \n",
      "\t 1 \t 2 \t 2 \t 5 \t 4 \t 4 \t 1 \t 3 \t 5 \t 5 \t 2 \t 7 \t 2 \t 2 \t 5 \t 3 \t 3 \t 3 \t 4 \t 5 \t 5 \t 3 \t 5 \t 6 \t 4 \t 5 \t 2 \t 6 \t 1 \t 4 \t 2 \t 6 \t 2 \t 3 \t 7 \t 3 \t 2 \t 5 \t 5 \t 6 \t 2 \t 3 \t 2 \t 2 \t 7 \t 7 \t 3 \t 1 \t 3 \t 4 \t 5 \t 5 \t 3 \t 5 \t 2 \t 1 \t 6 \t 6 \t 4 \t 1 \t 4 \t 4 \t 7 \t 7 \t 3 \t 2 \n",
      "\t 6 \t 7 \t 6 \t 5 \t 5 \t 2 \t 1 \t 3 \t 5 \t 2 \t 4 \t 4 \t 2 \t 2 \t 3 \t 6 \t 5 \t 6 \t 3 \t 5 \t 6 \t 4 \t 6 \t 4 \t 7 \t 1 \t 2 \t 7 \t 7 \t 1 \t 3 \t 6 \t 1 \t 7 \t 7 \t 1 \t 6 \t 4 \t 1 \t 3 \t 5 \t 6 \t 3 \t 4 \t 4 \t 5 \t 1 \t 1 \t 5 \t 1 \t 2 \t 3 \t 2 \t 4 \t 4 \t 7 \t 3 \t 6 \t 2 \t 7 \t 7 \t 2 \t 4 \t 3 \t 6 \t 6 \n",
      "\t 1 \t 1 \t 5 \t 7 \t 1 \t 4 \t 2 \t 5 \t 1 \t 3 \t 2 \t 4 \t 2 \t 1 \t 7 \t 4 \t 3 \t 6 \t 3 \t 3 \t 7 \t 2 \t 5 \t 5 \t 2 \t 2 \t 5 \t 7 \t 7 \t 1 \t 4 \t 1 \t 1 \t 1 \t 2 \t 1 \t 1 \t 1 \t 7 \t 3 \t 4 \t 2 \t 5 \t 6 \t 3 \t 1 \t 1 \t 1 \t 2 \t 1 \t 2 \t 4 \t 6 \t 2 \t 7 \t 7 \t 2 \t 7 \t 3 \t 3 \t 1 \t 5 \t 7 \t 5 \t 4 \t 7 \n",
      "\t 4 \t 6 \t 6 \t 5 \t 3 \t 2 \t 7 \t 4 \t 7 \t 6 \t 2 \t 7 \t 7 \t 1 \t 2 \t 3 \t 1 \t 1 \t 1 \t 6 \t 2 \t 3 \t 4 \t 2 \t 7 \t 5 \t 5 \t 4 \t 4 \t 2 \t 4 \t 6 \t 7 \t 1 \t 4 \t 3 \t 5 \t 6 \t 1 \t 2 \t 6 \t 1 \t 4 \t 2 \t 5 \t 5 \t 2 \t 1 \t 5 \t 4 \t 7 \t 2 \t 7 \t 6 \t 2 \t 5 \t 5 \t 1 \t 2 \t 2 \t 1 \t 1 \t 6 \t 6 \t 5 \t 5 \n",
      "\t 6 \t 4 \t 6 \t 3 \t 7 \t 4 \t 3 \t 2 \t 4 \t 6 \t 2 \t 6 \t 1 \t 1 \t 2 \t 7 \t 3 \t 3 \t 1 \t 3 \t 7 \t 3 \t 1 \t 3 \t 7 \t 3 \t 3 \t 5 \t 3 \t 1 \t 7 \t 2 \t 5 \t 3 \t 3 \t 3 \t 1 \t 4 \t 1 \t 3 \t 6 \t 7 \t 4 \t 5 \t 5 \t 5 \t 2 \t 5 \t 3 \t 1 \t 7 \t 7 \t 6 \t 2 \t 2 \t 5 \t 5 \t 4 \t 4 \t 7 \t 4 \t 6 \t 7 \t 6 \t 3 \t 4 \n",
      "\t 3 \t 5 \t 6 \t 7 \t 5 \t 3 \t 4 \t 4 \t 4 \t 6 \t 6 \t 6 \t 3 \t 2 \t 7 \t 5 \t 5 \t 5 \t 1 \t 3 \t 6 \t 4 \t 5 \t 3 \t 3 \t 1 \t 1 \t 6 \t 7 \t 4 \t 2 \t 6 \t 7 \t 5 \t 6 \t 3 \t 3 \t 5 \t 4 \t 2 \t 6 \t 3 \t 7 \t 1 \t 2 \t 2 \t 1 \t 3 \t 4 \t 2 \t 4 \t 7 \t 3 \t 3 \t 6 \t 5 \t 7 \t 1 \t 3 \t 4 \t 4 \t 1 \t 4 \t 4 \t 1 \t 7 \n",
      "\t 5 \t 1 \t 4 \t 1 \t 5 \t 1 \t 1 \t 2 \t 5 \t 7 \t 5 \t 4 \t 6 \t 6 \t 1 \t 1 \t 3 \t 3 \t 4 \t 4 \t 5 \t 5 \t 1 \t 2 \t 2 \t 2 \t 1 \t 6 \t 1 \t 1 \t 5 \t 2 \t 3 \t 3 \t 6 \t 1 \t 5 \t 2 \t 6 \t 7 \t 2 \t 5 \t 7 \t 3 \t 5 \t 5 \t 7 \t 1 \t 2 \t 1 \t 6 \t 3 \t 1 \t 3 \t 5 \t 7 \t 3 \t 1 \t 3 \t 3 \t 4 \t 1 \t 3 \t 7 \t 6 \t 4 \n",
      "\t 7 \t 3 \t 2 \t 7 \t 4 \t 6 \t 7 \t 1 \t 5 \t 7 \t 6 \t 2 \t 4 \t 1 \t 3 \t 1 \t 6 \t 2 \t 6 \t 4 \t 1 \t 1 \t 1 \t 5 \t 3 \t 4 \t 3 \t 7 \t 7 \t 1 \t 6 \t 3 \t 2 \t 4 \t 7 \t 6 \t 7 \t 1 \t 2 \t 3 \t 6 \t 1 \t 7 \t 1 \t 6 \t 6 \t 4 \t 2 \t 7 \t 2 \t 6 \t 1 \t 4 \t 2 \t 7 \t 2 \t 1 \t 4 \t 7 \t 3 \t 6 \t 1 \t 1 \t 2 \t 7 \t 2 \n",
      "\t 3 \t 2 \t 7 \t 6 \t 2 \t 2 \t 2 \t 2 \t 6 \t 4 \t 5 \t 3 \t 3 \t 7 \t 4 \t 2 \t 5 \t 7 \t 2 \t 2 \t 5 \t 1 \t 1 \t 2 \t 2 \t 2 \t 3 \t 2 \t 2 \t 3 \t 7 \t 3 \t 7 \t 3 \t 5 \t 7 \t 2 \t 5 \t 7 \t 6 \t 1 \t 3 \t 1 \t 2 \t 4 \t 3 \t 7 \t 6 \t 4 \t 4 \t 1 \t 5 \t 3 \t 2 \t 1 \t 5 \t 7 \t 3 \t 5 \t 5 \t 7 \t 5 \t 1 \t 7 \t 5 \t 3 \n",
      "\t 1 \t 3 \t 1 \t 4 \t 5 \t 1 \t 3 \t 4 \t 5 \t 7 \t 4 \t 3 \t 4 \t 1 \t 6 \t 3 \t 4 \t 7 \t 1 \t 5 \t 5 \t 7 \t 6 \t 6 \t 2 \t 1 \t 5 \t 6 \t 2 \t 4 \t 2 \t 7 \t 7 \t 3 \t 2 \t 7 \t 7 \t 2 \t 5 \t 6 \t 2 \t 3 \t 3 \t 1 \t 4 \t 5 \t 4 \t 2 \t 3 \t 5 \t 4 \t 3 \t 2 \t 6 \t 3 \t 1 \t 1 \t 5 \t 5 \t 3 \t 3 \t 7 \t 6 \t 7 \t 4 \t 2 \n",
      "\t 7 \t 7 \t 5 \t 3 \t 7 \t 3 \t 6 \t 5 \t 6 \t 7 \t 5 \t 6 \t 6 \t 7 \t 5 \t 3 \t 2 \t 3 \t 4 \t 4 \t 2 \t 5 \t 3 \t 2 \t 3 \t 3 \t 7 \t 3 \t 5 \t 1 \t 5 \t 4 \t 7 \t 4 \t 4 \t 7 \t 7 \t 1 \t 2 \t 6 \t 7 \t 6 \t 4 \t 2 \t 6 \t 5 \t 4 \t 6 \t 2 \t 5 \t 6 \t 6 \t 1 \t 3 \t 7 \t 5 \t 2 \t 5 \t 4 \t 4 \t 7 \t 6 \t 7 \t 1 \t 7 \t 2 \n",
      "\t 7 \t 4 \t 6 \t 1 \t 1 \t 7 \t 3 \t 4 \t 3 \t 7 \t 4 \t 7 \t 1 \t 4 \t 4 \t 3 \t 5 \t 5 \t 7 \t 7 \t 1 \t 1 \t 2 \t 1 \t 4 \t 2 \t 2 \t 1 \t 1 \t 1 \t 6 \t 7 \t 1 \t 3 \t 2 \t 6 \t 4 \t 5 \t 3 \t 6 \t 2 \t 6 \t 7 \t 7 \t 1 \t 6 \t 6 \t 2 \t 7 \t 3 \t 6 \t 4 \t 4 \t 7 \t 3 \t 5 \t 6 \t 5 \t 4 \t 5 \t 5 \t 2 \t 5 \t 5 \t 5 \t 2 \n",
      "\t 4 \t 7 \t 5 \t 6 \t 4 \t 4 \t 1 \t 6 \t 1 \t 3 \t 4 \t 3 \t 7 \t 3 \t 3 \t 1 \t 1 \t 3 \t 7 \t 7 \t 1 \t 7 \t 3 \t 4 \t 5 \t 7 \t 2 \t 2 \t 3 \t 1 \t 6 \t 3 \t 1 \t 3 \t 6 \t 6 \t 2 \t 6 \t 1 \t 1 \t 2 \t 7 \t 2 \t 7 \t 6 \t 2 \t 6 \t 6 \t 7 \t 4 \t 3 \t 2 \t 6 \t 1 \t 1 \t 4 \t 5 \t 6 \t 1 \t 1 \t 4 \t 2 \t 3 \t 3 \t 2 \t 5 \n",
      "\t 7 \t 1 \t 2 \t 1 \t 4 \t 6 \t 6 \t 5 \t 4 \t 7 \t 7 \t 1 \t 1 \t 7 \t 2 \t 5 \t 5 \t 1 \t 3 \t 5 \t 5 \t 3 \t 2 \t 6 \t 7 \t 6 \t 1 \t 4 \t 7 \t 7 \t 2 \t 4 \t 6 \t 7 \t 5 \t 6 \t 3 \t 4 \t 3 \t 7 \t 3 \t 2 \t 7 \t 3 \t 6 \t 7 \t 6 \t 3 \t 3 \t 5 \t 4 \t 2 \t 4 \t 5 \t 2 \t 6 \t 5 \t 3 \t 5 \t 4 \t 6 \t 5 \t 1 \t 7 \t 5 \t 7 \n",
      "\t 3 \t 5 \t 1 \t 1 \t 3 \t 6 \t 3 \t 4 \t 3 \t 4 \t 2 \t 7 \t 2 \t 5 \t 5 \t 6 \t 3 \t 3 \t 7 \t 4 \t 1 \t 4 \t 4 \t 3 \t 5 \t 2 \t 5 \t 6 \t 2 \t 2 \t 6 \t 7 \t 3 \t 3 \t 5 \t 3 \t 4 \t 2 \t 7 \t 7 \t 6 \t 6 \t 1 \t 6 \t 1 \t 4 \t 7 \t 5 \t 7 \t 4 \t 7 \t 7 \t 6 \t 1 \t 1 \t 1 \t 6 \t 7 \t 3 \t 3 \t 2 \t 7 \t 4 \t 3 \t 3 \t 7 \n",
      "\t 6 \t 2 \t 5 \t 4 \t 3 \t 5 \t 7 \t 6 \t 3 \t 5 \t 7 \t 1 \t 1 \t 6 \t 4 \t 1 \t 4 \t 6 \t 7 \t 7 \t 4 \t 4 \t 6 \t 7 \t 6 \t 6 \t 1 \t 3 \t 3 \t 3 \t 2 \t 3 \t 6 \t 3 \t 5 \t 2 \t 5 \t 6 \t 1 \t 4 \t 1 \t 6 \t 1 \t 2 \t 4 \t 4 \t 4 \t 2 \t 6 \t 5 \t 2 \t 6 \t 6 \t 2 \t 1 \t 2 \t 1 \t 1 \t 7 \t 3 \t 4 \t 6 \t 1 \t 1 \t 7 \t 3 \n",
      "\t 5 \t 1 \t 7 \t 7 \t 5 \t 7 \t 4 \t 2 \t 7 \t 6 \t 3 \t 6 \t 6 \t 6 \t 1 \t 6 \t 4 \t 5 \t 3 \t 5 \t 4 \t 2 \t 7 \t 1 \t 7 \t 1 \t 7 \t 7 \t 5 \t 1 \t 3 \t 3 \t 4 \t 6 \t 3 \t 4 \t 3 \t 4 \t 3 \t 5 \t 7 \t 3 \t 1 \t 7 \t 5 \t 1 \t 7 \t 3 \t 2 \t 1 \t 7 \t 5 \t 7 \t 1 \t 7 \t 7 \t 2 \t 4 \t 5 \t 6 \t 3 \t 6 \t 3 \t 7 \t 5 \t 3 \n",
      "\t 7 \t 6 \t 2 \t 3 \t 6 \t 4 \t 1 \t 4 \t 3 \t 2 \t 3 \t 4 \t 1 \t 1 \t 7 \t 7 \t 5 \t 1 \t 5 \t 1 \t 4 \t 7 \t 3 \t 1 \t 6 \t 4 \t 6 \t 6 \t 7 \t 6 \t 4 \t 7 \t 1 \t 7 \t 6 \t 1 \t 2 \t 7 \t 3 \t 7 \t 2 \t 7 \t 3 \t 7 \t 1 \t 5 \t 5 \t 1 \t 1 \t 7 \t 2 \t 4 \t 7 \t 1 \t 6 \t 3 \t 1 \t 5 \t 1 \t 3 \t 1 \t 5 \t 4 \t 6 \t 7 \t 4 \n",
      "\t 6 \t 4 \t 3 \t 1 \t 3 \t 3 \t 5 \t 5 \t 3 \t 5 \t 3 \t 2 \t 4 \t 3 \t 6 \t 2 \t 7 \t 2 \t 6 \t 6 \t 2 \t 1 \t 6 \t 6 \t 5 \t 2 \t 7 \t 6 \t 5 \t 1 \t 7 \t 1 \t 2 \t 6 \t 2 \t 1 \t 2 \t 5 \t 3 \t 2 \t 7 \t 2 \t 7 \t 1 \t 2 \t 3 \t 6 \t 1 \t 2 \t 1 \t 6 \t 4 \t 1 \t 5 \t 5 \t 4 \t 4 \t 5 \t 5 \t 1 \t 3 \t 2 \t 3 \t 4 \t 3 \t 3 \n",
      "\t 2 \t 2 \t 3 \t 4 \t 1 \t 6 \t 6 \t 2 \t 1 \t 7 \t 4 \t 4 \t 2 \t 7 \t 5 \t 2 \t 3 \t 3 \t 5 \t 5 \t 1 \t 2 \t 5 \t 1 \t 2 \t 4 \t 2 \t 7 \t 1 \t 7 \t 3 \t 5 \t 6 \t 2 \t 5 \t 2 \t 1 \t 6 \t 2 \t 4 \t 5 \t 2 \t 5 \t 4 \t 3 \t 7 \t 6 \t 5 \t 2 \t 3 \t 2 \t 1 \t 2 \t 2 \t 1 \t 2 \t 3 \t 5 \t 4 \t 5 \t 5 \t 7 \t 7 \t 4 \t 6 \t 3 \n",
      "\t 3 \t 7 \t 6 \t 6 \t 5 \t 5 \t 3 \t 3 \t 4 \t 2 \t 1 \t 5 \t 1 \t 7 \t 7 \t 3 \t 1 \t 3 \t 5 \t 5 \t 2 \t 1 \t 4 \t 7 \t 7 \t 7 \t 6 \t 4 \t 7 \t 1 \t 3 \t 4 \t 6 \t 7 \t 2 \t 5 \t 6 \t 6 \t 7 \t 4 \t 4 \t 1 \t 3 \t 7 \t 6 \t 1 \t 6 \t 3 \t 1 \t 3 \t 1 \t 6 \t 1 \t 1 \t 6 \t 4 \t 2 \t 6 \t 3 \t 5 \t 4 \t 5 \t 3 \t 6 \t 4 \t 3 \n",
      "\t 3 \t 3 \t 1 \t 3 \t 4 \t 2 \t 7 \t 2 \t 5 \t 4 \t 1 \t 4 \t 6 \t 6 \t 1 \t 3 \t 1 \t 2 \t 7 \t 7 \t 3 \t 5 \t 4 \t 3 \t 4 \t 3 \t 2 \t 4 \t 1 \t 7 \t 1 \t 5 \t 6 \t 3 \t 2 \t 4 \t 7 \t 5 \t 3 \t 3 \t 3 \t 1 \t 7 \t 7 \t 3 \t 7 \t 7 \t 2 \t 6 \t 2 \t 1 \t 6 \t 3 \t 3 \t 3 \t 3 \t 1 \t 1 \t 7 \t 4 \t 4 \t 7 \t 7 \t 4 \t 4 \t 2 \n",
      "\t 7 \t 1 \t 4 \t 7 \t 5 \t 6 \t 4 \t 1 \t 4 \t 4 \t 4 \t 2 \t 1 \t 6 \t 7 \t 1 \t 7 \t 3 \t 7 \t 3 \t 3 \t 7 \t 3 \t 6 \t 1 \t 4 \t 3 \t 5 \t 6 \t 3 \t 1 \t 6 \t 1 \t 1 \t 7 \t 3 \t 1 \t 2 \t 4 \t 6 \t 6 \t 1 \t 2 \t 3 \t 5 \t 5 \t 5 \t 4 \t 7 \t 1 \t 5 \t 5 \t 5 \t 6 \t 5 \t 7 \t 6 \t 1 \t 4 \t 6 \t 4 \t 4 \t 2 \t 2 \t 3 \t 1 \n",
      "\t 7 \t 1 \t 6 \t 7 \t 4 \t 5 \t 2 \t 5 \t 6 \t 6 \t 1 \t 4 \t 2 \t 7 \t 1 \t 2 \t 2 \t 4 \t 5 \t 6 \t 2 \t 5 \t 5 \t 3 \t 7 \t 4 \t 2 \t 7 \t 4 \t 3 \t 3 \t 4 \t 4 \t 5 \t 5 \t 3 \t 2 \t 1 \t 5 \t 4 \t 4 \t 4 \t 2 \t 4 \t 5 \t 7 \t 3 \t 7 \t 6 \t 3 \t 6 \t 7 \t 4 \t 4 \t 4 \t 6 \t 2 \t 6 \t 7 \t 7 \t 4 \t 1 \t 1 \t 5 \t 4 \t 7 \n",
      "\t 1 \t 4 \t 4 \t 5 \t 7 \t 5 \t 4 \t 3 \t 4 \t 5 \t 2 \t 3 \t 5 \t 7 \t 5 \t 4 \t 7 \t 3 \t 6 \t 1 \t 5 \t 7 \t 7 \t 6 \t 6 \t 3 \t 5 \t 7 \t 7 \t 2 \t 2 \t 7 \t 1 \t 5 \t 2 \t 2 \t 4 \t 4 \t 3 \t 1 \t 1 \t 5 \t 5 \t 6 \t 7 \t 1 \t 6 \t 7 \t 6 \t 7 \t 1 \t 1 \t 1 \t 6 \t 2 \t 1 \t 5 \t 3 \t 1 \t 3 \t 6 \t 6 \t 1 \t 6 \t 5 \t 2 \n",
      "\t 2 \t 6 \t 2 \t 5 \t 4 \t 4 \t 7 \t 5 \t 3 \t 4 \t 6 \t 3 \t 4 \t 2 \t 5 \t 7 \t 3 \t 2 \t 2 \t 2 \t 3 \t 4 \t 3 \t 4 \t 6 \t 6 \t 1 \t 2 \t 4 \t 6 \t 5 \t 7 \t 1 \t 2 \t 1 \t 6 \t 3 \t 7 \t 7 \t 6 \t 5 \t 4 \t 6 \t 1 \t 7 \t 7 \t 1 \t 7 \t 2 \t 3 \t 5 \t 4 \t 1 \t 1 \t 3 \t 2 \t 6 \t 2 \t 5 \t 1 \t 1 \t 2 \t 6 \t 7 \t 7 \t 3 \n",
      "\t 3 \t 5 \t 1 \t 3 \t 6 \t 5 \t 1 \t 6 \t 5 \t 6 \t 6 \t 3 \t 5 \t 6 \t 5 \t 7 \t 1 \t 6 \t 2 \t 2 \t 2 \t 5 \t 7 \t 7 \t 6 \t 4 \t 6 \t 4 \t 2 \t 5 \t 2 \t 3 \t 4 \t 1 \t 2 \t 7 \t 4 \t 1 \t 2 \t 7 \t 1 \t 7 \t 2 \t 3 \t 1 \t 7 \t 7 \t 1 \t 6 \t 1 \t 5 \t 5 \t 5 \t 7 \t 7 \t 1 \t 5 \t 3 \t 1 \t 4 \t 4 \t 5 \t 7 \t 6 \t 4 \t 2 \n",
      "\t 5 \t 2 \t 4 \t 1 \t 5 \t 1 \t 6 \t 6 \t 7 \t 1 \t 5 \t 2 \t 4 \t 7 \t 3 \t 6 \t 7 \t 4 \t 1 \t 4 \t 2 \t 2 \t 6 \t 7 \t 6 \t 7 \t 3 \t 2 \t 3 \t 3 \t 6 \t 1 \t 7 \t 1 \t 6 \t 3 \t 5 \t 7 \t 6 \t 2 \t 5 \t 4 \t 4 \t 6 \t 3 \t 7 \t 3 \t 7 \t 6 \t 3 \t 4 \t 1 \t 3 \t 1 \t 1 \t 6 \t 5 \t 2 \t 1 \t 7 \t 5 \t 4 \t 1 \t 2 \t 4 \t 7 \n",
      "\t 4 \t 3 \t 2 \t 3 \t 6 \t 2 \t 3 \t 7 \t 7 \t 6 \t 7 \t 6 \t 1 \t 1 \t 2 \t 1 \t 5 \t 5 \t 3 \t 7 \t 3 \t 7 \t 6 \t 5 \t 2 \t 6 \t 3 \t 4 \t 5 \t 3 \t 6 \t 3 \t 2 \t 4 \t 7 \t 5 \t 5 \t 1 \t 3 \t 7 \t 3 \t 5 \t 7 \t 3 \t 3 \t 5 \t 5 \t 1 \t 3 \t 4 \t 5 \t 3 \t 3 \t 7 \t 4 \t 3 \t 4 \t 6 \t 1 \t 2 \t 6 \t 6 \t 6 \t 7 \t 3 \t 5 \n",
      "\t 2 \t 5 \t 5 \t 1 \t 2 \t 1 \t 3 \t 1 \t 7 \t 2 \t 4 \t 7 \t 6 \t 5 \t 7 \t 4 \t 4 \t 2 \t 6 \t 6 \t 2 \t 3 \t 1 \t 3 \t 6 \t 4 \t 5 \t 7 \t 2 \t 2 \t 2 \t 1 \t 2 \t 3 \t 4 \t 6 \t 5 \t 2 \t 4 \t 7 \t 6 \t 3 \t 4 \t 5 \t 5 \t 1 \t 7 \t 6 \t 2 \t 7 \t 1 \t 7 \t 1 \t 5 \t 7 \t 5 \t 2 \t 4 \t 4 \t 1 \t 6 \t 1 \t 6 \t 1 \t 2 \t 1 \n",
      "\t 3 \t 2 \t 6 \t 7 \t 6 \t 4 \t 5 \t 5 \t 5 \t 3 \t 6 \t 1 \t 3 \t 4 \t 1 \t 7 \t 1 \t 3 \t 3 \t 7 \t 6 \t 5 \t 7 \t 6 \t 6 \t 1 \t 4 \t 6 \t 5 \t 6 \t 6 \t 6 \t 1 \t 6 \t 4 \t 4 \t 3 \t 4 \t 5 \t 5 \t 6 \t 7 \t 5 \t 3 \t 2 \t 4 \t 2 \t 2 \t 2 \t 6 \t 7 \t 3 \t 3 \t 7 \t 1 \t 1 \t 6 \t 4 \t 5 \t 1 \t 5 \t 6 \t 2 \t 7 \t 4 \t 1 \n",
      "\t 1 \t 3 \t 1 \t 7 \t 2 \t 7 \t 7 \t 4 \t 6 \t 6 \t 1 \t 1 \t 7 \t 4 \t 4 \t 6 \t 7 \t 1 \t 5 \t 5 \t 3 \t 7 \t 4 \t 5 \t 5 \t 2 \t 7 \t 4 \t 5 \t 1 \t 5 \t 6 \t 2 \t 6 \t 4 \t 4 \t 7 \t 4 \t 3 \t 6 \t 1 \t 6 \t 3 \t 7 \t 7 \t 3 \t 2 \t 5 \t 6 \t 4 \t 2 \t 1 \t 5 \t 4 \t 2 \t 1 \t 3 \t 6 \t 1 \t 5 \t 6 \t 7 \t 6 \t 7 \t 7 \t 2 \n",
      "\t 2 \t 7 \t 2 \t 7 \t 3 \t 3 \t 2 \t 6 \t 5 \t 5 \t 7 \t 5 \t 3 \t 4 \t 1 \t 4 \t 6 \t 2 \t 2 \t 4 \t 7 \t 6 \t 4 \t 4 \t 3 \t 5 \t 3 \t 7 \t 5 \t 4 \t 7 \t 2 \t 5 \t 5 \t 1 \t 4 \t 7 \t 5 \t 4 \t 6 \t 2 \t 4 \t 4 \t 6 \t 7 \t 7 \t 6 \t 6 \t 1 \t 3 \t 4 \t 6 \t 6 \t 3 \t 3 \t 2 \t 3 \t 7 \t 6 \t 6 \t 6 \t 7 \t 7 \t 5 \t 1 \t 7 \n",
      "\t 5 \t 6 \t 5 \t 1 \t 6 \t 5 \t 3 \t 4 \t 2 \t 6 \t 2 \t 3 \t 7 \t 4 \t 5 \t 7 \t 5 \t 7 \t 5 \t 1 \t 7 \t 3 \t 5 \t 2 \t 5 \t 7 \t 4 \t 1 \t 7 \t 6 \t 7 \t 2 \t 1 \t 6 \t 2 \t 7 \t 2 \t 4 \t 6 \t 6 \t 6 \t 1 \t 4 \t 1 \t 5 \t 6 \t 2 \t 1 \t 1 \t 5 \t 1 \t 7 \t 1 \t 3 \t 7 \t 5 \t 2 \t 4 \t 2 \t 5 \t 4 \t 4 \t 7 \t 1 \t 1 \t 7 \n",
      "\t 2 \t 4 \t 5 \t 6 \t 1 \t 3 \t 1 \t 4 \t 2 \t 7 \t 4 \t 4 \t 6 \t 5 \t 4 \t 6 \t 1 \t 3 \t 6 \t 2 \t 7 \t 7 \t 1 \t 4 \t 3 \t 5 \t 1 \t 3 \t 4 \t 6 \t 7 \t 3 \t 5 \t 4 \t 2 \t 1 \t 6 \t 6 \t 6 \t 2 \t 6 \t 4 \t 5 \t 4 \t 4 \t 3 \t 2 \t 6 \t 1 \t 1 \t 4 \t 5 \t 1 \t 2 \t 4 \t 7 \t 2 \t 5 \t 3 \t 2 \t 2 \t 1 \t 6 \t 3 \t 4 \t 4 \n",
      "\t 5 \t 3 \t 5 \t 2 \t 4 \t 6 \t 7 \t 2 \t 3 \t 7 \t 1 \t 7 \t 5 \t 2 \t 6 \t 5 \t 3 \t 6 \t 3 \t 3 \t 7 \t 7 \t 1 \t 7 \t 6 \t 1 \t 4 \t 4 \t 3 \t 7 \t 6 \t 1 \t 6 \t 6 \t 1 \t 3 \t 6 \t 3 \t 2 \t 7 \t 4 \t 2 \t 4 \t 5 \t 2 \t 4 \t 5 \t 4 \t 5 \t 2 \t 6 \t 7 \t 2 \t 6 \t 2 \t 7 \t 4 \t 4 \t 6 \t 1 \t 3 \t 1 \t 5 \t 3 \t 6 \t 3 \n",
      "\t 3 \t 4 \t 3 \t 3 \t 3 \t 7 \t 3 \t 7 \t 5 \t 6 \t 1 \t 3 \t 5 \t 2 \t 5 \t 2 \t 6 \t 6 \t 6 \t 5 \t 2 \t 4 \t 4 \t 7 \t 7 \t 6 \t 4 \t 5 \t 4 \t 4 \t 4 \t 7 \t 7 \t 7 \t 5 \t 2 \t 2 \t 7 \t 4 \t 5 \t 5 \t 7 \t 4 \t 6 \t 6 \t 1 \t 6 \t 1 \t 7 \t 5 \t 1 \t 4 \t 1 \t 2 \t 5 \t 3 \t 4 \t 3 \t 4 \t 7 \t 2 \t 6 \t 1 \t 3 \t 7 \t 3 \n",
      "\t 2 \t 4 \t 5 \t 2 \t 3 \t 7 \t 7 \t 2 \t 4 \t 3 \t 2 \t 3 \t 7 \t 3 \t 7 \t 5 \t 4 \t 6 \t 7 \t 2 \t 7 \t 1 \t 3 \t 3 \t 6 \t 2 \t 7 \t 2 \t 5 \t 4 \t 1 \t 7 \t 4 \t 3 \t 1 \t 2 \t 6 \t 2 \t 7 \t 4 \t 5 \t 1 \t 7 \t 7 \t 1 \t 7 \t 2 \t 7 \t 7 \t 3 \t 2 \t 2 \t 5 \t 7 \t 6 \t 1 \t 2 \t 2 \t 1 \t 6 \t 6 \t 2 \t 5 \t 5 \t 1 \t 1 \n",
      "\t 1 \t 2 \t 3 \t 1 \t 3 \t 5 \t 6 \t 4 \t 2 \t 5 \t 2 \t 5 \t 3 \t 4 \t 4 \t 1 \t 2 \t 6 \t 6 \t 5 \t 7 \t 3 \t 1 \t 5 \t 4 \t 2 \t 5 \t 6 \t 6 \t 4 \t 7 \t 4 \t 4 \t 7 \t 3 \t 3 \t 6 \t 6 \t 2 \t 5 \t 4 \t 7 \t 7 \t 3 \t 5 \t 1 \t 1 \t 1 \t 7 \t 5 \t 6 \t 6 \t 7 \t 4 \t 7 \t 3 \t 2 \t 4 \t 5 \t 7 \t 5 \t 5 \t 4 \t 2 \t 5 \t 2 \n",
      "\t 1 \t 2 \t 5 \t 1 \t 2 \t 1 \t 6 \t 6 \t 1 \t 1 \t 2 \t 3 \t 1 \t 5 \t 5 \t 4 \t 7 \t 3 \t 7 \t 4 \t 1 \t 7 \t 4 \t 6 \t 2 \t 3 \t 5 \t 2 \t 5 \t 2 \t 7 \t 4 \t 3 \t 1 \t 6 \t 1 \t 5 \t 1 \t 4 \t 3 \t 1 \t 6 \t 3 \t 4 \t 7 \t 4 \t 5 \t 3 \t 4 \t 6 \t 3 \t 2 \t 7 \t 7 \t 6 \t 3 \t 4 \t 4 \t 3 \t 7 \t 5 \t 4 \t 5 \t 6 \t 3 \t 2 \n",
      "\t 3 \t 2 \t 2 \t 3 \t 1 \t 5 \t 2 \t 2 \t 7 \t 5 \t 2 \t 1 \t 7 \t 4 \t 1 \t 5 \t 1 \t 6 \t 7 \t 6 \t 3 \t 5 \t 6 \t 5 \t 2 \t 5 \t 4 \t 1 \t 6 \t 5 \t 7 \t 7 \t 7 \t 7 \t 7 \t 3 \t 3 \t 6 \t 1 \t 2 \t 6 \t 2 \t 7 \t 6 \t 5 \t 7 \t 6 \t 5 \t 5 \t 5 \t 4 \t 4 \t 1 \t 2 \t 5 \t 4 \t 5 \t 5 \t 3 \t 4 \t 7 \t 4 \t 2 \t 3 \t 4 \t 2 \n",
      "\t 7 \t 2 \t 7 \t 5 \t 4 \t 1 \t 5 \t 1 \t 7 \t 1 \t 7 \t 1 \t 2 \t 1 \t 2 \t 1 \t 1 \t 3 \t 6 \t 2 \t 5 \t 6 \t 2 \t 2 \t 4 \t 6 \t 5 \t 7 \t 1 \t 4 \t 6 \t 1 \t 6 \t 4 \t 6 \t 5 \t 2 \t 4 \t 7 \t 1 \t 2 \t 1 \t 5 \t 2 \t 4 \t 5 \t 7 \t 2 \t 6 \t 1 \t 2 \t 6 \t 3 \t 5 \t 2 \t 4 \t 5 \t 3 \t 2 \t 2 \t 4 \t 7 \t 2 \t 7 \t 5 \t 7 \n",
      "Matrices cuadradas enteras\n",
      "0 para salir\n",
      "1 para crear matriz\n",
      "2 para mostrar matriz por pantalla\n",
      "3 para ver suma de todos los números que no están en la diagonal principal\n"
     ]
    },
    {
     "name": "stdin",
     "output_type": "stream",
     "text": [
      "Elige opción 3\n"
     ]
    },
    {
     "name": "stdout",
     "output_type": "stream",
     "text": [
      "La suma de los números no en la diagonal princial es: 17157\n",
      "Matrices cuadradas enteras\n",
      "0 para salir\n",
      "1 para crear matriz\n",
      "2 para mostrar matriz por pantalla\n",
      "3 para ver suma de todos los números que no están en la diagonal principal\n"
     ]
    }
   ],
   "source": [
    "opcion=int(99)\n",
    "matrix=[]\n",
    "while opcion != 0:\n",
    "    opcion=menu()\n",
    "    if opcion == 1:\n",
    "        long=int(input(\"Dame el tamaño de la matriz cuadrada\"))\n",
    "        valor=int(input(\"Introduce el valor (mayor que cero) con el que quieres rellenar la matriz (aleatóriamente entre 1 y el número que elijas)\"))\n",
    "        matrix=crearmatrizcuadrada(long,valor)\n",
    "    elif opcion == 2:\n",
    "        muestramatriz(matrix)\n",
    "    elif opcion == 3:\n",
    "        print(\"La suma de los números no en la diagonal princial es:\",sumaNoDiag(matrix))"
   ]
  }
 ],
 "metadata": {
  "kernelspec": {
   "display_name": "Python 3",
   "language": "python",
   "name": "python3"
  },
  "language_info": {
   "codemirror_mode": {
    "name": "ipython",
    "version": 3
   },
   "file_extension": ".py",
   "mimetype": "text/x-python",
   "name": "python",
   "nbconvert_exporter": "python",
   "pygments_lexer": "ipython3",
   "version": "3.9.1+"
  }
 },
 "nbformat": 4,
 "nbformat_minor": 5
}
