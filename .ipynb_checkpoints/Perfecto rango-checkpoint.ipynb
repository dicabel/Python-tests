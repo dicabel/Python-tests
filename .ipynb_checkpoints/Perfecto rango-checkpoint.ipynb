{
 "cells": [
  {
   "cell_type": "code",
   "execution_count": 1,
   "metadata": {},
   "outputs": [],
   "source": [
    "#Dado nun número decir si es perfecto.\n",
    "#Dado un rango de nuemro decir cuales son perfectos"
   ]
  },
  {
   "cell_type": "code",
   "execution_count": 2,
   "metadata": {},
   "outputs": [],
   "source": [
    "#Pedimos el rango de números"
   ]
  },
  {
   "cell_type": "code",
   "execution_count": 3,
   "metadata": {},
   "outputs": [
    {
     "name": "stdin",
     "output_type": "stream",
     "text": [
      "Introduce el primer número del rango a calcular como perfecto 1\n",
      "Introduce el último número del rango a calcular como perfecto 500000\n"
     ]
    }
   ],
   "source": [
    "Primero=int(input(\"Introduce el primer número del rango a calcular como perfecto\"))\n",
    "Ultimo=int(input(\"Introduce el último número del rango a calcular como perfecto\"))"
   ]
  },
  {
   "cell_type": "code",
   "execution_count": null,
   "metadata": {},
   "outputs": [],
   "source": []
  },
  {
   "cell_type": "code",
   "execution_count": null,
   "metadata": {},
   "outputs": [
    {
     "name": "stdout",
     "output_type": "stream",
     "text": [
      "El número 6 es un número perfecto\n",
      "El número 28 es un número perfecto\n",
      "El número 496 es un número perfecto\n",
      "El número 8128 es un número perfecto\n"
     ]
    }
   ],
   "source": [
    "#Comenzamos por el primer número del rango, si fuera perfecto lo mostramos, seguimos con el segundo, etc hasta llegar al último+1 para incluir también el del final\n",
    "for N in range (Primero,Ultimo+1):\n",
    "#Inicianmos Divisor que son los numeros menores que N y con los que realizaremos N%Divisor\n",
    "#Iniciamos Suma, si el resultado de N%Divisor es cero añadiremos Divisor a Suma\n",
    "    Divisor=N\n",
    "    Suma=int(0)\n",
    "#Cuando Divisor sea 1 acabamos\n",
    "    while Divisor > 1:\n",
    "        Divisor=Divisor-1\n",
    "#Control while        print(\"While N\",N,\"D\",Divisor,\"S\",Suma)\n",
    "#Divisor va dismunuyeno 1 a 1 hasta que llega a 1\n",
    "        if (N%Divisor) == 0:\n",
    "#Si el resto de dividir N entre Divisor es 0 tenemos una división exacta, ése es un número que queremos así que lo sumamos para ver si al final estas suman dan el número que elegimos\n",
    "            Suma=Suma+Divisor\n",
    "#Control For    print(\"For N\",N,\"D\",Divisor,\"S\",Suma)\n",
    "#Suma va añadiendo divisores exactos, en el último paso sumará 1 ya que Divisor no es >1 por lo que será 1\n",
    "    if (N == Suma):\n",
    "        print(\"El número\",N,\"es un número perfecto\")"
   ]
  }
 ],
 "metadata": {
  "kernelspec": {
   "display_name": "Python 3",
   "language": "python",
   "name": "python3"
  },
  "language_info": {
   "codemirror_mode": {
    "name": "ipython",
    "version": 3
   },
   "file_extension": ".py",
   "mimetype": "text/x-python",
   "name": "python",
   "nbconvert_exporter": "python",
   "pygments_lexer": "ipython3",
   "version": "3.8.6"
  }
 },
 "nbformat": 4,
 "nbformat_minor": 4
}
