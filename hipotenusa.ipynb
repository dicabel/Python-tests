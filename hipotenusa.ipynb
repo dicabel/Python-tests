{
 "cells": [
  {
   "cell_type": "code",
   "execution_count": null,
   "metadata": {},
   "outputs": [],
   "source": [
    "#Cálculo hipotenusa sabiendo sus catetos en un triángilo rectángulo"
   ]
  },
  {
   "cell_type": "code",
   "execution_count": 1,
   "metadata": {},
   "outputs": [
    {
     "name": "stdin",
     "output_type": "stream",
     "text": [
      "Cual es el primer cateto? 2\n",
      "Cual es el segundo cateto? 2\n"
     ]
    },
    {
     "name": "stdout",
     "output_type": "stream",
     "text": [
      "El valor de tu hipotenusa es 4.0\n"
     ]
    }
   ],
   "source": [
    "import math\n",
    "#Pedimos valores de los catetos\n",
    "Cateto1=float(input(\"Cual es el primer cateto?\"))\n",
    "Cateto2=float(input(\"Cual es el segundo cateto?\"))\n",
    "#Calculaos la hipotenusa\n",
    "hipotenusa=math.sqrt(Cateto1**2 * Cateto2**2)\n",
    "#Mostramos valor hipotenusa\n",
    "print(\"El valor de tu hipotenusa es\",hipotenusa)"
   ]
  },
  {
   "cell_type": "code",
   "execution_count": null,
   "metadata": {},
   "outputs": [],
   "source": []
  }
 ],
 "metadata": {
  "kernelspec": {
   "display_name": "Python 3",
   "language": "python",
   "name": "python3"
  },
  "language_info": {
   "codemirror_mode": {
    "name": "ipython",
    "version": 3
   },
   "file_extension": ".py",
   "mimetype": "text/x-python",
   "name": "python",
   "nbconvert_exporter": "python",
   "pygments_lexer": "ipython3",
   "version": "3.8.6"
  }
 },
 "nbformat": 4,
 "nbformat_minor": 4
}
