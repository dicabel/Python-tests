{
 "cells": [
  {
   "cell_type": "code",
   "execution_count": 1,
   "id": "sorted-entertainment",
   "metadata": {},
   "outputs": [],
   "source": [
    "#Problemas con arrays\n",
    "#Lea matriz cuadrada, la muestre por pantalla y presente suma de todos los numeros que no estan en la diagonal principal"
   ]
  },
  {
   "cell_type": "code",
   "execution_count": null,
   "id": "blond-positive",
   "metadata": {},
   "outputs": [],
   "source": [
    "#Realiza que gestione un hospital. Menu con añadir, modificar y eliminar paciente"
   ]
  },
  {
   "cell_type": "code",
   "execution_count": 2,
   "id": "clean-rehabilitation",
   "metadata": {},
   "outputs": [],
   "source": [
    "from sys import platform\n",
    "print (platform)"
   ]
  },
  {
   "cell_type": "code",
   "execution_count": null,
   "id": "thrown-wichita",
   "metadata": {},
   "outputs": [],
   "source": [
    "from random import randint"
   ]
  },
  {
   "cell_type": "code",
   "execution_count": 3,
   "id": "empty-baseball",
   "metadata": {},
   "outputs": [
    {
     "name": "stdout",
     "output_type": "stream",
     "text": [
      "linux\n"
     ]
    }
   ],
   "source": [
    "def menu():\n",
    "    print(\"Matrices cuadradas enteras\")\n",
    "    print(\"0 para salir\")\n",
    "    print(\"1 para crear matriz\")\n",
    "    print(\"2 para mostrar matriz por pantalla\")\n",
    "    print(\"3 para ver suma de todos los números que no están en la diagonal principal\")"
   ]
  },
  {
   "cell_type": "code",
   "execution_count": null,
   "id": "arbitrary-siemens",
   "metadata": {},
   "outputs": [],
   "source": [
    "def sumaNoDiag(matriz):\n",
    "    suma = 0\n",
    "    for i in range (0,len(matriz)):\n",
    "            for j in range (0,len(matriz)):\n",
    "                if i != j:\n",
    "                    suma+=matriz[i,j]\n",
    "    return suma"
   ]
  },
  {
   "cell_type": "code",
   "execution_count": null,
   "id": "emotional-essay",
   "metadata": {},
   "outputs": [],
   "source": [
    "def muestramatriz(matriz):\n",
    "    for i in range (0,len(matriz)):\n",
    "            for j in range (0,len(matriz)):\n",
    "                print(matriz[i,j])"
   ]
  },
  {
   "cell_type": "code",
   "execution_count": null,
   "id": "behind-gamma",
   "metadata": {},
   "outputs": [],
   "source": [
    "def crearmatrizcuadrada(longitud,valor):\n",
    "    matriz=[]\n",
    "    if valor > 0:\n",
    "        for i in range (0,longitud):\n",
    "            for j in range (0,longitud):\n",
    "                matriz[i,j]=radint(1,valor)         #Valores aleatorios para rellenar la matriz\n",
    "        return matriz\n",
    "    else:\n",
    "        print (\"Valor debe ser mayor que cero\")\n",
    "    return -1        "
   ]
  },
  {
   "cell_type": "code",
   "execution_count": null,
   "id": "computational-evanescence",
   "metadata": {},
   "outputs": [],
   "source": [
    "opcion=int(99)\n",
    "matrix=[]\n",
    "while opcion != 0:\n",
    "    opcion=menu()\n",
    "    if opcion == 1:\n",
    "        long=input(\"Dame el tamaño de la matriz cuadrada\")\n",
    "        valor=input(\"Introduce el valor (mayor que cero) con el que quieres rellenar la matriz (aleatóriamente entre 1 y el número que elijas)\")\n",
    "        matrix=crearmatrizcuadrada(long,valor)\n",
    "    elif opcion == 2:\n",
    "        muestramatriz(matrix)\n",
    "    elif opcion == 3:\n",
    "        sumaNoDiag(matrix)"
   ]
  }
 ],
 "metadata": {
  "kernelspec": {
   "display_name": "Python 3",
   "language": "python",
   "name": "python3"
  },
  "language_info": {
   "codemirror_mode": {
    "name": "ipython",
    "version": 3
   },
   "file_extension": ".py",
   "mimetype": "text/x-python",
   "name": "python",
   "nbconvert_exporter": "python",
   "pygments_lexer": "ipython3",
   "version": "3.9.1+"
  }
 },
 "nbformat": 4,
 "nbformat_minor": 5
}
