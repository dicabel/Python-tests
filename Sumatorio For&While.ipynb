{
 "cells": [
  {
   "cell_type": "code",
   "execution_count": 1,
   "metadata": {},
   "outputs": [],
   "source": [
    "#Sumatorio con For y con While"
   ]
  },
  {
   "cell_type": "code",
   "execution_count": 2,
   "metadata": {},
   "outputs": [
    {
     "name": "stdin",
     "output_type": "stream",
     "text": [
      "Dame número para sumatorio 100000000\n"
     ]
    }
   ],
   "source": [
    "from time import time #importamos la función time para capturar tiempos\n",
    "Numero = int(input(\"Dame número para sumatorio\"))"
   ]
  },
  {
   "cell_type": "code",
   "execution_count": 3,
   "metadata": {},
   "outputs": [
    {
     "name": "stdout",
     "output_type": "stream",
     "text": [
      "El sumatorio de 100000000 es 5000000050000000\n",
      "El tiempo de ejecucion fue: 7.071114778518677\n"
     ]
    }
   ],
   "source": [
    "Resultado = Numero\n",
    "Posicion = 1\n",
    "tiempo_inicial = time() \n",
    "#Al Resultado le sumamos 1, luego 2 .. luego Numero-1, por eso el valor incial es Numero, para tener 1+2+...+Numero\n",
    "for Posicion in range (1,Numero):\n",
    "    Resultado= Resultado + Posicion\n",
    "print (\"El sumatorio de\",Numero,\"es\",Resultado)\n",
    "\n",
    "tiempo_final = time()\n",
    "tiempo_ejecucion = tiempo_final - tiempo_inicial\n",
    " \n",
    "print (\"El tiempo de ejecucion fue:\",tiempo_ejecucion)"
   ]
  },
  {
   "cell_type": "code",
   "execution_count": 4,
   "metadata": {},
   "outputs": [
    {
     "name": "stdout",
     "output_type": "stream",
     "text": [
      "El sumatorio de 100000000 es 5000000050000000\n",
      "El tiempo de ejecucion fue: 11.589911937713623\n"
     ]
    }
   ],
   "source": [
    "#Comenzamos en el 1, mientras no lleguemos al último número del sumatorio \n",
    "Resultado = 0\n",
    "Posicion = 1\n",
    "tiempo_inicial = time() \n",
    "while (Posicion <= Numero):\n",
    "    #añadimos, acumulamos, al resultado ese número    \n",
    "    Resultado = Resultado + Posicion\n",
    "    Posicion = Posicion +1\n",
    "    #Siguiente posicion    \n",
    "print (\"El sumatorio de\",Numero,\"es\",Resultado)  \n",
    "\n",
    "tiempo_final = time()\n",
    "tiempo_ejecucion = tiempo_final - tiempo_inicial\n",
    " \n",
    "print (\"El tiempo de ejecucion fue:\",tiempo_ejecucion)"
   ]
  }
 ],
 "metadata": {
  "kernelspec": {
   "display_name": "Python 3",
   "language": "python",
   "name": "python3"
  },
  "language_info": {
   "codemirror_mode": {
    "name": "ipython",
    "version": 3
   },
   "file_extension": ".py",
   "mimetype": "text/x-python",
   "name": "python",
   "nbconvert_exporter": "python",
   "pygments_lexer": "ipython3",
   "version": "3.9.1+"
  }
 },
 "nbformat": 4,
 "nbformat_minor": 4
}
