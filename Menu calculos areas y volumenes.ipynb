{
 "cells": [
  {
   "cell_type": "code",
   "execution_count": 1,
   "metadata": {},
   "outputs": [],
   "source": [
    "#Menú para calculo de áreas y volúmenes"
   ]
  },
  {
   "cell_type": "code",
   "execution_count": 5,
   "metadata": {},
   "outputs": [
    {
     "name": "stdout",
     "output_type": "stream",
     "text": [
      "Elige opción de cálculo\n",
      "1. Area del círculo\n",
      "2. Area del rectángulo\n",
      "3. Area del triángulo\n",
      "4. Area de un polígono regular\n",
      "5. Volúmen de una esfera\n",
      "6. Volúmen de un ciindro\n",
      "7. Volúmen de un cono\n",
      "8. Volúmen de un isocaedro\n",
      "9. Volúmen de una pirámide\n"
     ]
    },
    {
     "name": "stdin",
     "output_type": "stream",
     "text": [
      "Dime 22\n"
     ]
    },
    {
     "name": "stdout",
     "output_type": "stream",
     "text": [
      "22\n",
      "No has elegido ninfuna opción entre 1 y 9\n"
     ]
    }
   ],
   "source": [
    "#Utilizamos bibloteca math para PI y SQRT\n",
    "import math\n",
    "#Menu de opciones\n",
    "print(\"Elige opción de cálculo\")\n",
    "print(\"1. Area del círculo\")\n",
    "print(\"2. Area del rectángulo\")\n",
    "print(\"3. Area del triángulo\")\n",
    "print(\"4. Area de un polígono regular\")\n",
    "print(\"5. Volúmen de una esfera\")\n",
    "print(\"6. Volúmen de un ciindro\")\n",
    "print(\"7. Volúmen de un cono\")\n",
    "print(\"8. Volúmen de un isocaedro\")\n",
    "print(\"9. Volúmen de una pirámide\")\n",
    "#Obtención de opcion\n",
    "opcion=int(input(\"Dime\"))\n",
    "#Según la opción pedimos datos y calculamos\n",
    "if opcion==1:\n",
    "    radio=float(input(\"Dame el radio del círculo\"))\n",
    "    print(\"El area del círculo es \",2*math.pi*radio)\n",
    "elif opcion==2:\n",
    "    L1=float(input(\"Introduce el primer lado del rectángulo\"))\n",
    "    L2=float(input(\"Introduce el segundo lado del rectángulo\"))\n",
    "    print(\"El area del rectángulo es \", L1*L2)\n",
    "elif opcion==3:\n",
    "    Base=float(input(\"Introduce valor de la base del triángulo, por favor\"))\n",
    "    Altura=float(input(\"Introduce valor de la altura del triángulo, por favor\"))\n",
    "    print(\"El area del triángulo es \", Base*Altura/2)\n",
    "elif opcion==4:\n",
    "    NumeroLados=int(input(\"Introduce el número de lados del polígono regular, por favor\"))\n",
    "    Lado=float(input(\"Introduce el valor del lado del polígono regular, por favor\"))\n",
    "    Apotema=float(input(\"Introduce el valor del apotema del polígono regular, por favor\"))\n",
    "    print(\"El area del polígono regular de \",NumeroLados,\" lados es \", NumeroLados*Lado*Apotema/2)\n",
    "elif opcion==5:\n",
    "    radio=float(input(\"Dame el radio de la esfera\"))\n",
    "    print(\"El volumen de la esfera es \",4/3*math.pi*radio**3)\n",
    "elif opcion==6:\n",
    "    radio=float(input(\"Dame el radio del cilindro\"))\n",
    "    altura=float(input(\"Dame la altura del cilindro\"))\n",
    "    print(\"El volumen del cilindro es \",altura*math.pi*radio**2)\n",
    "elif opcion==7:\n",
    "    radio=float(input(\"Dame el radio del cono\"))\n",
    "    altura=float(input(\"Dame la altura del cono\"))\n",
    "    print(\"El volumen del cono es \",altura*math.pi*radio**2/3)\n",
    "elif opcion==8:\n",
    "    arista=float(input(\"Dame la arista del isocaedro\"))\n",
    "    print(\"El volumen del isocaedro es \",5/12*(3+5**(1/2))*arista**3)\n",
    "    print(\"El volumen del isocaedro com math es \",5/12*(3+math.sqrt(5))*arista**3)\n",
    "elif opcion==9:\n",
    "    lado=float(input(\"Dame el lado de la base de la pirámide\"))\n",
    "    altura=float(input(\"Dame la altura de la pirámide\"))\n",
    "    print(\"El volumen de la pirámide es \",lado**2*altura/3)\n",
    "#Si no hemos elegido ninguna de las opciones lo comunicamos\n",
    "else: print(\"No has elegido ninfuna opción entre 1 y 9\")"
   ]
  },
  {
   "cell_type": "code",
   "execution_count": null,
   "metadata": {},
   "outputs": [],
   "source": []
  }
 ],
 "metadata": {
  "kernelspec": {
   "display_name": "Python 3",
   "language": "python",
   "name": "python3"
  },
  "language_info": {
   "codemirror_mode": {
    "name": "ipython",
    "version": 3
   },
   "file_extension": ".py",
   "mimetype": "text/x-python",
   "name": "python",
   "nbconvert_exporter": "python",
   "pygments_lexer": "ipython3",
   "version": "3.9.1+"
  }
 },
 "nbformat": 4,
 "nbformat_minor": 4
}
